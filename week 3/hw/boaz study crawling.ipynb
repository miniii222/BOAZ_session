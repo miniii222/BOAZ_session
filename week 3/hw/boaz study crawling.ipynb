{
 "cells": [
  {
   "cell_type": "code",
   "execution_count": 1,
   "metadata": {},
   "outputs": [],
   "source": [
    "from selenium import webdriver"
   ]
  },
  {
   "cell_type": "code",
   "execution_count": 11,
   "metadata": {},
   "outputs": [],
   "source": [
    "driver = webdriver.Chrome('C:/Users/wjssm/Documents/chromedriver')\n",
    "driver.get(\"https://cafe.naver.com/boazbigdata\")"
   ]
  },
  {
   "cell_type": "markdown",
   "metadata": {},
   "source": [
    "### login"
   ]
  },
  {
   "cell_type": "code",
   "execution_count": 12,
   "metadata": {},
   "outputs": [],
   "source": [
    "login_info = [\"id\",\"pw\"]\n",
    "driver.find_element_by_id('id').send_keys(login_info[0])\n",
    "driver.find_element_by_id('pw').send_keys(login_info[1])\n",
    "\n",
    "driver.find_element_by_xpath('//*[@id=\"frmNIDLogin\"]/fieldset/input').click()"
   ]
  },
  {
   "cell_type": "code",
   "execution_count": 15,
   "metadata": {},
   "outputs": [],
   "source": [
    "from bs4 import BeautifulSoup\n",
    "html=driver.page_source\n",
    "soup=BeautifulSoup(html,'lxml')"
   ]
  },
  {
   "cell_type": "code",
   "execution_count": 66,
   "metadata": {},
   "outputs": [
    {
     "name": "stdout",
     "output_type": "stream",
     "text": [
      "파이썬 기초1\n",
      "파이썬 기초2\n",
      "sql 과 파이썬 연동\n",
      "선형대수1\n",
      "Cs강의\n",
      "포스코 AI\n",
      "SAS\n",
      "Rshiny 심화\n",
      "파이썬 웹 프로그래밍\n",
      "일러스트레이터\n",
      "R기초\n",
      "파이썬 심화\n",
      "파이썬 텍스트마이닝\n",
      "파이썬 크롤링\n",
      "딥러닝 기초\n",
      "인터렉티브 시각화\n",
      "선형대수2\n",
      "멘토멘티A조\n",
      "멘토멘티B조\n",
      "멘토멘티C조\n",
      "멘토멘티D조\n",
      "멘토멘티E조\n"
     ]
    }
   ],
   "source": [
    "raw_list=soup.select(\"#group433\")[0].find_all('a')\n",
    "del raw_list[-1]\n",
    "for study in raw_list :\n",
    "    print(study.text.strip())"
   ]
  }
 ],
 "metadata": {
  "kernelspec": {
   "display_name": "Python 3",
   "language": "python",
   "name": "python3"
  },
  "language_info": {
   "codemirror_mode": {
    "name": "ipython",
    "version": 3
   },
   "file_extension": ".py",
   "mimetype": "text/x-python",
   "name": "python",
   "nbconvert_exporter": "python",
   "pygments_lexer": "ipython3",
   "version": "3.6.5"
  }
 },
 "nbformat": 4,
 "nbformat_minor": 2
}
