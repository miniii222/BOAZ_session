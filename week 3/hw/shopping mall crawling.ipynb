{
 "cells": [
  {
   "cell_type": "code",
   "execution_count": 1,
   "metadata": {},
   "outputs": [],
   "source": [
    "from bs4 import BeautifulSoup\n",
    "from urllib.request import urlopen\n",
    "import pandas as pd\n",
    "import csv"
   ]
  },
  {
   "cell_type": "code",
   "execution_count": 2,
   "metadata": {},
   "outputs": [],
   "source": [
    "page_num = []\n",
    "star = []\n",
    "review = []"
   ]
  },
  {
   "cell_type": "code",
   "execution_count": 3,
   "metadata": {
    "scrolled": true
   },
   "outputs": [],
   "source": [
    "for k in list(range(1,16)) :\n",
    "    url = \"http://deal.11st.co.kr/product/SellerProductDetail.tmall?method=getProductReviewList&prdNo=87595509&page=\"+str(k)+\"&pageTypCd=first&reviewDispYn=Y&isPreview=false&reviewOptDispYn=n&optSearchBtnAndGraphLayer=n&reviewBottomBtn=Y&openDetailContents=Y&pageSize=10&isIgnoreAuth=false&lctgrNo=1001369&leafCtgrNo=0&groupProductNo=0&groupFirstViewPrdNo=0&selNo=16674487#this\"\n",
    "    html=urlopen(url).read()\n",
    "    soup=BeautifulSoup(html,'lxml')\n",
    "    \n",
    "    #star\n",
    "    raw=soup.select(\".selr_wrap\")\n",
    "    star=star+[raw[n].get_text()[-4] for n in range(len(raw))]\n",
    "\n",
    "    #page num\n",
    "    for i in range(len(raw)) :\n",
    "        page_num=page_num+[k]\n",
    "        \n",
    "    #review\n",
    "    raw=soup.select(\".bbs_cont\")\n",
    "    review = review+[raw[n].find('a').get_text().strip() for n in range(len(raw))]"
   ]
  },
  {
   "cell_type": "code",
   "execution_count": 4,
   "metadata": {},
   "outputs": [],
   "source": [
    "# 크롤링한 파일 저장 경로\n",
    "file_path = 'C:/Users/wjssm/Desktop/boaz/'\n",
    "\n",
    "# 크롤링한 파일 저장 이름\n",
    "file_name = 'result.csv'\n",
    "\n",
    "# csv 패키지 사용할 때, 저장 결과 파일 생성\n",
    "f = open(file_path + file_name, 'a', encoding='utf-8', newline='')\n",
    "\n"
   ]
  },
  {
   "cell_type": "code",
   "execution_count": 5,
   "metadata": {},
   "outputs": [],
   "source": [
    "# pandas 사용할 때, 결과 정리\n",
    "result = pd.DataFrame({'페이지': page_num, '별점': star, '리뷰': review})\n",
    "# 결과 저장\n",
    "result.to_csv(file_path + file_name,encoding='utf-8',index=False)"
   ]
  }
 ],
 "metadata": {
  "kernelspec": {
   "display_name": "Python 3",
   "language": "python",
   "name": "python3"
  },
  "language_info": {
   "codemirror_mode": {
    "name": "ipython",
    "version": 3
   },
   "file_extension": ".py",
   "mimetype": "text/x-python",
   "name": "python",
   "nbconvert_exporter": "python",
   "pygments_lexer": "ipython3",
   "version": "3.6.5"
  }
 },
 "nbformat": 4,
 "nbformat_minor": 2
}
