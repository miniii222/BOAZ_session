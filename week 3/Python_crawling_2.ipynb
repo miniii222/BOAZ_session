{
 "cells": [
  {
   "cell_type": "code",
   "execution_count": 3,
   "metadata": {
    "collapsed": true
   },
   "outputs": [],
   "source": [
    "\n",
    "# coding: utf-8\n",
    "\n",
    "# Iframe안에 있는 정보를 크롤링하기!\n",
    "#성균관대학교 수강신청 사이트에 접속해서 준호의 2017 2학기 수강과목 목록 가져오기\n",
    "\n",
    "from selenium import webdriver\n",
    "from bs4 import BeautifulSoup\n",
    "import time\n",
    "\n",
    "selenium_path = '/Users/joono/chromedriver'\n",
    "USER = \"2012312631\"\n",
    "PASS = \"boaz1123!\""
   ]
  },
  {
   "cell_type": "code",
   "execution_count": 4,
   "metadata": {},
   "outputs": [
    {
     "name": "stdout",
     "output_type": "stream",
     "text": [
      "로그인 페이지에 접근합니다.\n"
     ]
    }
   ],
   "source": [
    "\n",
    "\n",
    "browser = webdriver.Chrome(selenium_path)\n",
    "browser.implicitly_wait(3)\n",
    "\n",
    "url_login = \"https://sugang.skku.edu/skku/\"\n",
    "browser.get(url_login)\n",
    "browser.switch_to.frame(browser.find_element_by_name(\"Main\"))\n",
    "\n",
    "print(\"로그인 페이지에 접근합니다.\")"
   ]
  },
  {
   "cell_type": "code",
   "execution_count": 5,
   "metadata": {
    "collapsed": true
   },
   "outputs": [],
   "source": [
    "# 텍스트 박스에 아이디와 비밀번호 입력하기 --- (※3)\n",
    "e = browser.find_element_by_id(\"id\")\n",
    "e.clear()\n",
    "e.send_keys(USER)\n",
    "e = browser.find_element_by_id(\"pwd\")\n",
    "e.clear()\n",
    "e.send_keys(PASS)"
   ]
  },
  {
   "cell_type": "code",
   "execution_count": 6,
   "metadata": {},
   "outputs": [
    {
     "name": "stdout",
     "output_type": "stream",
     "text": [
      "로그인 버튼을 클릭합니다.\n"
     ]
    }
   ],
   "source": [
    "\n",
    "# 입력 양식 전송해서 로그인하기 --- (※4)\n",
    "form = browser.find_element_by_css_selector(\"#btn_login\")\n",
    "form.click()\n",
    "print(\"로그인 버튼을 클릭합니다.\")\n",
    "\n",
    "time.sleep(1)"
   ]
  },
  {
   "cell_type": "code",
   "execution_count": 7,
   "metadata": {
    "collapsed": true
   },
   "outputs": [],
   "source": [
    "# 준호가 수강하는 과목 리스트 가져오기 --- (※5)\n",
    "browser.switch_to.frame(browser.find_element_by_id(\"contentFrame\"))\n",
    "browser.switch_to.frame(browser.find_element_by_id(\"topFrame\"))\n",
    "browser.find_element_by_css_selector(\"#cssmenu > ul > li:nth-child(2) > a\").click()\n",
    "time.sleep(2)\n",
    "browser.switch_to.default_content()\n",
    "browser.switch_to.frame(browser.find_element_by_name(\"Main\"))\n",
    "browser.switch_to.frame(browser.find_element_by_id(\"contentFrame\"))\n",
    "browser.switch_to.frame(browser.find_element_by_id(\"mainFrame\"))\n",
    "time.sleep(2)\n",
    "brow = browser.page_source"
   ]
  },
  {
   "cell_type": "code",
   "execution_count": 8,
   "metadata": {
    "collapsed": true
   },
   "outputs": [],
   "source": [
    "# 과목 목록 출력하기 --- (※6)\n",
    "soup = BeautifulSoup(brow,'html.parser')\n",
    "\n",
    "subject_names = soup.find_all('td', attrs={'aria-describedby':'listSugang_gyogwamok_nm'})"
   ]
  },
  {
   "cell_type": "code",
   "execution_count": 9,
   "metadata": {},
   "outputs": [
    {
     "name": "stdout",
     "output_type": "stream",
     "text": [
      "- 데이터베이스설계론\n",
      "- 비즈니스영어\n",
      "- 마케팅관리\n",
      "- 실천리더십\n",
      "- 데이터사이언스와R\n",
      "- 경영정보시스템\n",
      "- 성균논어\n"
     ]
    }
   ],
   "source": [
    "for subject in subject_names:\n",
    "    print(\"-\", subject.get_text())"
   ]
  },
  {
   "cell_type": "code",
   "execution_count": null,
   "metadata": {
    "collapsed": true
   },
   "outputs": [],
   "source": []
  },
  {
   "cell_type": "code",
   "execution_count": null,
   "metadata": {
    "collapsed": true
   },
   "outputs": [],
   "source": []
  },
  {
   "cell_type": "code",
   "execution_count": null,
   "metadata": {
    "collapsed": true
   },
   "outputs": [],
   "source": []
  },
  {
   "cell_type": "code",
   "execution_count": null,
   "metadata": {
    "collapsed": true
   },
   "outputs": [],
   "source": []
  },
  {
   "cell_type": "code",
   "execution_count": null,
   "metadata": {
    "collapsed": true
   },
   "outputs": [],
   "source": []
  }
 ],
 "metadata": {
  "kernelspec": {
   "display_name": "Python 3",
   "language": "python",
   "name": "python3"
  },
  "language_info": {
   "codemirror_mode": {
    "name": "ipython",
    "version": 3
   },
   "file_extension": ".py",
   "mimetype": "text/x-python",
   "name": "python",
   "nbconvert_exporter": "python",
   "pygments_lexer": "ipython3",
   "version": "3.6.5"
  }
 },
 "nbformat": 4,
 "nbformat_minor": 1
}
