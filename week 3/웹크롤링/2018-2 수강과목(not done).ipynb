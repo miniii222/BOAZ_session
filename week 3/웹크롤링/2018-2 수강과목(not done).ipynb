{
 "cells": [
  {
   "cell_type": "code",
   "execution_count": 6,
   "metadata": {},
   "outputs": [],
   "source": [
    "from selenium import webdriver\n",
    "\n",
    "driver = webdriver.Chrome('C:/Users/wjssm/Documents/chromedriver')\n",
    "driver.get(\"http://eureka.ewha.ac.kr/eureka/hs/sg/openHssg504023q.do?popupYn=Y\")"
   ]
  },
  {
   "cell_type": "code",
   "execution_count": 10,
   "metadata": {},
   "outputs": [],
   "source": [
    "driver.find_element_by_xpath('//*[@id=\"content\"]/div[2]/div[1]/table/tbody/tr[1]/td[2]/select').click()\n",
    "driver.find_element_by_xpath('//*[@id=\"content\"]/div[2]/div[1]/table/tbody/tr[1]/td[2]/select/option[2]').click()\n",
    "driver.find_element_by_xpath('//*[@id=\"content\"]/div[2]/div[1]/table/tbody/tr[1]/td[3]/select').click()\n",
    "driver.find_element_by_xpath('//*[@id=\"content\"]/div[2]/div[1]/table/tbody/tr[1]/td[3]/select/option[36]').click()\n",
    "\n",
    "driver.find_element_by_xpath('//*[@id=\"btnSearch\"]/a').click()"
   ]
  },
  {
   "cell_type": "code",
   "execution_count": 17,
   "metadata": {},
   "outputs": [],
   "source": [
    "from bs4 import BeautifulSoup\n",
    "\n",
    "# 현재 페이지의 주소를 반환\n",
    "html = driver.page_source #내가 켜놓은 사이트 url\n",
    "soup = BeautifulSoup(html, 'lxml')"
   ]
  },
  {
   "cell_type": "code",
   "execution_count": 18,
   "metadata": {},
   "outputs": [
    {
     "name": "stdout",
     "output_type": "stream",
     "text": [
      "[]\n"
     ]
    }
   ],
   "source": [
    "print(soup.find_all('td',text=\"G11807\"))"
   ]
  },
  {
   "cell_type": "code",
   "execution_count": null,
   "metadata": {},
   "outputs": [],
   "source": []
  },
  {
   "cell_type": "code",
   "execution_count": null,
   "metadata": {},
   "outputs": [],
   "source": []
  }
 ],
 "metadata": {
  "kernelspec": {
   "display_name": "Python 3",
   "language": "python",
   "name": "python3"
  },
  "language_info": {
   "codemirror_mode": {
    "name": "ipython",
    "version": 3
   },
   "file_extension": ".py",
   "mimetype": "text/x-python",
   "name": "python",
   "nbconvert_exporter": "python",
   "pygments_lexer": "ipython3",
   "version": "3.6.5"
  }
 },
 "nbformat": 4,
 "nbformat_minor": 2
}
