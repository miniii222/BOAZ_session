{
 "cells": [
  {
   "cell_type": "code",
   "execution_count": 1,
   "metadata": {},
   "outputs": [],
   "source": [
    "import requests as rq\n",
    "from urllib import request, parse\n",
    "from bs4 import BeautifulSoup"
   ]
  },
  {
   "cell_type": "code",
   "execution_count": 5,
   "metadata": {},
   "outputs": [
    {
     "name": "stdout",
     "output_type": "stream",
     "text": [
      "검색할 단어 입력 : come\n",
      "(…쪽으로) 오다[움직이다]\n",
      "검색할 단어 입력 : qq\n",
      "종료합니다.\n"
     ]
    }
   ],
   "source": [
    "while True :\n",
    "    word=input(\"검색할 단어 입력 : \")\n",
    "    if word == \"qq\" :\n",
    "        print(\"종료합니다.\")\n",
    "        break\n",
    "    else :\n",
    "        url=\"https://endic.naver.com/search.nhn?sLn=kr&isOnlyViewEE=N&query=\"+parse.quote(word)\n",
    "        res = rq.get(url)\n",
    "        soup  = BeautifulSoup(res.content,'lxml')\n",
    "        results=soup.select('span.fnt_k05')\n",
    "        print(results[0].text)"
   ]
  }
 ],
 "metadata": {
  "kernelspec": {
   "display_name": "Python 3",
   "language": "python",
   "name": "python3"
  },
  "language_info": {
   "codemirror_mode": {
    "name": "ipython",
    "version": 3
   },
   "file_extension": ".py",
   "mimetype": "text/x-python",
   "name": "python",
   "nbconvert_exporter": "python",
   "pygments_lexer": "ipython3",
   "version": "3.6.5"
  }
 },
 "nbformat": 4,
 "nbformat_minor": 2
}
