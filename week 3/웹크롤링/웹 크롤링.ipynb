{
 "cells": [
  {
   "cell_type": "code",
   "execution_count": 0,
   "metadata": {
    "colab": {
     "autoexec": {
      "startup": false,
      "wait_interval": 0
     }
    },
    "colab_type": "code",
    "id": "uckJWvau0FI6"
   },
   "outputs": [],
   "source": [
    "##참고자료: 파이썬으로 배우는 웹 크롤러(박정태), 윤성인 - 머신러닝 딥러닝 실전 개발 입문 유투브 강의\n",
    "\n",
    "##1.원하는 웹 페이지에 request를 보내 결과 html을 받는다.\n",
    "##2.받은 html을 파싱한다.\n",
    "##3.필요한 정보만 추출한다."
   ]
  },
  {
   "cell_type": "markdown",
   "metadata": {
    "colab_type": "text",
    "id": "jrpTCcHg0FI-"
   },
   "source": [
    "# 요청 모듈"
   ]
  },
  {
   "cell_type": "markdown",
   "metadata": {
    "colab_type": "text",
    "id": "eyoq6rPv0FI_"
   },
   "source": [
    "파이썬에서 웹을 요청하는 라이브러리는 크게 두가지 requests 와 urllib이 있습니다. urllib보다는 requests를 더 많이 사용합니다. 먼저 requesrs 모듈을 설치합니다.(Anaconda 사용시 이미 깔려있습니다)\n",
    "\n",
    "\n"
   ]
  },
  {
   "cell_type": "markdown",
   "metadata": {
    "colab_type": "text",
    "id": "FB9lcQAQ0FJB"
   },
   "source": [
    "$ pip install requests"
   ]
  },
  {
   "cell_type": "code",
   "execution_count": 0,
   "metadata": {
    "colab": {
     "autoexec": {
      "startup": false,
      "wait_interval": 0
     }
    },
    "colab_type": "code",
    "id": "YTZJQBrF0FJC"
   },
   "outputs": [],
   "source": [
    "import requests as rq"
   ]
  },
  {
   "cell_type": "markdown",
   "metadata": {
    "colab_type": "text",
    "id": "x_dgfkwH0FJF"
   },
   "source": [
    "import requests 를 실행했을 때 아무런 메시지가 뜨지 않는다면 모듈이 정상적으로 import된것!  이제 본격적으로 HTML코드를 가져와보자!\n",
    "\n",
    "보아즈 10기 찬규형의 깃헙주소를 예시로 썼다. follow 부탁드린다."
   ]
  },
  {
   "cell_type": "code",
   "execution_count": 3,
   "metadata": {
    "colab": {
     "autoexec": {
      "startup": false,
      "wait_interval": 0
     },
     "base_uri": "https://localhost:8080/",
     "height": 56
    },
    "colab_type": "code",
    "executionInfo": {
     "elapsed": 1330,
     "status": "ok",
     "timestamp": 1532408766066,
     "user": {
      "displayName": "Gang min Kim",
      "photoUrl": "https://lh3.googleusercontent.com/a/default-user=s128",
      "userId": "117554242501406132618"
     },
     "user_tz": -540
    },
    "id": "Up_bqAP-0FJI",
    "outputId": "5209a5d3-0d40-4cc9-f71e-5d9afac3029e"
   },
   "outputs": [
    {
     "name": "stdout",
     "output_type": "stream",
     "text": [
      "b'\\n\\n\\n\\n\\n\\n<!DOCTYPE html>\\n<html lang=\"en\">\\n  <head>\\n    <meta charset=\"utf-8\">\\n  <link rel=\"dns-prefetch\" href=\"https://assets-cdn.github.com\">\\n  <link rel=\"dns-prefetch\" href=\"https://avatars0.githubusercontent.com\">\\n  <link rel=\"dns-prefetch\" href=\"https://avatars1.githubusercontent.com\">\\n  <link rel=\"dns-prefetch\" href=\"https://avatars2.githubusercontent.com\">\\n  <link rel=\"dns-prefetch\" href=\"https://avatars3.githubusercontent.com\">\\n  <link rel=\"dns-prefetch\" href=\"https://github-cloud.s3.amazonaws.com\">\\n  <link rel=\"dns-prefetch\" href=\"https://user-images.githubusercontent.com/\">\\n\\n\\n\\n  <link crossorigin=\"anonymous\" media=\"all\" integrity=\"sha512-pCRDtdb3GlUU48h+oRJVA8f0GddrLnU97wB7mHQ7q6c40vMbMMZsFdk0IMhkUFRqw1M/y4EkWxtaKwfeFezOkQ==\" rel=\"stylesheet\" href=\"https://assets-cdn.github.com/assets/frameworks-73f533b7cc08a9d040e601cfd38fa585.css\" />\\n  <link crossorigin=\"anonymous\" media=\"all\" integrity=\"sha512-6y0NAOyumZW4f5iG7VlDJBUKOry4lRb1mS0fAfwQYiTGX6e+r/vqqnKszdYL360A69YW4dKbksKEEV4h1HcqyQ==\" rel=\"stylesheet\" href=\"https://assets-cdn.github.com/assets/github-e47b4251db68cf59b65ab0f6de1b8838.css\" />\\n  \\n  \\n  <link crossorigin=\"anonymous\" media=\"all\" integrity=\"sha512-1Q2L3mMZmUTERt299izQNP+0f6Jdb17SoRm/kKESblBKU4mRZHembOETNbqWfJqrr+UvzmU6Mt6iJ6VvP4oJ2g==\" rel=\"stylesheet\" href=\"https://assets-cdn.github.com/assets/site-4139b251192ad0112098c9811ce21d37.css\" />\\n  \\n\\n  <meta name=\"viewport\" content=\"width=device-width\">\\n  \\n  <title>GitHub - chankoo/python</title>\\n    <meta name=\"description\" content=\"GitHub is where people build software. More than 28 million people use GitHub to discover, fork, and contribute to over 85 million projects.\">\\n    <link rel=\"search\" type=\"application/opensearchdescription+xml\" href=\"/opensearch.xml\" title=\"GitHub\">\\n  <link rel=\"fluid-icon\" href=\"https://github.com/fluidicon.png\" title=\"GitHub\">\\n  <meta property=\"fb:app_id\" content=\"1401488693436528\">\\n\\n    \\n    <meta property=\"og:image\" content=\"https://avatars2.githubusercontent.com/u/38183218?s=400&amp;v=4\" /><meta property=\"og:site_name\" content=\"GitHub\" /><meta property=\"og:type\" content=\"object\" /><meta property=\"og:title\" content=\"chankoo/python\" /><meta property=\"og:url\" content=\"https://github.com/chankoo/python\" /><meta property=\"og:description\" content=\"Contribute to python development by creating an account on GitHub.\" />\\n\\n  <link rel=\"assets\" href=\"https://assets-cdn.github.com/\">\\n  \\n  <meta name=\"pjax-timeout\" content=\"1000\">\\n  \\n  <meta name=\"request-id\" content=\"D9E8:74A5:315F1A0:4B5C0AF:5B56B3BD\" data-pjax-transient>\\n\\n\\n  \\n\\n  <meta name=\"selected-link\" value=\"repo_source\" data-pjax-transient>\\n\\n    <meta name=\"google-site-verification\" content=\"KT5gs8h0wvaagLKAVWq8bbeNwnZZK1r1XQysX3xurLU\">\\n  <meta name=\"google-site-verification\" content=\"ZzhVyEFwb7w3e0-uOTltm8Jsck2F5StVihD0exw2fsA\">\\n  <meta name=\"google-site-verification\" content=\"GXs5KoUUkNCoaAZn7wPN-t01Pywp9M3sEjnt_3_ZWPc\">\\n    <meta name=\"google-analytics\" content=\"UA-3769691-2\">\\n\\n<meta name=\"octolytics-host\" content=\"collector.githubapp.com\" /><meta name=\"octolytics-app-id\" content=\"github\" /><meta name=\"octolytics-event-url\" content=\"https://collector.githubapp.com/github-external/browser_event\" /><meta name=\"octolytics-dimension-request_id\" content=\"D9E8:74A5:315F1A0:4B5C0AF:5B56B3BD\" /><meta name=\"octolytics-dimension-region_edge\" content=\"sea\" /><meta name=\"octolytics-dimension-region_render\" content=\"iad\" />\\n<meta name=\"analytics-location\" content=\"/&lt;user-name&gt;/&lt;repo-name&gt;\" data-pjax-transient=\"true\" />\\n\\n\\n\\n\\n<meta class=\"js-ga-set\" name=\"dimension1\" content=\"Logged Out\">\\n\\n\\n  \\n\\n      <meta name=\"hostname\" content=\"github.com\">\\n    <meta name=\"user-login\" content=\"\">\\n\\n      <meta name=\"expected-hostname\" content=\"github.com\">\\n    <meta name=\"js-proxy-site-detection-payload\" content=\"YmJiMzRmZDM1ZjkwMGY1M2M1YmRjMjVmMWI0MDYyMWQ5YzY2ZTVhYTkzMGQ4ZWQ2YTQyNWU3NjdhNjBiYzUxMHx7InJlbW90ZV9hZGRyZXNzIjoiMzUuMjMwLjk3LjIxMSIsInJlcXVlc3RfaWQiOiJEOUU4Ojc0QTU6MzE1RjFBMDo0QjVDMEFGOjVCNTZCM0JEIiwidGltZXN0YW1wIjoxNTMyNDA4NzY1LCJob3N0IjoiZ2l0aHViLmNvbSJ9\">\\n\\n    <meta name=\"enabled-features\" content=\"UNIVERSE_BANNER,FREE_TRIALS,MARKETPLACE_INSIGHTS,MARKETPLACE_SEARCH,MARKETPLACE_INSIGHTS_CONVERSION_PERCENTAGES\">\\n\\n  <meta name=\"html-safe-nonce\" content=\"caeb50abe8f14738d84807739f4daa0896036682\">\\n\\n  <meta http-equiv=\"x-pjax-version\" content=\"ccacbb2cf8a112371004f6af74dc4abd\">\\n  \\n\\n      <link href=\"https://github.com/chankoo/python/commits/master.atom\" rel=\"alternate\" title=\"Recent Commits to python:master\" type=\"application/atom+xml\">\\n\\n  <meta name=\"go-import\" content=\"github.com/chankoo/python git https://github.com/chankoo/python.git\">\\n\\n  <meta name=\"octolytics-dimension-user_id\" content=\"38183218\" /><meta name=\"octolytics-dimension-user_login\" content=\"chankoo\" /><meta name=\"octolytics-dimension-repository_id\" content=\"139437361\" /><meta name=\"octolytics-dimension-repository_nwo\" content=\"chankoo/python\" /><meta name=\"octolytics-dimension-repository_public\" content=\"true\" /><meta name=\"octolytics-dimension-repository_is_fork\" content=\"false\" /><meta name=\"octolytics-dimension-repository_network_root_id\" content=\"139437361\" /><meta name=\"octolytics-dimension-repository_network_root_nwo\" content=\"chankoo/python\" /><meta name=\"octolytics-dimension-repository_explore_github_marketplace_ci_cta_shown\" content=\"false\" />\\n\\n\\n    <link rel=\"canonical\" href=\"https://github.com/chankoo/python\" data-pjax-transient>\\n\\n\\n  <meta name=\"browser-stats-url\" content=\"https://api.github.com/_private/browser/stats\">\\n\\n  <meta name=\"browser-errors-url\" content=\"https://api.github.com/_private/browser/errors\">\\n\\n  <link rel=\"mask-icon\" href=\"https://assets-cdn.github.com/pinned-octocat.svg\" color=\"#000000\">\\n  <link rel=\"icon\" type=\"image/x-icon\" class=\"js-site-favicon\" href=\"https://assets-cdn.github.com/favicon.ico\">\\n\\n<meta name=\"theme-color\" content=\"#1e2327\">\\n\\n\\n\\n<link rel=\"manifest\" href=\"/manifest.json\" crossOrigin=\"use-credentials\">\\n\\n  </head>\\n\\n  <body class=\"logged-out env-production\">\\n    \\n\\n  <div class=\"position-relative js-header-wrapper \">\\n    <a href=\"#start-of-content\" tabindex=\"1\" class=\"px-2 py-4 bg-blue text-white show-on-focus js-skip-to-content\">Skip to content</a>\\n    <div id=\"js-pjax-loader-bar\" class=\"pjax-loader-bar\"><div class=\"progress\"></div></div>\\n\\n    \\n    \\n    \\n\\n\\n\\n        \\n\\n\\n  <header class=\"Header header-logged-out  position-relative f4 py-3\" role=\"banner\" >\\n    <div class=\"container-lg d-flex px-3\">\\n      <div class=\"d-flex flex-justify-between flex-items-center\">\\n        <a class=\"header-logo-invertocat my-0\" href=\"https://github.com/\" aria-label=\"Homepage\" data-ga-click=\"(Logged out) Header, go to homepage, icon:logo-wordmark; experiment:site_header_dropdowns; group:control\">\\n          <svg height=\"32\" class=\"octicon octicon-mark-github\" viewBox=\"0 0 16 16\" version=\"1.1\" width=\"32\" aria-hidden=\"true\"><path fill-rule=\"evenodd\" d=\"M8 0C3.58 0 0 3.58 0 8c0 3.54 2.29 6.53 5.47 7.59.4.07.55-.17.55-.38 0-.19-.01-.82-.01-1.49-2.01.37-2.53-.49-2.69-.94-.09-.23-.48-.94-.82-1.13-.28-.15-.68-.52-.01-.53.63-.01 1.08.58 1.23.82.72 1.21 1.87.87 2.33.66.07-.52.28-.87.51-1.07-1.78-.2-3.64-.89-3.64-3.95 0-.87.31-1.59.82-2.15-.08-.2-.36-1.02.08-2.12 0 0 .67-.21 2.2.82.64-.18 1.32-.27 2-.27.68 0 1.36.09 2 .27 1.53-1.04 2.2-.82 2.2-.82.44 1.1.16 1.92.08 2.12.51.56.82 1.27.82 2.15 0 3.07-1.87 3.75-3.65 3.95.29.25.54.73.54 1.48 0 1.07-.01 1.93-.01 2.2 0 .21.15.46.55.38A8.013 8.013 0 0 0 16 8c0-4.42-3.58-8-8-8z\"/></svg>\\n        </a>\\n\\n      </div>\\n\\n      <div class=\"HeaderMenu d-flex flex-justify-between flex-auto\">\\n          <nav class=\"mt-0\">\\n            <ul class=\"d-flex list-style-none\">\\n                <li class=\"ml-2\">\\n                  <a class=\"js-selected-navigation-item HeaderNavlink px-0 py-2 m-0\" data-ga-click=\"Header, click, Nav menu - item:features; experiment:site_header_dropdowns; group:control\" data-selected-links=\"/features /features/project-management /features/code-review /features/project-management /features/integrations /features\" href=\"/features\">\\n                    Features\\n</a>                </li>\\n                <li class=\"ml-4\">\\n                  <a class=\"js-selected-navigation-item HeaderNavlink px-0 py-2 m-0\" data-ga-click=\"Header, click, Nav menu - item:business; experiment:site_header_dropdowns; group:control\" data-selected-links=\"/business /business/security /business/customers /business\" href=\"/business\">\\n                    Business\\n</a>                </li>\\n\\n                <li class=\"ml-4\">\\n                  <a class=\"js-selected-navigation-item HeaderNavlink px-0 py-2 m-0\" data-ga-click=\"Header, click, Nav menu - item:explore; experiment:site_header_dropdowns; group:control\" data-selected-links=\"/explore /trending /trending/developers /integrations /integrations/feature/code /integrations/feature/collaborate /integrations/feature/ship showcases showcases_search showcases_landing /explore\" href=\"/explore\">\\n                    Explore\\n</a>                </li>\\n\\n                <li class=\"ml-4\">\\n                      <a class=\"js-selected-navigation-item HeaderNavlink px-0 py-2 m-0\" data-ga-click=\"Header, click, Nav menu - item:marketplace; experiment:site_header_dropdowns; group:control\" data-selected-links=\" /marketplace\" href=\"/marketplace\">\\n                        Marketplace\\n</a>                </li>\\n                <li class=\"ml-4\">\\n                  <a class=\"js-selected-navigation-item HeaderNavlink px-0 py-2 m-0\" data-ga-click=\"Header, click, Nav menu - item:pricing; experiment:site_header_dropdowns; group:control\" data-selected-links=\"/pricing /pricing/developer /pricing/team /pricing/business-hosted /pricing/business-enterprise /pricing\" href=\"/pricing\">\\n                    Pricing\\n</a>                </li>\\n            </ul>\\n          </nav>\\n\\n        <div class=\"d-flex\">\\n            <div class=\"d-lg-flex flex-items-center mr-3\">\\n              <div class=\"header-search scoped-search site-scoped-search js-site-search position-relative js-jump-to\"\\n  role=\"search combobox\"\\n  aria-owns=\"jump-to-results\"\\n  aria-label=\"Search or jump to\"\\n  aria-haspopup=\"listbox\"\\n  aria-expanded=\"true\"\\n>\\n  <div class=\"position-relative\">\\n    <!-- \\'\"` --><!-- </textarea></xmp> --></option></form><form class=\"js-site-search-form\" data-scope-type=\"Repository\" data-scope-id=\"139437361\" data-scoped-search-url=\"/chankoo/python/search\" data-unscoped-search-url=\"/search\" action=\"/chankoo/python/search\" accept-charset=\"UTF-8\" method=\"get\"><input name=\"utf8\" type=\"hidden\" value=\"&#x2713;\" />\\n      <label class=\"form-control header-search-wrapper header-search-wrapper-jump-to position-relative d-flex flex-justify-between flex-items-center js-chromeless-input-container\">\\n        <input type=\"text\"\\n          class=\"form-control header-search-input jump-to-field js-jump-to-field js-site-search-focus js-site-search-field is-clearable\"\\n          data-hotkey=\"s,/\"\\n          name=\"q\"\\n          value=\"\"\\n          placeholder=\"Search\"\\n          data-unscoped-placeholder=\"Search GitHub\"\\n          data-scoped-placeholder=\"Search\"\\n          autocapitalize=\"off\"\\n          aria-autocomplete=\"list\"\\n          aria-controls=\"jump-to-results\"\\n          data-jump-to-suggestions-path=\"/_graphql/GetSuggestedNavigationDestinations#csrf-token=dZ6rcH1u3quHfNMsde1LSIwNqybkYSx7qgGLzPkC0nRG+QCKRivOSk5+5YSuJ1LHArIjzFNmQQt5Jz53RH6FFw==\"\\n          spellcheck=\"false\"\\n          autocomplete=\"off\"\\n          >\\n          <input type=\"hidden\" class=\"js-site-search-type-field\" name=\"type\" >\\n            <img src=\"https://assets-cdn.github.com/images/search-shortcut-hint.svg\" alt=\"\" class=\"mr-2 header-search-key-slash\">\\n\\n            <div class=\"Box position-absolute overflow-hidden d-none jump-to-suggestions js-jump-to-suggestions-container\">\\n              <ul class=\"d-none js-jump-to-suggestions-template-container\">\\n                <li class=\"d-flex flex-justify-start flex-items-center p-0 f5 navigation-item js-navigation-item\">\\n                  <a tabindex=\"-1\" class=\"no-underline d-flex flex-auto flex-items-center p-2 jump-to-suggestions-path js-jump-to-suggestion-path js-navigation-open\" href=\"\">\\n                    <div class=\"jump-to-octicon js-jump-to-octicon mr-2 text-center d-none\"></div>\\n                    <img class=\"avatar mr-2 flex-shrink-0 js-jump-to-suggestion-avatar\" alt=\"\" aria-label=\"Team\" src=\"\" width=\"28\" height=\"28\">\\n\\n                    <div class=\"jump-to-suggestion-name js-jump-to-suggestion-name flex-auto overflow-hidden text-left no-wrap css-truncate css-truncate-target\">\\n                    </div>\\n\\n                    <div class=\"border rounded-1 flex-shrink-0 bg-gray px-1 text-gray-light ml-1 f6 d-none js-jump-to-badge-search\">\\n                      <span class=\"js-jump-to-badge-search-text-default d-none\" aria-label=\"in this repository\">\\n                        In this repository\\n                      </span>\\n                      <span class=\"js-jump-to-badge-search-text-global d-none\" aria-label=\"in all of GitHub\">\\n                        All GitHub\\n                      </span>\\n                      <span aria-hidden=\"true\" class=\"d-inline-block ml-1 v-align-middle\">\\xe2\\x86\\xb5</span>\\n                    </div>\\n\\n                    <div aria-hidden=\"true\" class=\"border rounded-1 flex-shrink-0 bg-gray px-1 text-gray-light ml-1 f6 d-none d-on-nav-focus js-jump-to-badge-jump\">\\n                      Jump to\\n                      <span class=\"d-inline-block ml-1 v-align-middle\">\\xe2\\x86\\xb5</span>\\n                    </div>\\n                  </a>\\n                </li>\\n                <svg height=\"16\" width=\"16\" class=\"octicon octicon-repo flex-shrink-0 js-jump-to-repo-octicon-template\" title=\"Repository\" aria-label=\"Repository\" viewBox=\"0 0 12 16\" version=\"1.1\" role=\"img\"><path fill-rule=\"evenodd\" d=\"M4 9H3V8h1v1zm0-3H3v1h1V6zm0-2H3v1h1V4zm0-2H3v1h1V2zm8-1v12c0 .55-.45 1-1 1H6v2l-1.5-1.5L3 16v-2H1c-.55 0-1-.45-1-1V1c0-.55.45-1 1-1h10c.55 0 1 .45 1 1zm-1 10H1v2h2v-1h3v1h5v-2zm0-10H2v9h9V1z\"/></svg>\\n                <svg height=\"16\" width=\"16\" class=\"octicon octicon-project flex-shrink-0 js-jump-to-project-octicon-template\" title=\"Project\" aria-label=\"Project\" viewBox=\"0 0 15 16\" version=\"1.1\" role=\"img\"><path fill-rule=\"evenodd\" d=\"M10 12h3V2h-3v10zm-4-2h3V2H6v8zm-4 4h3V2H2v12zm-1 1h13V1H1v14zM14 0H1a1 1 0 0 0-1 1v14a1 1 0 0 0 1 1h13a1 1 0 0 0 1-1V1a1 1 0 0 0-1-1z\"/></svg>\\n                <svg height=\"16\" width=\"16\" class=\"octicon octicon-search flex-shrink-0 js-jump-to-search-octicon-template\" title=\"Search\" aria-label=\"Search\" viewBox=\"0 0 16 16\" version=\"1.1\" role=\"img\"><path fill-rule=\"evenodd\" d=\"M15.7 13.3l-3.81-3.83A5.93 5.93 0 0 0 13 6c0-3.31-2.69-6-6-6S1 2.69 1 6s2.69 6 6 6c1.3 0 2.48-.41 3.47-1.11l3.83 3.81c.19.2.45.3.7.3.25 0 .52-.09.7-.3a.996.996 0 0 0 0-1.41v.01zM7 10.7c-2.59 0-4.7-2.11-4.7-4.7 0-2.59 2.11-4.7 4.7-4.7 2.59 0 4.7 2.11 4.7 4.7 0 2.59-2.11 4.7-4.7 4.7z\"/></svg>\\n              </ul>\\n              <ul class=\"d-none js-jump-to-no-results-template-container\">\\n                <li class=\"d-flex flex-justify-center flex-items-center p-3 f5 d-none\">\\n                  <span class=\"text-gray\">No suggested jump to results</span>\\n                </li>\\n              </ul>\\n\\n              <ul id=\"jump-to-results\" class=\"js-navigation-container jump-to-suggestions-results-container js-jump-to-suggestions-results-container\" >\\n                <li class=\"d-flex flex-justify-center flex-items-center p-0 f5\">\\n                  <img src=\"https://assets-cdn.github.com/images/spinners/octocat-spinner-128.gif\" alt=\"Octocat Spinner Icon\" class=\"m-2\" width=\"28\">\\n                </li>\\n              </ul>\\n            </div>\\n      </label>\\n</form>  </div>\\n</div>\\n\\n            </div>\\n\\n          <span class=\"d-inline-block\">\\n              <div class=\"HeaderNavlink px-0 py-2 m-0\">\\n                <a class=\"text-bold text-white no-underline\" href=\"/login?return_to=%2Fchankoo%2Fpython\" data-ga-click=\"(Logged out) Header, clicked Sign in, text:sign-in; experiment:site_header_dropdowns; group:control\">Sign in</a>\\n                  <span class=\"text-gray\">or</span>\\n                  <a class=\"text-bold text-white no-underline\" href=\"/join?source=header-repo\" data-ga-click=\"(Logged out) Header, clicked Sign up, text:sign-up; experiment:site_header_dropdowns; group:control\">Sign up</a>\\n              </div>\\n          </span>\\n        </div>\\n      </div>\\n    </div>\\n  </header>\\n\\n  </div>\\n\\n  <div id=\"start-of-content\" class=\"show-on-focus\"></div>\\n\\n    <div id=\"js-flash-container\">\\n</div>\\n\\n\\n\\n  <div role=\"main\" class=\"application-main \">\\n        <div itemscope itemtype=\"http://schema.org/SoftwareSourceCode\" class=\"\">\\n    <div id=\"js-repo-pjax-container\" data-pjax-container >\\n      \\n\\n\\n\\n\\n\\n  <div class=\"pagehead repohead instapaper_ignore readability-menu experiment-repo-nav  \">\\n    <div class=\"repohead-details-container clearfix container\">\\n\\n      <ul class=\"pagehead-actions\">\\n  <li>\\n      <a href=\"/login?return_to=%2Fchankoo%2Fpython\"\\n    class=\"btn btn-sm btn-with-count tooltipped tooltipped-n\"\\n    aria-label=\"You must be signed in to watch a repository\" rel=\"nofollow\">\\n    <svg class=\"octicon octicon-eye\" viewBox=\"0 0 16 16\" version=\"1.1\" width=\"16\" height=\"16\" aria-hidden=\"true\"><path fill-rule=\"evenodd\" d=\"M8.06 2C3 2 0 8 0 8s3 6 8.06 6C13 14 16 8 16 8s-3-6-7.94-6zM8 12c-2.2 0-4-1.78-4-4 0-2.2 1.8-4 4-4 2.22 0 4 1.8 4 4 0 2.22-1.78 4-4 4zm2-4c0 1.11-.89 2-2 2-1.11 0-2-.89-2-2 0-1.11.89-2 2-2 1.11 0 2 .89 2 2z\"/></svg>\\n    Watch\\n  </a>\\n  <a class=\"social-count\" href=\"/chankoo/python/watchers\"\\n     aria-label=\"0 users are watching this repository\">\\n    0\\n  </a>\\n\\n  </li>\\n\\n  <li>\\n      <a href=\"/login?return_to=%2Fchankoo%2Fpython\"\\n    class=\"btn btn-sm btn-with-count tooltipped tooltipped-n\"\\n    aria-label=\"You must be signed in to star a repository\" rel=\"nofollow\">\\n    <svg class=\"octicon octicon-star\" viewBox=\"0 0 14 16\" version=\"1.1\" width=\"14\" height=\"16\" aria-hidden=\"true\"><path fill-rule=\"evenodd\" d=\"M14 6l-4.9-.64L7 1 4.9 5.36 0 6l3.6 3.26L2.67 14 7 11.67 11.33 14l-.93-4.74L14 6z\"/></svg>\\n    Star\\n  </a>\\n\\n    <a class=\"social-count js-social-count\" href=\"/chankoo/python/stargazers\"\\n      aria-label=\"0 users starred this repository\">\\n      0\\n    </a>\\n\\n  </li>\\n\\n  <li>\\n      <a href=\"/login?return_to=%2Fchankoo%2Fpython\"\\n        class=\"btn btn-sm btn-with-count tooltipped tooltipped-n\"\\n        aria-label=\"You must be signed in to fork a repository\" rel=\"nofollow\">\\n        <svg class=\"octicon octicon-repo-forked\" viewBox=\"0 0 10 16\" version=\"1.1\" width=\"10\" height=\"16\" aria-hidden=\"true\"><path fill-rule=\"evenodd\" d=\"M8 1a1.993 1.993 0 0 0-1 3.72V6L5 8 3 6V4.72A1.993 1.993 0 0 0 2 1a1.993 1.993 0 0 0-1 3.72V6.5l3 3v1.78A1.993 1.993 0 0 0 5 15a1.993 1.993 0 0 0 1-3.72V9.5l3-3V4.72A1.993 1.993 0 0 0 8 1zM2 4.2C1.34 4.2.8 3.65.8 3c0-.65.55-1.2 1.2-1.2.65 0 1.2.55 1.2 1.2 0 .65-.55 1.2-1.2 1.2zm3 10c-.66 0-1.2-.55-1.2-1.2 0-.65.55-1.2 1.2-1.2.65 0 1.2.55 1.2 1.2 0 .65-.55 1.2-1.2 1.2zm3-10c-.66 0-1.2-.55-1.2-1.2 0-.65.55-1.2 1.2-1.2.65 0 1.2.55 1.2 1.2 0 .65-.55 1.2-1.2 1.2z\"/></svg>\\n        Fork\\n      </a>\\n\\n    <a href=\"/chankoo/python/network/members\" class=\"social-count\"\\n       aria-label=\"0 users forked this repository\">\\n      0\\n    </a>\\n  </li>\\n</ul>\\n\\n      <h1 class=\"public \">\\n  <svg class=\"octicon octicon-repo\" viewBox=\"0 0 12 16\" version=\"1.1\" width=\"12\" height=\"16\" aria-hidden=\"true\"><path fill-rule=\"evenodd\" d=\"M4 9H3V8h1v1zm0-3H3v1h1V6zm0-2H3v1h1V4zm0-2H3v1h1V2zm8-1v12c0 .55-.45 1-1 1H6v2l-1.5-1.5L3 16v-2H1c-.55 0-1-.45-1-1V1c0-.55.45-1 1-1h10c.55 0 1 .45 1 1zm-1 10H1v2h2v-1h3v1h5v-2zm0-10H2v9h9V1z\"/></svg>\\n  <span class=\"author\" itemprop=\"author\"><a class=\"url fn\" rel=\"author\" href=\"/chankoo\">chankoo</a></span><!--\\n--><span class=\"path-divider\">/</span><!--\\n--><strong itemprop=\"name\"><a data-pjax=\"#js-repo-pjax-container\" href=\"/chankoo/python\">python</a></strong>\\n\\n</h1>\\n\\n    </div>\\n    \\n<nav class=\"reponav js-repo-nav js-sidenav-container-pjax container\"\\n     itemscope\\n     itemtype=\"http://schema.org/BreadcrumbList\"\\n     role=\"navigation\"\\n     data-pjax=\"#js-repo-pjax-container\">\\n\\n  <span itemscope itemtype=\"http://schema.org/ListItem\" itemprop=\"itemListElement\">\\n    <a class=\"js-selected-navigation-item selected reponav-item\" itemprop=\"url\" data-hotkey=\"g c\" data-selected-links=\"repo_source repo_downloads repo_commits repo_releases repo_tags repo_branches repo_packages /chankoo/python\" href=\"/chankoo/python\">\\n      <svg class=\"octicon octicon-code\" viewBox=\"0 0 14 16\" version=\"1.1\" width=\"14\" height=\"16\" aria-hidden=\"true\"><path fill-rule=\"evenodd\" d=\"M9.5 3L8 4.5 11.5 8 8 11.5 9.5 13 14 8 9.5 3zm-5 0L0 8l4.5 5L6 11.5 2.5 8 6 4.5 4.5 3z\"/></svg>\\n      <span itemprop=\"name\">Code</span>\\n      <meta itemprop=\"position\" content=\"1\">\\n</a>  </span>\\n\\n    <span itemscope itemtype=\"http://schema.org/ListItem\" itemprop=\"itemListElement\">\\n      <a itemprop=\"url\" data-hotkey=\"g i\" class=\"js-selected-navigation-item reponav-item\" data-selected-links=\"repo_issues repo_labels repo_milestones /chankoo/python/issues\" href=\"/chankoo/python/issues\">\\n        <svg class=\"octicon octicon-issue-opened\" viewBox=\"0 0 14 16\" version=\"1.1\" width=\"14\" height=\"16\" aria-hidden=\"true\"><path fill-rule=\"evenodd\" d=\"M7 2.3c3.14 0 5.7 2.56 5.7 5.7s-2.56 5.7-5.7 5.7A5.71 5.71 0 0 1 1.3 8c0-3.14 2.56-5.7 5.7-5.7zM7 1C3.14 1 0 4.14 0 8s3.14 7 7 7 7-3.14 7-7-3.14-7-7-7zm1 3H6v5h2V4zm0 6H6v2h2v-2z\"/></svg>\\n        <span itemprop=\"name\">Issues</span>\\n        <span class=\"Counter\">1</span>\\n        <meta itemprop=\"position\" content=\"2\">\\n</a>    </span>\\n\\n  <span itemscope itemtype=\"http://schema.org/ListItem\" itemprop=\"itemListElement\">\\n    <a data-hotkey=\"g p\" itemprop=\"url\" class=\"js-selected-navigation-item reponav-item\" data-selected-links=\"repo_pulls checks /chankoo/python/pulls\" href=\"/chankoo/python/pulls\">\\n      <svg class=\"octicon octicon-git-pull-request\" viewBox=\"0 0 12 16\" version=\"1.1\" width=\"12\" height=\"16\" aria-hidden=\"true\"><path fill-rule=\"evenodd\" d=\"M11 11.28V5c-.03-.78-.34-1.47-.94-2.06C9.46 2.35 8.78 2.03 8 2H7V0L4 3l3 3V4h1c.27.02.48.11.69.31.21.2.3.42.31.69v6.28A1.993 1.993 0 0 0 10 15a1.993 1.993 0 0 0 1-3.72zm-1 2.92c-.66 0-1.2-.55-1.2-1.2 0-.65.55-1.2 1.2-1.2.65 0 1.2.55 1.2 1.2 0 .65-.55 1.2-1.2 1.2zM4 3c0-1.11-.89-2-2-2a1.993 1.993 0 0 0-1 3.72v6.56A1.993 1.993 0 0 0 2 15a1.993 1.993 0 0 0 1-3.72V4.72c.59-.34 1-.98 1-1.72zm-.8 10c0 .66-.55 1.2-1.2 1.2-.65 0-1.2-.55-1.2-1.2 0-.65.55-1.2 1.2-1.2.65 0 1.2.55 1.2 1.2zM2 4.2C1.34 4.2.8 3.65.8 3c0-.65.55-1.2 1.2-1.2.65 0 1.2.55 1.2 1.2 0 .65-.55 1.2-1.2 1.2z\"/></svg>\\n      <span itemprop=\"name\">Pull requests</span>\\n      <span class=\"Counter\">0</span>\\n      <meta itemprop=\"position\" content=\"3\">\\n</a>  </span>\\n\\n    <a data-hotkey=\"g b\" class=\"js-selected-navigation-item reponav-item\" data-selected-links=\"repo_projects new_repo_project repo_project /chankoo/python/projects\" href=\"/chankoo/python/projects\">\\n      <svg class=\"octicon octicon-project\" viewBox=\"0 0 15 16\" version=\"1.1\" width=\"15\" height=\"16\" aria-hidden=\"true\"><path fill-rule=\"evenodd\" d=\"M10 12h3V2h-3v10zm-4-2h3V2H6v8zm-4 4h3V2H2v12zm-1 1h13V1H1v14zM14 0H1a1 1 0 0 0-1 1v14a1 1 0 0 0 1 1h13a1 1 0 0 0 1-1V1a1 1 0 0 0-1-1z\"/></svg>\\n      Projects\\n      <span class=\"Counter\" >0</span>\\n</a>\\n\\n\\n  <a class=\"js-selected-navigation-item reponav-item\" data-selected-links=\"repo_graphs repo_contributors dependency_graph pulse /chankoo/python/pulse\" href=\"/chankoo/python/pulse\">\\n    <svg class=\"octicon octicon-graph\" viewBox=\"0 0 16 16\" version=\"1.1\" width=\"16\" height=\"16\" aria-hidden=\"true\"><path fill-rule=\"evenodd\" d=\"M16 14v1H0V0h1v14h15zM5 13H3V8h2v5zm4 0H7V3h2v10zm4 0h-2V6h2v7z\"/></svg>\\n    Insights\\n</a>\\n\\n</nav>\\n\\n\\n  </div>\\n\\n<div class=\"container new-discussion-timeline experiment-repo-nav  \">\\n  <div class=\"repository-content \">\\n\\n    \\n      <div class=\"signup-prompt-bg rounded-1\">\\n      <div class=\"signup-prompt p-4 text-center mb-4 rounded-1\">\\n        <div class=\"position-relative\">\\n          <!-- \\'\"` --><!-- </textarea></xmp> --></option></form><form action=\"/site/dismiss_signup_prompt\" accept-charset=\"UTF-8\" method=\"post\"><input name=\"utf8\" type=\"hidden\" value=\"&#x2713;\" /><input type=\"hidden\" name=\"authenticity_token\" value=\"6hctmGOjS98ZsyAnL6xdpr9Dd1Za/wJ4NBOHkIx6BcIYldHX9rOhO43v9ZYLNWay/8KXGlCVJqtDe1+Lq/0YNA==\" />\\n            <button type=\"submit\" class=\"position-absolute top-0 right-0 btn-link link-gray\" data-ga-click=\"(Logged out) Sign up prompt, clicked Dismiss, text:dismiss\">\\n              Dismiss\\n            </button>\\n</form>          <h3 class=\"pt-2\">Join GitHub today</h3>\\n          <p class=\"col-6 mx-auto\">GitHub is home to over 28 million developers working together to host and review code, manage projects, and build software together.</p>\\n          <a class=\"btn btn-primary\" href=\"/join?source=prompt-code\" data-ga-click=\"(Logged out) Sign up prompt, clicked Sign up, text:sign-up\">Sign up</a>\\n        </div>\\n      </div>\\n    </div>\\n\\n\\n  <div class=\"js-repo-meta-container\">\\n  <div class=\"repository-meta mb-0 mb-3 js-repo-meta-edit js-details-container \">\\n    <div class=\"repository-meta-content col-11 mb-1\">\\n          <em class=\"d-block text-gray\">\\n            No description, website, or topics provided.\\n          </em>\\n    </div>\\n\\n  </div>\\n\\n</div>\\n\\n\\n\\n  <div class=\"overall-summary overall-summary-bottomless\">\\n    <div class=\"stats-switcher-viewport js-stats-switcher-viewport\">\\n      <div class=\"stats-switcher-wrapper\">\\n      <ul class=\"numbers-summary\">\\n        <li class=\"commits\">\\n          <a data-pjax href=\"/chankoo/python/commits/master\">\\n              <svg class=\"octicon octicon-history\" viewBox=\"0 0 14 16\" version=\"1.1\" width=\"14\" height=\"16\" aria-hidden=\"true\"><path fill-rule=\"evenodd\" d=\"M8 13H6V6h5v2H8v5zM7 1C4.81 1 2.87 2.02 1.59 3.59L0 2v4h4L2.5 4.5C3.55 3.17 5.17 2.3 7 2.3c3.14 0 5.7 2.56 5.7 5.7s-2.56 5.7-5.7 5.7A5.71 5.71 0 0 1 1.3 8c0-.34.03-.67.09-1H.08C.03 7.33 0 7.66 0 8c0 3.86 3.14 7 7 7s7-3.14 7-7-3.14-7-7-7z\"/></svg>\\n              <span class=\"num text-emphasized\">\\n                59\\n              </span>\\n              commits\\n          </a>\\n        </li>\\n        <li>\\n          <a data-pjax href=\"/chankoo/python/branches\">\\n            <svg class=\"octicon octicon-git-branch\" viewBox=\"0 0 10 16\" version=\"1.1\" width=\"10\" height=\"16\" aria-hidden=\"true\"><path fill-rule=\"evenodd\" d=\"M10 5c0-1.11-.89-2-2-2a1.993 1.993 0 0 0-1 3.72v.3c-.02.52-.23.98-.63 1.38-.4.4-.86.61-1.38.63-.83.02-1.48.16-2 .45V4.72a1.993 1.993 0 0 0-1-3.72C.88 1 0 1.89 0 3a2 2 0 0 0 1 1.72v6.56c-.59.35-1 .99-1 1.72 0 1.11.89 2 2 2 1.11 0 2-.89 2-2 0-.53-.2-1-.53-1.36.09-.06.48-.41.59-.47.25-.11.56-.17.94-.17 1.05-.05 1.95-.45 2.75-1.25S8.95 7.77 9 6.73h-.02C9.59 6.37 10 5.73 10 5zM2 1.8c.66 0 1.2.55 1.2 1.2 0 .65-.55 1.2-1.2 1.2C1.35 4.2.8 3.65.8 3c0-.65.55-1.2 1.2-1.2zm0 12.41c-.66 0-1.2-.55-1.2-1.2 0-.65.55-1.2 1.2-1.2.65 0 1.2.55 1.2 1.2 0 .65-.55 1.2-1.2 1.2zm6-8c-.66 0-1.2-.55-1.2-1.2 0-.65.55-1.2 1.2-1.2.65 0 1.2.55 1.2 1.2 0 .65-.55 1.2-1.2 1.2z\"/></svg>\\n            <span class=\"num text-emphasized\">\\n              1\\n            </span>\\n            branch\\n          </a>\\n        </li>\\n\\n        <li>\\n          <a href=\"/chankoo/python/releases\">\\n            <svg class=\"octicon octicon-tag\" viewBox=\"0 0 14 16\" version=\"1.1\" width=\"14\" height=\"16\" aria-hidden=\"true\"><path fill-rule=\"evenodd\" d=\"M7.685 1.72a2.49 2.49 0 0 0-1.76-.726H3.48A2.5 2.5 0 0 0 .994 3.48v2.456c0 .656.269 1.292.726 1.76l6.024 6.024a.99.99 0 0 0 1.402 0l4.563-4.563a.99.99 0 0 0 0-1.402L7.685 1.72zM2.366 7.048A1.54 1.54 0 0 1 1.9 5.925V3.48c0-.874.716-1.58 1.58-1.58h2.456c.418 0 .825.159 1.123.467l6.104 6.094-4.702 4.702-6.094-6.114zm.626-4.066h1.989v1.989H2.982V2.982h.01z\"/></svg>\\n            <span class=\"num text-emphasized\">\\n              0\\n            </span>\\n            releases\\n          </a>\\n        </li>\\n\\n        <li>\\n            <include-fragment src=\"/chankoo/python/contributors_size\">\\n              <a href=\"/chankoo/python/graphs/contributors\">\\n                <svg class=\"octicon octicon-organization\" viewBox=\"0 0 16 16\" version=\"1.1\" width=\"16\" height=\"16\" aria-hidden=\"true\"><path fill-rule=\"evenodd\" d=\"M16 12.999c0 .439-.45 1-1 1H7.995c-.539 0-.994-.447-.995-.999H1c-.54 0-1-.561-1-1 0-2.634 3-4 3-4s.229-.409 0-1c-.841-.621-1.058-.59-1-3 .058-2.419 1.367-3 2.5-3s2.442.58 2.5 3c.058 2.41-.159 2.379-1 3-.229.59 0 1 0 1s1.549.711 2.42 2.088C9.196 9.369 10 8.999 10 8.999s.229-.409 0-1c-.841-.62-1.058-.59-1-3 .058-2.419 1.367-3 2.5-3s2.437.581 2.495 3c.059 2.41-.158 2.38-1 3-.229.59 0 1 0 1s3.005 1.366 3.005 4z\"/></svg>\\n                <span class=\"num text-emphasized\"></span>\\n                Fetching contributors\\n              </a>\\n</include-fragment>        </li>\\n      </ul>\\n\\n        <div class=\"repository-lang-stats\">\\n          <ol class=\"repository-lang-stats-numbers\">\\n            <li>\\n                <a href=\"/chankoo/python/search?l=jupyter-notebook\"  data-ga-click=\"Repository, language stats search click, location:repo overview\">\\n                  <span class=\"color-block language-color\" style=\"background-color:#DA5B0B;\"></span>\\n                  <span class=\"lang\">Jupyter Notebook</span>\\n                  <span class=\"percent\">100.0%</span>\\n                </a>\\n            </li>\\n          </ol>\\n        </div>\\n      </div>\\n    </div>\\n  </div>\\n\\n    <div class=\"repository-lang-stats-graph js-toggle-lang-stats\" title=\"Click for language details\" data-ga-click=\"Repository, language bar stats toggle, location:repo overview\">\\n      <span class=\"language-color\" aria-label=\"Jupyter Notebook 100.0%\" style=\"width:100.0%; background-color:#DA5B0B;\" itemprop=\"keywords\">Jupyter Notebook</span>\\n    </div>\\n\\n\\n\\n\\n  <div class=\"file-navigation in-mid-page d-flex flex-items-start\">\\n  \\n<div class=\"select-menu branch-select-menu js-menu-container js-select-menu float-left\">\\n  <button class=\" btn btn-sm select-menu-button js-menu-target css-truncate\" data-hotkey=\"w\"\\n    \\n    type=\"button\" aria-label=\"Switch branches or tags\" aria-expanded=\"false\" aria-haspopup=\"true\">\\n      <i>Branch:</i>\\n      <span class=\"js-select-button css-truncate-target\">master</span>\\n  </button>\\n\\n  <div class=\"select-menu-modal-holder js-menu-content js-navigation-container\" data-pjax>\\n\\n    <div class=\"select-menu-modal\">\\n      <div class=\"select-menu-header\">\\n        <svg class=\"octicon octicon-x js-menu-close\" role=\"img\" aria-label=\"Close\" viewBox=\"0 0 12 16\" version=\"1.1\" width=\"12\" height=\"16\"><path fill-rule=\"evenodd\" d=\"M7.48 8l3.75 3.75-1.48 1.48L6 9.48l-3.75 3.75-1.48-1.48L4.52 8 .77 4.25l1.48-1.48L6 6.52l3.75-3.75 1.48 1.48L7.48 8z\"/></svg>\\n        <span class=\"select-menu-title\">Switch branches/tags</span>\\n      </div>\\n\\n      <div class=\"select-menu-filters\">\\n        <div class=\"select-menu-text-filter\">\\n          <input type=\"text\" aria-label=\"Filter branches/tags\" id=\"context-commitish-filter-field\" class=\"form-control js-filterable-field js-navigation-enable\" placeholder=\"Filter branches/tags\">\\n        </div>\\n        <div class=\"select-menu-tabs\">\\n          <ul>\\n            <li class=\"select-menu-tab\">\\n              <a href=\"#\" data-tab-filter=\"branches\" data-filter-placeholder=\"Filter branches/tags\" class=\"js-select-menu-tab\" role=\"tab\">Branches</a>\\n            </li>\\n            <li class=\"select-menu-tab\">\\n              <a href=\"#\" data-tab-filter=\"tags\" data-filter-placeholder=\"Find a tag\\xe2\\x80\\xa6\" class=\"js-select-menu-tab\" role=\"tab\">Tags</a>\\n            </li>\\n          </ul>\\n        </div>\\n      </div>\\n\\n      <div class=\"select-menu-list select-menu-tab-bucket js-select-menu-tab-bucket\" data-tab-filter=\"branches\" role=\"menu\">\\n\\n        <div data-filterable-for=\"context-commitish-filter-field\" data-filterable-type=\"substring\">\\n\\n\\n            <a class=\"select-menu-item js-navigation-item js-navigation-open selected\"\\n               href=\"/chankoo/python/tree/master\"\\n               data-name=\"master\"\\n               data-skip-pjax=\"true\"\\n               rel=\"nofollow\">\\n              <svg class=\"octicon octicon-check select-menu-item-icon\" viewBox=\"0 0 12 16\" version=\"1.1\" width=\"12\" height=\"16\" aria-hidden=\"true\"><path fill-rule=\"evenodd\" d=\"M12 5l-8 8-4-4 1.5-1.5L4 10l6.5-6.5L12 5z\"/></svg>\\n              <span class=\"select-menu-item-text css-truncate-target js-select-menu-filter-text\">\\n                master\\n              </span>\\n            </a>\\n        </div>\\n\\n          <div class=\"select-menu-no-results\">Nothing to show</div>\\n      </div>\\n\\n      <div class=\"select-menu-list select-menu-tab-bucket js-select-menu-tab-bucket\" data-tab-filter=\"tags\">\\n        <div data-filterable-for=\"context-commitish-filter-field\" data-filterable-type=\"substring\">\\n\\n\\n        </div>\\n\\n        <div class=\"select-menu-no-results\">Nothing to show</div>\\n      </div>\\n\\n    </div>\\n  </div>\\n</div>\\n\\n\\n        <button type=\"button\" class=\"btn btn-sm disabled tooltipped tooltipped-n new-pull-request-btn\" aria-label=\"You must be signed in to create a pull request\">\\n          New pull request\\n        </button>\\n\\n  <div class=\"breadcrumb flex-auto\">\\n    \\n  </div>\\n\\n  <div class=\"BtnGroup\">\\n\\n    <a href=\"/chankoo/python/find/master\"\\n      class=\"btn btn-sm empty-icon float-right BtnGroup-item\"\\n      data-pjax\\n      data-hotkey=\"t\"\\n      data-ga-click=\"Repository, find file, location:repo overview\">\\n      Find file\\n    </a>\\n  </div>\\n  \\n\\n    <details class=\"get-repo-select-menu js-get-repo-select-menu position-relative details-overlay details-reset\">\\n  <summary class=\"btn btn-sm btn-primary\">\\n    Clone or download\\n    <span class=\"dropdown-caret\"></span>\\n  </summary>\\n  <div class=\"position-relative\">\\n    <div class=\"get-repo-modal dropdown-menu dropdown-menu-sw pb-0 js-toggler-container  js-get-repo-modal\">\\n\\n      <div class=\"get-repo-modal-options\">\\n          <div class=\"clone-options https-clone-options\">\\n\\n            <h4 class=\"mb-1\">\\n              Clone with HTTPS\\n              <a class=\"muted-link\" href=\"https://help.github.com/articles/which-remote-url-should-i-use\" target=\"_blank\" title=\"Which remote URL should I use?\">\\n                <svg class=\"octicon octicon-question\" viewBox=\"0 0 14 16\" version=\"1.1\" width=\"14\" height=\"16\" aria-hidden=\"true\"><path fill-rule=\"evenodd\" d=\"M6 10h2v2H6v-2zm4-3.5C10 8.64 8 9 8 9H6c0-.55.45-1 1-1h.5c.28 0 .5-.22.5-.5v-1c0-.28-.22-.5-.5-.5h-1c-.28 0-.5.22-.5.5V7H4c0-1.5 1.5-3 3-3s3 1 3 2.5zM7 2.3c3.14 0 5.7 2.56 5.7 5.7s-2.56 5.7-5.7 5.7A5.71 5.71 0 0 1 1.3 8c0-3.14 2.56-5.7 5.7-5.7zM7 1C3.14 1 0 4.14 0 8s3.14 7 7 7 7-3.14 7-7-3.14-7-7-7z\"/></svg>\\n              </a>\\n            </h4>\\n            <p class=\"mb-2 get-repo-decription-text\">\\n              Use Git or checkout with SVN using the web URL.\\n            </p>\\n\\n            <div class=\"input-group\">\\n  <input type=\"text\" class=\"form-control input-monospace input-sm js-url-field\" value=\"https://github.com/chankoo/python.git\" aria-label=\"Clone this repository at https://github.com/chankoo/python.git\" readonly>\\n  <div class=\"input-group-button\">\\n    <clipboard-copy value=\"https://github.com/chankoo/python.git\" aria-label=\"Copy to clipboard\" class=\"btn btn-sm\">\\n      <svg class=\"octicon octicon-clippy\" viewBox=\"0 0 14 16\" version=\"1.1\" width=\"14\" height=\"16\" aria-hidden=\"true\"><path fill-rule=\"evenodd\" d=\"M2 13h4v1H2v-1zm5-6H2v1h5V7zm2 3V8l-3 3 3 3v-2h5v-2H9zM4.5 9H2v1h2.5V9zM2 12h2.5v-1H2v1zm9 1h1v2c-.02.28-.11.52-.3.7-.19.18-.42.28-.7.3H1c-.55 0-1-.45-1-1V4c0-.55.45-1 1-1h3c0-1.11.89-2 2-2 1.11 0 2 .89 2 2h3c.55 0 1 .45 1 1v5h-1V6H1v9h10v-2zM2 5h8c0-.55-.45-1-1-1H8c-.55 0-1-.45-1-1s-.45-1-1-1-1 .45-1 1-.45 1-1 1H3c-.55 0-1 .45-1 1z\"/></svg>\\n    </clipboard-copy>\\n  </div>\\n</div>\\n\\n          </div>\\n\\n        <div class=\"mt-2\">\\n          \\n<a href=\"/chankoo/python/archive/master.zip\"\\n   class=\"btn btn-outline get-repo-btn\\n\"\\n   rel=\"nofollow\"\\n   data-ga-click=\"Repository, download zip, location:repo overview\">\\n  Download ZIP\\n</a>\\n\\n        </div>\\n      </div>\\n\\n      <div class=\"js-modal-download-mac py-2 px-3 d-none\">\\n        <h4 class=\"lh-condensed mb-3\">Launching GitHub Desktop<span class=\"animated-ellipsis-container\"><span class=\"animated-ellipsis\">...</span></span></h4>\\n        <p class=\"text-gray\">If nothing happens, <a href=\"https://desktop.github.com/\">download GitHub Desktop</a> and try again.</p>\\n        <p><button class=\"btn-link js-get-repo-modal-download-back\">Go back</button></p>\\n      </div>\\n\\n      <div class=\"js-modal-download-windows py-2 px-3 d-none\">\\n        <h4 class=\"lh-condensed mb-3\">Launching GitHub Desktop<span class=\"animated-ellipsis-container\"><span class=\"animated-ellipsis\">...</span></span></h4>\\n        <p class=\"text-gray\">If nothing happens, <a href=\"https://desktop.github.com/\">download GitHub Desktop</a> and try again.</p>\\n        <p><button class=\"btn-link js-get-repo-modal-download-back\">Go back</button></p>\\n      </div>\\n\\n      <div class=\"js-modal-download-xcode py-2 px-3 d-none\">\\n        <h4 class=\"lh-condensed mb-3\">Launching Xcode<span class=\"animated-ellipsis-container\"><span class=\"animated-ellipsis\">...</span></span></h4>\\n        <p class=\"text-gray\">If nothing happens, <a href=\"https://developer.apple.com/xcode/\">download Xcode</a> and try again.</p>\\n        <p><button class=\"btn-link js-get-repo-modal-download-back\">Go back</button></p>\\n      </div>\\n\\n      <div class=\"js-modal-download-visual-studio py-2 px-3 d-none\">\\n        <h4 class=\"lh-condensed mb-3\">Launching Visual Studio<span class=\"animated-ellipsis-container\"><span class=\"animated-ellipsis\">...</span></span></h4>\\n        <p class=\"text-gray\">If nothing happens, <a href=\"https://visualstudio.github.com/\">download the GitHub extension for Visual Studio</a> and try again.</p>\\n        <p><button class=\"btn-link js-get-repo-modal-download-back\">Go back</button></p>\\n      </div>\\n\\n    </div>\\n  </div>\\n</details>\\n\\n</div>\\n\\n\\n  \\n\\n<include-fragment src=\"/chankoo/python/tree-commit/24a4fcd43d62d6fb92ee7500abc47eca41015641\" class=\"commit-tease commit-loader\">\\n  <div class=\"blank loader-loading\">\\n      <img alt=\"\" class=\"loader\" src=\"https://assets-cdn.github.com/images/spinners/octocat-spinner-32-EAF2F5.gif\" width=\"16\" height=\"16\" />\\n      Fetching latest commit\\xe2\\x80\\xa6\\n  </div>\\n  <div class=\"loader-error\">\\n    Cannot retrieve the latest commit at this time.\\n  </div>\\n</include-fragment>\\n\\n\\n<include-fragment class=\"file-wrap\" src=\"/chankoo/python/file-list/master\">\\n\\n  <a class=\"d-none js-permalink-shortcut\" data-hotkey=\"y\" href=\"/chankoo/python/tree/24a4fcd43d62d6fb92ee7500abc47eca41015641\">Permalink</a>\\n\\n  <table class=\"files js-navigation-container js-active-navigation-container\" data-pjax>\\n\\n\\n    <tbody>\\n      <tr class=\"warning include-fragment-error\">\\n        <td class=\"icon\"><svg class=\"octicon octicon-alert\" viewBox=\"0 0 16 16\" version=\"1.1\" width=\"16\" height=\"16\" aria-hidden=\"true\"><path fill-rule=\"evenodd\" d=\"M8.893 1.5c-.183-.31-.52-.5-.887-.5s-.703.19-.886.5L.138 13.499a.98.98 0 0 0 0 1.001c.193.31.53.501.886.501h13.964c.367 0 .704-.19.877-.5a1.03 1.03 0 0 0 .01-1.002L8.893 1.5zm.133 11.497H6.987v-2.003h2.039v2.003zm0-3.004H6.987V5.987h2.039v4.006z\"/></svg></td>\\n        <td class=\"content\" colspan=\"3\">Failed to load latest commit information.</td>\\n      </tr>\\n\\n        <tr class=\"js-navigation-item\">\\n          <td class=\"icon\">\\n            <svg class=\"octicon octicon-file-directory\" viewBox=\"0 0 14 16\" version=\"1.1\" width=\"14\" height=\"16\" aria-hidden=\"true\"><path fill-rule=\"evenodd\" d=\"M13 4H7V3c0-.66-.31-1-1-1H1c-.55 0-1 .45-1 1v10c0 .55.45 1 1 1h12c.55 0 1-.45 1-1V5c0-.55-.45-1-1-1zM6 4H1V3h5v1z\"/></svg>\\n            <img width=\"16\" height=\"16\" class=\"spinner\" alt=\"\" src=\"https://assets-cdn.github.com/images/spinners/octocat-spinner-32.gif\" />\\n          </td>\\n          <td class=\"content\">\\n            <span class=\"css-truncate css-truncate-target\"><a class=\"js-navigation-open\" title=\".ipynb_checkpoints\" id=\"9f510c9e15993a54cc5a1d85221214a0-b2d0f5404ed8dd007861bb65d0407792398bdb8a\" href=\"/chankoo/python/tree/master/.ipynb_checkpoints\">.ipynb_checkpoints</a></span>\\n          </td>\\n          <td class=\"message\">\\n            <span class=\"css-truncate css-truncate-target\">\\n            </span>\\n          </td>\\n          <td class=\"age\">\\n            <span class=\"css-truncate css-truncate-target\"></span>\\n          </td>\\n        </tr>\\n        <tr class=\"js-navigation-item\">\\n          <td class=\"icon\">\\n            <svg class=\"octicon octicon-file-directory\" viewBox=\"0 0 14 16\" version=\"1.1\" width=\"14\" height=\"16\" aria-hidden=\"true\"><path fill-rule=\"evenodd\" d=\"M13 4H7V3c0-.66-.31-1-1-1H1c-.55 0-1 .45-1 1v10c0 .55.45 1 1 1h12c.55 0 1-.45 1-1V5c0-.55-.45-1-1-1zM6 4H1V3h5v1z\"/></svg>\\n            <img width=\"16\" height=\"16\" class=\"spinner\" alt=\"\" src=\"https://assets-cdn.github.com/images/spinners/octocat-spinner-32.gif\" />\\n          </td>\\n          <td class=\"content\">\\n            <span class=\"css-truncate css-truncate-target\"><a class=\"js-navigation-open\" title=\"2.3.1 Mongo Practice1\" id=\"1906bd9947c01ad839c63fb5b752f0bd-a33f863eb68cec91575e1a53afff95a6892c2fe8\" href=\"/chankoo/python/tree/master/2.3.1%20Mongo%20Practice1\">2.3.1 Mongo Practice1</a></span>\\n          </td>\\n          <td class=\"message\">\\n            <span class=\"css-truncate css-truncate-target\">\\n            </span>\\n          </td>\\n          <td class=\"age\">\\n            <span class=\"css-truncate css-truncate-target\"></span>\\n          </td>\\n        </tr>\\n        <tr class=\"js-navigation-item\">\\n          <td class=\"icon\">\\n            <svg class=\"octicon octicon-file-directory\" viewBox=\"0 0 14 16\" version=\"1.1\" width=\"14\" height=\"16\" aria-hidden=\"true\"><path fill-rule=\"evenodd\" d=\"M13 4H7V3c0-.66-.31-1-1-1H1c-.55 0-1 .45-1 1v10c0 .55.45 1 1 1h12c.55 0 1-.45 1-1V5c0-.55-.45-1-1-1zM6 4H1V3h5v1z\"/></svg>\\n            <img width=\"16\" height=\"16\" class=\"spinner\" alt=\"\" src=\"https://assets-cdn.github.com/images/spinners/octocat-spinner-32.gif\" />\\n          </td>\\n          <td class=\"content\">\\n            <span class=\"css-truncate css-truncate-target\"><a class=\"js-navigation-open\" title=\"\\xed\\x85\\x8d\\xec\\x8a\\xa4\\xed\\x8a\\xb8\\xeb\\xa7\\x88\\xec\\x9d\\xb4\\xeb\\x8b\\x9d \\xec\\x8a\\xa4\\xed\\x84\\xb0\\xeb\\x94\\x94\" id=\"9f5dc42653c348bbef908e47e9415013-0b01c09fa3941ccd2b8ee20196176c340e37724e\" href=\"/chankoo/python/tree/master/%ED%85%8D%EC%8A%A4%ED%8A%B8%EB%A7%88%EC%9D%B4%EB%8B%9D%20%EC%8A%A4%ED%84%B0%EB%94%94\">\\xed\\x85\\x8d\\xec\\x8a\\xa4\\xed\\x8a\\xb8\\xeb\\xa7\\x88\\xec\\x9d\\xb4\\xeb\\x8b\\x9d \\xec\\x8a\\xa4\\xed\\x84\\xb0\\xeb\\x94\\x94</a></span>\\n          </td>\\n          <td class=\"message\">\\n            <span class=\"css-truncate css-truncate-target\">\\n            </span>\\n          </td>\\n          <td class=\"age\">\\n            <span class=\"css-truncate css-truncate-target\"></span>\\n          </td>\\n        </tr>\\n        <tr class=\"js-navigation-item\">\\n          <td class=\"icon\">\\n            <svg class=\"octicon octicon-file\" viewBox=\"0 0 12 16\" version=\"1.1\" width=\"12\" height=\"16\" aria-hidden=\"true\"><path fill-rule=\"evenodd\" d=\"M6 5H2V4h4v1zM2 8h7V7H2v1zm0 2h7V9H2v1zm0 2h7v-1H2v1zm10-7.5V14c0 .55-.45 1-1 1H1c-.55 0-1-.45-1-1V2c0-.55.45-1 1-1h7.5L12 4.5zM11 5L8 2H1v12h10V5z\"/></svg>\\n            <img width=\"16\" height=\"16\" class=\"spinner\" alt=\"\" src=\"https://assets-cdn.github.com/images/spinners/octocat-spinner-32.gif\" />\\n          </td>\\n          <td class=\"content\">\\n            <span class=\"css-truncate css-truncate-target\"><a class=\"js-navigation-open\" title=\".gitignore\" id=\"a084b794bc0759e7a6b77810e01874f2-b8eb253827acc7d6fb6d5cf72e08a8e18cd3b22d\" href=\"/chankoo/python/blob/master/.gitignore\">.gitignore</a></span>\\n          </td>\\n          <td class=\"message\">\\n            <span class=\"css-truncate css-truncate-target\">\\n            </span>\\n          </td>\\n          <td class=\"age\">\\n            <span class=\"css-truncate css-truncate-target\"></span>\\n          </td>\\n        </tr>\\n        <tr class=\"js-navigation-item\">\\n          <td class=\"icon\">\\n            <svg class=\"octicon octicon-file\" viewBox=\"0 0 12 16\" version=\"1.1\" width=\"12\" height=\"16\" aria-hidden=\"true\"><path fill-rule=\"evenodd\" d=\"M6 5H2V4h4v1zM2 8h7V7H2v1zm0 2h7V9H2v1zm0 2h7v-1H2v1zm10-7.5V14c0 .55-.45 1-1 1H1c-.55 0-1-.45-1-1V2c0-.55.45-1 1-1h7.5L12 4.5zM11 5L8 2H1v12h10V5z\"/></svg>\\n            <img width=\"16\" height=\"16\" class=\"spinner\" alt=\"\" src=\"https://assets-cdn.github.com/images/spinners/octocat-spinner-32.gif\" />\\n          </td>\\n          <td class=\"content\">\\n            <span class=\"css-truncate css-truncate-target\"><a class=\"js-navigation-open\" title=\"1.1 python\\xec\\xa0\\x95\\xeb\\xa6\\xac.ipynb\" id=\"02d4672adf5267840007d331a4e95a52-43d86cbf8839afb662366992306958039415f613\" href=\"/chankoo/python/blob/master/1.1%20python%EC%A0%95%EB%A6%AC.ipynb\">1.1 python\\xec\\xa0\\x95\\xeb\\xa6\\xac.ipynb</a></span>\\n          </td>\\n          <td class=\"message\">\\n            <span class=\"css-truncate css-truncate-target\">\\n            </span>\\n          </td>\\n          <td class=\"age\">\\n            <span class=\"css-truncate css-truncate-target\"></span>\\n          </td>\\n        </tr>\\n        <tr class=\"js-navigation-item\">\\n          <td class=\"icon\">\\n            <svg class=\"octicon octicon-file\" viewBox=\"0 0 12 16\" version=\"1.1\" width=\"12\" height=\"16\" aria-hidden=\"true\"><path fill-rule=\"evenodd\" d=\"M6 5H2V4h4v1zM2 8h7V7H2v1zm0 2h7V9H2v1zm0 2h7v-1H2v1zm10-7.5V14c0 .55-.45 1-1 1H1c-.55 0-1-.45-1-1V2c0-.55.45-1 1-1h7.5L12 4.5zM11 5L8 2H1v12h10V5z\"/></svg>\\n            <img width=\"16\" height=\"16\" class=\"spinner\" alt=\"\" src=\"https://assets-cdn.github.com/images/spinners/octocat-spinner-32.gif\" />\\n          </td>\\n          <td class=\"content\">\\n            <span class=\"css-truncate css-truncate-target\"><a class=\"js-navigation-open\" title=\"1.2 python\\xec\\xa0\\x95\\xeb\\xa6\\xac2.ipynb\" id=\"a82da48828b23cadf121a57a1a9f12b2-5216655d7f820fa9414bffd420005de9f1dfa67f\" href=\"/chankoo/python/blob/master/1.2%20python%EC%A0%95%EB%A6%AC2.ipynb\">1.2 python\\xec\\xa0\\x95\\xeb\\xa6\\xac2.ipynb</a></span>\\n          </td>\\n          <td class=\"message\">\\n            <span class=\"css-truncate css-truncate-target\">\\n            </span>\\n          </td>\\n          <td class=\"age\">\\n            <span class=\"css-truncate css-truncate-target\"></span>\\n          </td>\\n        </tr>\\n        <tr class=\"js-navigation-item\">\\n          <td class=\"icon\">\\n            <svg class=\"octicon octicon-file\" viewBox=\"0 0 12 16\" version=\"1.1\" width=\"12\" height=\"16\" aria-hidden=\"true\"><path fill-rule=\"evenodd\" d=\"M6 5H2V4h4v1zM2 8h7V7H2v1zm0 2h7V9H2v1zm0 2h7v-1H2v1zm10-7.5V14c0 .55-.45 1-1 1H1c-.55 0-1-.45-1-1V2c0-.55.45-1 1-1h7.5L12 4.5zM11 5L8 2H1v12h10V5z\"/></svg>\\n            <img width=\"16\" height=\"16\" class=\"spinner\" alt=\"\" src=\"https://assets-cdn.github.com/images/spinners/octocat-spinner-32.gif\" />\\n          </td>\\n          <td class=\"content\">\\n            <span class=\"css-truncate css-truncate-target\"><a class=\"js-navigation-open\" title=\"1.2.1 python Functional Thinking.ipynb\" id=\"cd5a7528744907c39befc55a4d5d5331-c4db46e00f9f67d23a6babac5a9df67b8e98e22f\" href=\"/chankoo/python/blob/master/1.2.1%20python%20Functional%20Thinking.ipynb\">1.2.1 python Functional Thinking.ipynb</a></span>\\n          </td>\\n          <td class=\"message\">\\n            <span class=\"css-truncate css-truncate-target\">\\n            </span>\\n          </td>\\n          <td class=\"age\">\\n            <span class=\"css-truncate css-truncate-target\"></span>\\n          </td>\\n        </tr>\\n        <tr class=\"js-navigation-item\">\\n          <td class=\"icon\">\\n            <svg class=\"octicon octicon-file\" viewBox=\"0 0 12 16\" version=\"1.1\" width=\"12\" height=\"16\" aria-hidden=\"true\"><path fill-rule=\"evenodd\" d=\"M6 5H2V4h4v1zM2 8h7V7H2v1zm0 2h7V9H2v1zm0 2h7v-1H2v1zm10-7.5V14c0 .55-.45 1-1 1H1c-.55 0-1-.45-1-1V2c0-.55.45-1 1-1h7.5L12 4.5zM11 5L8 2H1v12h10V5z\"/></svg>\\n            <img width=\"16\" height=\"16\" class=\"spinner\" alt=\"\" src=\"https://assets-cdn.github.com/images/spinners/octocat-spinner-32.gif\" />\\n          </td>\\n          <td class=\"content\">\\n            <span class=\"css-truncate css-truncate-target\"><a class=\"js-navigation-open\" title=\"1.2.2 python Iterable VS Iterator VS Generator.ipynb\" id=\"5f84e77dc42bb101440fe349bc0c3960-a2fe364b133f2ba65e74af7056a4c8eef8d1f924\" href=\"/chankoo/python/blob/master/1.2.2%20python%20Iterable%20VS%20Iterator%20VS%20Generator.ipynb\">1.2.2 python Iterable VS Iterator VS Generator.ipynb</a></span>\\n          </td>\\n          <td class=\"message\">\\n            <span class=\"css-truncate css-truncate-target\">\\n            </span>\\n          </td>\\n          <td class=\"age\">\\n            <span class=\"css-truncate css-truncate-target\"></span>\\n          </td>\\n        </tr>\\n        <tr class=\"js-navigation-item\">\\n          <td class=\"icon\">\\n            <svg class=\"octicon octicon-file\" viewBox=\"0 0 12 16\" version=\"1.1\" width=\"12\" height=\"16\" aria-hidden=\"true\"><path fill-rule=\"evenodd\" d=\"M6 5H2V4h4v1zM2 8h7V7H2v1zm0 2h7V9H2v1zm0 2h7v-1H2v1zm10-7.5V14c0 .55-.45 1-1 1H1c-.55 0-1-.45-1-1V2c0-.55.45-1 1-1h7.5L12 4.5zM11 5L8 2H1v12h10V5z\"/></svg>\\n            <img width=\"16\" height=\"16\" class=\"spinner\" alt=\"\" src=\"https://assets-cdn.github.com/images/spinners/octocat-spinner-32.gif\" />\\n          </td>\\n          <td class=\"content\">\\n            <span class=\"css-truncate css-truncate-target\"><a class=\"js-navigation-open\" title=\"1.3 python \\xec\\xa0\\x95\\xeb\\xa6\\xac3.ipynb\" id=\"391469a1f301d9421f6a39575b7a3567-be9deb19aeb252783c73262f9c632ad47b59031e\" href=\"/chankoo/python/blob/master/1.3%20python%20%EC%A0%95%EB%A6%AC3.ipynb\">1.3 python \\xec\\xa0\\x95\\xeb\\xa6\\xac3.ipynb</a></span>\\n          </td>\\n          <td class=\"message\">\\n            <span class=\"css-truncate css-truncate-target\">\\n            </span>\\n          </td>\\n          <td class=\"age\">\\n            <span class=\"css-truncate css-truncate-target\"></span>\\n          </td>\\n        </tr>\\n        <tr class=\"js-navigation-item\">\\n          <td class=\"icon\">\\n            <svg class=\"octicon octicon-file\" viewBox=\"0 0 12 16\" version=\"1.1\" width=\"12\" height=\"16\" aria-hidden=\"true\"><path fill-rule=\"evenodd\" d=\"M6 5H2V4h4v1zM2 8h7V7H2v1zm0 2h7V9H2v1zm0 2h7v-1H2v1zm10-7.5V14c0 .55-.45 1-1 1H1c-.55 0-1-.45-1-1V2c0-.55.45-1 1-1h7.5L12 4.5zM11 5L8 2H1v12h10V5z\"/></svg>\\n            <img width=\"16\" height=\"16\" class=\"spinner\" alt=\"\" src=\"https://assets-cdn.github.com/images/spinners/octocat-spinner-32.gif\" />\\n          </td>\\n          <td class=\"content\">\\n            <span class=\"css-truncate css-truncate-target\"><a class=\"js-navigation-open\" title=\"1.4 python \\xec\\xa0\\x95\\xeb\\xa6\\xac4.ipynb\" id=\"46fe871f5e3c8641648e0fe272ed129f-d742d69168737c4fe600991c51913d3fb7074930\" href=\"/chankoo/python/blob/master/1.4%20python%20%EC%A0%95%EB%A6%AC4.ipynb\">1.4 python \\xec\\xa0\\x95\\xeb\\xa6\\xac4.ipynb</a></span>\\n          </td>\\n          <td class=\"message\">\\n            <span class=\"css-truncate css-truncate-target\">\\n            </span>\\n          </td>\\n          <td class=\"age\">\\n            <span class=\"css-truncate css-truncate-target\"></span>\\n          </td>\\n        </tr>\\n        <tr class=\"js-navigation-item\">\\n          <td class=\"icon\">\\n            <svg class=\"octicon octicon-file\" viewBox=\"0 0 12 16\" version=\"1.1\" width=\"12\" height=\"16\" aria-hidden=\"true\"><path fill-rule=\"evenodd\" d=\"M6 5H2V4h4v1zM2 8h7V7H2v1zm0 2h7V9H2v1zm0 2h7v-1H2v1zm10-7.5V14c0 .55-.45 1-1 1H1c-.55 0-1-.45-1-1V2c0-.55.45-1 1-1h7.5L12 4.5zM11 5L8 2H1v12h10V5z\"/></svg>\\n            <img width=\"16\" height=\"16\" class=\"spinner\" alt=\"\" src=\"https://assets-cdn.github.com/images/spinners/octocat-spinner-32.gif\" />\\n          </td>\\n          <td class=\"content\">\\n            <span class=\"css-truncate css-truncate-target\"><a class=\"js-navigation-open\" title=\"2.1 SQLite.ipynb\" id=\"8894b058169b810fee659b50305b1f3d-389d6565cda601d92a434bb0fbf35356d60ba29d\" href=\"/chankoo/python/blob/master/2.1%20SQLite.ipynb\">2.1 SQLite.ipynb</a></span>\\n          </td>\\n          <td class=\"message\">\\n            <span class=\"css-truncate css-truncate-target\">\\n            </span>\\n          </td>\\n          <td class=\"age\">\\n            <span class=\"css-truncate css-truncate-target\"></span>\\n          </td>\\n        </tr>\\n        <tr class=\"js-navigation-item\">\\n          <td class=\"icon\">\\n            <svg class=\"octicon octicon-file\" viewBox=\"0 0 12 16\" version=\"1.1\" width=\"12\" height=\"16\" aria-hidden=\"true\"><path fill-rule=\"evenodd\" d=\"M6 5H2V4h4v1zM2 8h7V7H2v1zm0 2h7V9H2v1zm0 2h7v-1H2v1zm10-7.5V14c0 .55-.45 1-1 1H1c-.55 0-1-.45-1-1V2c0-.55.45-1 1-1h7.5L12 4.5zM11 5L8 2H1v12h10V5z\"/></svg>\\n            <img width=\"16\" height=\"16\" class=\"spinner\" alt=\"\" src=\"https://assets-cdn.github.com/images/spinners/octocat-spinner-32.gif\" />\\n          </td>\\n          <td class=\"content\">\\n            <span class=\"css-truncate css-truncate-target\"><a class=\"js-navigation-open\" title=\"2.2 SQL Alchemy.ipynb\" id=\"7ab85d2bd3976f37f70b859f7158b68d-3921689a2cde60c9f754a2c2f3144f052914faff\" href=\"/chankoo/python/blob/master/2.2%20SQL%20Alchemy.ipynb\">2.2 SQL Alchemy.ipynb</a></span>\\n          </td>\\n          <td class=\"message\">\\n            <span class=\"css-truncate css-truncate-target\">\\n            </span>\\n          </td>\\n          <td class=\"age\">\\n            <span class=\"css-truncate css-truncate-target\"></span>\\n          </td>\\n        </tr>\\n        <tr class=\"js-navigation-item\">\\n          <td class=\"icon\">\\n            <svg class=\"octicon octicon-file\" viewBox=\"0 0 12 16\" version=\"1.1\" width=\"12\" height=\"16\" aria-hidden=\"true\"><path fill-rule=\"evenodd\" d=\"M6 5H2V4h4v1zM2 8h7V7H2v1zm0 2h7V9H2v1zm0 2h7v-1H2v1zm10-7.5V14c0 .55-.45 1-1 1H1c-.55 0-1-.45-1-1V2c0-.55.45-1 1-1h7.5L12 4.5zM11 5L8 2H1v12h10V5z\"/></svg>\\n            <img width=\"16\" height=\"16\" class=\"spinner\" alt=\"\" src=\"https://assets-cdn.github.com/images/spinners/octocat-spinner-32.gif\" />\\n          </td>\\n          <td class=\"content\">\\n            <span class=\"css-truncate css-truncate-target\"><a class=\"js-navigation-open\" title=\"2.3 MongoDB.ipynb\" id=\"d17fca646f9351e685a7be246ce378e9-ea81991eeff6a8b20f18215df4b978c7d477c223\" href=\"/chankoo/python/blob/master/2.3%20MongoDB.ipynb\">2.3 MongoDB.ipynb</a></span>\\n          </td>\\n          <td class=\"message\">\\n            <span class=\"css-truncate css-truncate-target\">\\n            </span>\\n          </td>\\n          <td class=\"age\">\\n            <span class=\"css-truncate css-truncate-target\"></span>\\n          </td>\\n        </tr>\\n        <tr class=\"js-navigation-item\">\\n          <td class=\"icon\">\\n            <svg class=\"octicon octicon-file\" viewBox=\"0 0 12 16\" version=\"1.1\" width=\"12\" height=\"16\" aria-hidden=\"true\"><path fill-rule=\"evenodd\" d=\"M6 5H2V4h4v1zM2 8h7V7H2v1zm0 2h7V9H2v1zm0 2h7v-1H2v1zm10-7.5V14c0 .55-.45 1-1 1H1c-.55 0-1-.45-1-1V2c0-.55.45-1 1-1h7.5L12 4.5zM11 5L8 2H1v12h10V5z\"/></svg>\\n            <img width=\"16\" height=\"16\" class=\"spinner\" alt=\"\" src=\"https://assets-cdn.github.com/images/spinners/octocat-spinner-32.gif\" />\\n          </td>\\n          <td class=\"content\">\\n            <span class=\"css-truncate css-truncate-target\"><a class=\"js-navigation-open\" title=\"2.3.1 pymongo.ipynb\" id=\"25d1168b2d8301613b6bb6e0866dfeae-4f671e63cbb2d5338b1e517fe4450128b7233f35\" href=\"/chankoo/python/blob/master/2.3.1%20pymongo.ipynb\">2.3.1 pymongo.ipynb</a></span>\\n          </td>\\n          <td class=\"message\">\\n            <span class=\"css-truncate css-truncate-target\">\\n            </span>\\n          </td>\\n          <td class=\"age\">\\n            <span class=\"css-truncate css-truncate-target\"></span>\\n          </td>\\n        </tr>\\n        <tr class=\"js-navigation-item\">\\n          <td class=\"icon\">\\n            <svg class=\"octicon octicon-file\" viewBox=\"0 0 12 16\" version=\"1.1\" width=\"12\" height=\"16\" aria-hidden=\"true\"><path fill-rule=\"evenodd\" d=\"M6 5H2V4h4v1zM2 8h7V7H2v1zm0 2h7V9H2v1zm0 2h7v-1H2v1zm10-7.5V14c0 .55-.45 1-1 1H1c-.55 0-1-.45-1-1V2c0-.55.45-1 1-1h7.5L12 4.5zM11 5L8 2H1v12h10V5z\"/></svg>\\n            <img width=\"16\" height=\"16\" class=\"spinner\" alt=\"\" src=\"https://assets-cdn.github.com/images/spinners/octocat-spinner-32.gif\" />\\n          </td>\\n          <td class=\"content\">\\n            <span class=\"css-truncate css-truncate-target\"><a class=\"js-navigation-open\" title=\"3.1 HTML, CSS.ipynb\" id=\"e370592b73f314cec8ec21e49bfb3bc6-308a9391b578dab5dc020c23ddb2e6b21d25379e\" href=\"/chankoo/python/blob/master/3.1%20HTML%2C%20CSS.ipynb\">3.1 HTML, CSS.ipynb</a></span>\\n          </td>\\n          <td class=\"message\">\\n            <span class=\"css-truncate css-truncate-target\">\\n            </span>\\n          </td>\\n          <td class=\"age\">\\n            <span class=\"css-truncate css-truncate-target\"></span>\\n          </td>\\n        </tr>\\n        <tr class=\"js-navigation-item\">\\n          <td class=\"icon\">\\n            <svg class=\"octicon octicon-file\" viewBox=\"0 0 12 16\" version=\"1.1\" width=\"12\" height=\"16\" aria-hidden=\"true\"><path fill-rule=\"evenodd\" d=\"M6 5H2V4h4v1zM2 8h7V7H2v1zm0 2h7V9H2v1zm0 2h7v-1H2v1zm10-7.5V14c0 .55-.45 1-1 1H1c-.55 0-1-.45-1-1V2c0-.55.45-1 1-1h7.5L12 4.5zM11 5L8 2H1v12h10V5z\"/></svg>\\n            <img width=\"16\" height=\"16\" class=\"spinner\" alt=\"\" src=\"https://assets-cdn.github.com/images/spinners/octocat-spinner-32.gif\" />\\n          </td>\\n          <td class=\"content\">\\n            <span class=\"css-truncate css-truncate-target\"><a class=\"js-navigation-open\" title=\"3.1.1 HTML,CSS \\xec\\x98\\x88\\xec\\xa0\\x9c.ipynb\" id=\"152dbe43c1506a29969b45daab801c5f-bccb8790b387be7842e01ed8f1ed7ba7e823ac1e\" href=\"/chankoo/python/blob/master/3.1.1%20HTML%2CCSS%20%EC%98%88%EC%A0%9C.ipynb\">3.1.1 HTML,CSS \\xec\\x98\\x88\\xec\\xa0\\x9c.ipynb</a></span>\\n          </td>\\n          <td class=\"message\">\\n            <span class=\"css-truncate css-truncate-target\">\\n            </span>\\n          </td>\\n          <td class=\"age\">\\n            <span class=\"css-truncate css-truncate-target\"></span>\\n          </td>\\n        </tr>\\n        <tr class=\"js-navigation-item\">\\n          <td class=\"icon\">\\n            <svg class=\"octicon octicon-file\" viewBox=\"0 0 12 16\" version=\"1.1\" width=\"12\" height=\"16\" aria-hidden=\"true\"><path fill-rule=\"evenodd\" d=\"M6 5H2V4h4v1zM2 8h7V7H2v1zm0 2h7V9H2v1zm0 2h7v-1H2v1zm10-7.5V14c0 .55-.45 1-1 1H1c-.55 0-1-.45-1-1V2c0-.55.45-1 1-1h7.5L12 4.5zM11 5L8 2H1v12h10V5z\"/></svg>\\n            <img width=\"16\" height=\"16\" class=\"spinner\" alt=\"\" src=\"https://assets-cdn.github.com/images/spinners/octocat-spinner-32.gif\" />\\n          </td>\\n          <td class=\"content\">\\n            <span class=\"css-truncate css-truncate-target\"><a class=\"js-navigation-open\" title=\"3.2 JSON, XML.ipynb\" id=\"25f906bc094bbcb2bff05d2da102aa54-5e2678800969fbcba5cb8063c5e4a98852a5776a\" href=\"/chankoo/python/blob/master/3.2%20JSON%2C%20XML.ipynb\">3.2 JSON, XML.ipynb</a></span>\\n          </td>\\n          <td class=\"message\">\\n            <span class=\"css-truncate css-truncate-target\">\\n            </span>\\n          </td>\\n          <td class=\"age\">\\n            <span class=\"css-truncate css-truncate-target\"></span>\\n          </td>\\n        </tr>\\n        <tr class=\"js-navigation-item\">\\n          <td class=\"icon\">\\n            <svg class=\"octicon octicon-file\" viewBox=\"0 0 12 16\" version=\"1.1\" width=\"12\" height=\"16\" aria-hidden=\"true\"><path fill-rule=\"evenodd\" d=\"M6 5H2V4h4v1zM2 8h7V7H2v1zm0 2h7V9H2v1zm0 2h7v-1H2v1zm10-7.5V14c0 .55-.45 1-1 1H1c-.55 0-1-.45-1-1V2c0-.55.45-1 1-1h7.5L12 4.5zM11 5L8 2H1v12h10V5z\"/></svg>\\n            <img width=\"16\" height=\"16\" class=\"spinner\" alt=\"\" src=\"https://assets-cdn.github.com/images/spinners/octocat-spinner-32.gif\" />\\n          </td>\\n          <td class=\"content\">\\n            <span class=\"css-truncate css-truncate-target\"><a class=\"js-navigation-open\" title=\"3.2.1 JSON, XML \\xec\\x8b\\xa4\\xec\\x8a\\xb5.ipynb\" id=\"3de0297a4e43d6138b49551c50600eb5-74a630da9935fc7b6c60914a98b1beec216a7665\" href=\"/chankoo/python/blob/master/3.2.1%20JSON%2C%20XML%20%EC%8B%A4%EC%8A%B5.ipynb\">3.2.1 JSON, XML \\xec\\x8b\\xa4\\xec\\x8a\\xb5.ipynb</a></span>\\n          </td>\\n          <td class=\"message\">\\n            <span class=\"css-truncate css-truncate-target\">\\n            </span>\\n          </td>\\n          <td class=\"age\">\\n            <span class=\"css-truncate css-truncate-target\"></span>\\n          </td>\\n        </tr>\\n        <tr class=\"js-navigation-item\">\\n          <td class=\"icon\">\\n            <svg class=\"octicon octicon-file\" viewBox=\"0 0 12 16\" version=\"1.1\" width=\"12\" height=\"16\" aria-hidden=\"true\"><path fill-rule=\"evenodd\" d=\"M6 5H2V4h4v1zM2 8h7V7H2v1zm0 2h7V9H2v1zm0 2h7v-1H2v1zm10-7.5V14c0 .55-.45 1-1 1H1c-.55 0-1-.45-1-1V2c0-.55.45-1 1-1h7.5L12 4.5zM11 5L8 2H1v12h10V5z\"/></svg>\\n            <img width=\"16\" height=\"16\" class=\"spinner\" alt=\"\" src=\"https://assets-cdn.github.com/images/spinners/octocat-spinner-32.gif\" />\\n          </td>\\n          <td class=\"content\">\\n            <span class=\"css-truncate css-truncate-target\"><a class=\"js-navigation-open\" title=\"4.1 Scraping, Crawling.ipynb\" id=\"4d64193301cdc34cc3be760c87ec38e7-976b817e9781d967aaf656c0e5632ae2a686947b\" href=\"/chankoo/python/blob/master/4.1%20Scraping%2C%20Crawling.ipynb\">4.1 Scraping, Crawling.ipynb</a></span>\\n          </td>\\n          <td class=\"message\">\\n            <span class=\"css-truncate css-truncate-target\">\\n            </span>\\n          </td>\\n          <td class=\"age\">\\n            <span class=\"css-truncate css-truncate-target\"></span>\\n          </td>\\n        </tr>\\n        <tr class=\"js-navigation-item\">\\n          <td class=\"icon\">\\n            <svg class=\"octicon octicon-file\" viewBox=\"0 0 12 16\" version=\"1.1\" width=\"12\" height=\"16\" aria-hidden=\"true\"><path fill-rule=\"evenodd\" d=\"M6 5H2V4h4v1zM2 8h7V7H2v1zm0 2h7V9H2v1zm0 2h7v-1H2v1zm10-7.5V14c0 .55-.45 1-1 1H1c-.55 0-1-.45-1-1V2c0-.55.45-1 1-1h7.5L12 4.5zM11 5L8 2H1v12h10V5z\"/></svg>\\n            <img width=\"16\" height=\"16\" class=\"spinner\" alt=\"\" src=\"https://assets-cdn.github.com/images/spinners/octocat-spinner-32.gif\" />\\n          </td>\\n          <td class=\"content\">\\n            <span class=\"css-truncate css-truncate-target\"><a class=\"js-navigation-open\" title=\"4.1.0 WEB; request.ipynb\" id=\"7fc35143d91417ff5a19f90911ed5cad-0354c2714be403621a7b7d49fdc919b8830913eb\" href=\"/chankoo/python/blob/master/4.1.0%20WEB%3B%20request.ipynb\">4.1.0 WEB; request.ipynb</a></span>\\n          </td>\\n          <td class=\"message\">\\n            <span class=\"css-truncate css-truncate-target\">\\n            </span>\\n          </td>\\n          <td class=\"age\">\\n            <span class=\"css-truncate css-truncate-target\"></span>\\n          </td>\\n        </tr>\\n        <tr class=\"js-navigation-item\">\\n          <td class=\"icon\">\\n            <svg class=\"octicon octicon-file\" viewBox=\"0 0 12 16\" version=\"1.1\" width=\"12\" height=\"16\" aria-hidden=\"true\"><path fill-rule=\"evenodd\" d=\"M6 5H2V4h4v1zM2 8h7V7H2v1zm0 2h7V9H2v1zm0 2h7v-1H2v1zm10-7.5V14c0 .55-.45 1-1 1H1c-.55 0-1-.45-1-1V2c0-.55.45-1 1-1h7.5L12 4.5zM11 5L8 2H1v12h10V5z\"/></svg>\\n            <img width=\"16\" height=\"16\" class=\"spinner\" alt=\"\" src=\"https://assets-cdn.github.com/images/spinners/octocat-spinner-32.gif\" />\\n          </td>\\n          <td class=\"content\">\\n            <span class=\"css-truncate css-truncate-target\"><a class=\"js-navigation-open\" title=\"4.1.1 BeautifulSoup \\xec\\x8b\\xa4\\xec\\x8a\\xb5.ipynb\" id=\"57867c9cf08446baf4323a1eb470da3f-1bb1b4401efe81e18e1ac6abd09ce52bbe392a2c\" href=\"/chankoo/python/blob/master/4.1.1%20BeautifulSoup%20%EC%8B%A4%EC%8A%B5.ipynb\">4.1.1 BeautifulSoup \\xec\\x8b\\xa4\\xec\\x8a\\xb5.ipynb</a></span>\\n          </td>\\n          <td class=\"message\">\\n            <span class=\"css-truncate css-truncate-target\">\\n            </span>\\n          </td>\\n          <td class=\"age\">\\n            <span class=\"css-truncate css-truncate-target\"></span>\\n          </td>\\n        </tr>\\n        <tr class=\"js-navigation-item\">\\n          <td class=\"icon\">\\n            <svg class=\"octicon octicon-file\" viewBox=\"0 0 12 16\" version=\"1.1\" width=\"12\" height=\"16\" aria-hidden=\"true\"><path fill-rule=\"evenodd\" d=\"M6 5H2V4h4v1zM2 8h7V7H2v1zm0 2h7V9H2v1zm0 2h7v-1H2v1zm10-7.5V14c0 .55-.45 1-1 1H1c-.55 0-1-.45-1-1V2c0-.55.45-1 1-1h7.5L12 4.5zM11 5L8 2H1v12h10V5z\"/></svg>\\n            <img width=\"16\" height=\"16\" class=\"spinner\" alt=\"\" src=\"https://assets-cdn.github.com/images/spinners/octocat-spinner-32.gif\" />\\n          </td>\\n          <td class=\"content\">\\n            <span class=\"css-truncate css-truncate-target\"><a class=\"js-navigation-open\" title=\"4.1.2 \\xeb\\xbd\\x90\\xeb\\xbf\\x8c \\xec\\xbb\\xa8\\xed\\x85\\x90\\xec\\xb8\\xa0 \\xea\\xb0\\x80\\xec\\xa0\\xb8\\xec\\x98\\xa4\\xea\\xb8\\xb0.ipynb\" id=\"7f35cd35b9f92e437cc57a766099b231-f75bc0e8e7686f3b2c5ce9da0f912224c7f92261\" href=\"/chankoo/python/blob/master/4.1.2%20%EB%BD%90%EB%BF%8C%20%EC%BB%A8%ED%85%90%EC%B8%A0%20%EA%B0%80%EC%A0%B8%EC%98%A4%EA%B8%B0.ipynb\">4.1.2 \\xeb\\xbd\\x90\\xeb\\xbf\\x8c \\xec\\xbb\\xa8\\xed\\x85\\x90\\xec\\xb8\\xa0 \\xea\\xb0\\x80\\xec\\xa0\\xb8\\xec\\x98\\xa4\\xea\\xb8\\xb0.ipynb</a></span>\\n          </td>\\n          <td class=\"message\">\\n            <span class=\"css-truncate css-truncate-target\">\\n            </span>\\n          </td>\\n          <td class=\"age\">\\n            <span class=\"css-truncate css-truncate-target\"></span>\\n          </td>\\n        </tr>\\n        <tr class=\"js-navigation-item\">\\n          <td class=\"icon\">\\n            <svg class=\"octicon octicon-file\" viewBox=\"0 0 12 16\" version=\"1.1\" width=\"12\" height=\"16\" aria-hidden=\"true\"><path fill-rule=\"evenodd\" d=\"M6 5H2V4h4v1zM2 8h7V7H2v1zm0 2h7V9H2v1zm0 2h7v-1H2v1zm10-7.5V14c0 .55-.45 1-1 1H1c-.55 0-1-.45-1-1V2c0-.55.45-1 1-1h7.5L12 4.5zM11 5L8 2H1v12h10V5z\"/></svg>\\n            <img width=\"16\" height=\"16\" class=\"spinner\" alt=\"\" src=\"https://assets-cdn.github.com/images/spinners/octocat-spinner-32.gif\" />\\n          </td>\\n          <td class=\"content\">\\n            <span class=\"css-truncate css-truncate-target\"><a class=\"js-navigation-open\" title=\"4.2 \\xeb\\x8f\\x99\\xec\\xa0\\x81 \\xec\\x9b\\xb9 scraping.ipynb\" id=\"6e7155112c2f3b13a24efe959abbdb2d-57ce709f112ac88dc5dba110813abede044b8a5f\" href=\"/chankoo/python/blob/master/4.2%20%EB%8F%99%EC%A0%81%20%EC%9B%B9%20scraping.ipynb\">4.2 \\xeb\\x8f\\x99\\xec\\xa0\\x81 \\xec\\x9b\\xb9 scraping.ipynb</a></span>\\n          </td>\\n          <td class=\"message\">\\n            <span class=\"css-truncate css-truncate-target\">\\n            </span>\\n          </td>\\n          <td class=\"age\">\\n            <span class=\"css-truncate css-truncate-target\"></span>\\n          </td>\\n        </tr>\\n        <tr class=\"js-navigation-item\">\\n          <td class=\"icon\">\\n            <svg class=\"octicon octicon-file\" viewBox=\"0 0 12 16\" version=\"1.1\" width=\"12\" height=\"16\" aria-hidden=\"true\"><path fill-rule=\"evenodd\" d=\"M6 5H2V4h4v1zM2 8h7V7H2v1zm0 2h7V9H2v1zm0 2h7v-1H2v1zm10-7.5V14c0 .55-.45 1-1 1H1c-.55 0-1-.45-1-1V2c0-.55.45-1 1-1h7.5L12 4.5zM11 5L8 2H1v12h10V5z\"/></svg>\\n            <img width=\"16\" height=\"16\" class=\"spinner\" alt=\"\" src=\"https://assets-cdn.github.com/images/spinners/octocat-spinner-32.gif\" />\\n          </td>\\n          <td class=\"content\">\\n            <span class=\"css-truncate css-truncate-target\"><a class=\"js-navigation-open\" title=\"4.2.1 \\xeb\\x84\\xa4\\xec\\x9d\\xb4\\xeb\\xb2\\x84\\xeb\\x89\\xb4\\xec\\x8a\\xa4 \\xeb\\x8c\\x93\\xea\\xb8\\x80bot \\xeb\\xa7\\x8c\\xeb\\x93\\xa4\\xea\\xb8\\xb0.ipynb\" id=\"62b9647e97e8c595585d791bc4c3b86a-be3c8cc7b9b20f39d3aca8bd3ce248658521aff7\" href=\"/chankoo/python/blob/master/4.2.1%20%EB%84%A4%EC%9D%B4%EB%B2%84%EB%89%B4%EC%8A%A4%20%EB%8C%93%EA%B8%80bot%20%EB%A7%8C%EB%93%A4%EA%B8%B0.ipynb\">4.2.1 \\xeb\\x84\\xa4\\xec\\x9d\\xb4\\xeb\\xb2\\x84\\xeb\\x89\\xb4\\xec\\x8a\\xa4 \\xeb\\x8c\\x93\\xea\\xb8\\x80bot \\xeb\\xa7\\x8c\\xeb\\x93\\xa4\\xea\\xb8\\xb0.ipynb</a></span>\\n          </td>\\n          <td class=\"message\">\\n            <span class=\"css-truncate css-truncate-target\">\\n            </span>\\n          </td>\\n          <td class=\"age\">\\n            <span class=\"css-truncate css-truncate-target\"></span>\\n          </td>\\n        </tr>\\n        <tr class=\"js-navigation-item\">\\n          <td class=\"icon\">\\n            <svg class=\"octicon octicon-file\" viewBox=\"0 0 12 16\" version=\"1.1\" width=\"12\" height=\"16\" aria-hidden=\"true\"><path fill-rule=\"evenodd\" d=\"M6 5H2V4h4v1zM2 8h7V7H2v1zm0 2h7V9H2v1zm0 2h7v-1H2v1zm10-7.5V14c0 .55-.45 1-1 1H1c-.55 0-1-.45-1-1V2c0-.55.45-1 1-1h7.5L12 4.5zM11 5L8 2H1v12h10V5z\"/></svg>\\n            <img width=\"16\" height=\"16\" class=\"spinner\" alt=\"\" src=\"https://assets-cdn.github.com/images/spinners/octocat-spinner-32.gif\" />\\n          </td>\\n          <td class=\"content\">\\n            <span class=\"css-truncate css-truncate-target\"><a class=\"js-navigation-open\" title=\"4.3 \\xec\\x9e\\x90\\xec\\x97\\xb0\\xec\\x96\\xb4\\xeb\\xb6\\x84\\xec\\x84\\x9d \\xea\\xb8\\xb0\\xec\\xb4\\x88.ipynb\" id=\"c86813dfb67cde2a868a840644d45934-09e76a22f5fc814358626dd62f7eca3645ad30b8\" href=\"/chankoo/python/blob/master/4.3%20%EC%9E%90%EC%97%B0%EC%96%B4%EB%B6%84%EC%84%9D%20%EA%B8%B0%EC%B4%88.ipynb\">4.3 \\xec\\x9e\\x90\\xec\\x97\\xb0\\xec\\x96\\xb4\\xeb\\xb6\\x84\\xec\\x84\\x9d \\xea\\xb8\\xb0\\xec\\xb4\\x88.ipynb</a></span>\\n          </td>\\n          <td class=\"message\">\\n            <span class=\"css-truncate css-truncate-target\">\\n            </span>\\n          </td>\\n          <td class=\"age\">\\n            <span class=\"css-truncate css-truncate-target\"></span>\\n          </td>\\n        </tr>\\n        <tr class=\"js-navigation-item\">\\n          <td class=\"icon\">\\n            <svg class=\"octicon octicon-file\" viewBox=\"0 0 12 16\" version=\"1.1\" width=\"12\" height=\"16\" aria-hidden=\"true\"><path fill-rule=\"evenodd\" d=\"M6 5H2V4h4v1zM2 8h7V7H2v1zm0 2h7V9H2v1zm0 2h7v-1H2v1zm10-7.5V14c0 .55-.45 1-1 1H1c-.55 0-1-.45-1-1V2c0-.55.45-1 1-1h7.5L12 4.5zM11 5L8 2H1v12h10V5z\"/></svg>\\n            <img width=\"16\" height=\"16\" class=\"spinner\" alt=\"\" src=\"https://assets-cdn.github.com/images/spinners/octocat-spinner-32.gif\" />\\n          </td>\\n          <td class=\"content\">\\n            <span class=\"css-truncate css-truncate-target\"><a class=\"js-navigation-open\" title=\"5.1 Flask.ipynb\" id=\"da485a54697a2451b821b92f25df8b80-f99ddb3365c400f3306f8f2dafbb59e8ac4a4226\" href=\"/chankoo/python/blob/master/5.1%20Flask.ipynb\">5.1 Flask.ipynb</a></span>\\n          </td>\\n          <td class=\"message\">\\n            <span class=\"css-truncate css-truncate-target\">\\n            </span>\\n          </td>\\n          <td class=\"age\">\\n            <span class=\"css-truncate css-truncate-target\"></span>\\n          </td>\\n        </tr>\\n        <tr class=\"js-navigation-item\">\\n          <td class=\"icon\">\\n            <svg class=\"octicon octicon-file\" viewBox=\"0 0 12 16\" version=\"1.1\" width=\"12\" height=\"16\" aria-hidden=\"true\"><path fill-rule=\"evenodd\" d=\"M6 5H2V4h4v1zM2 8h7V7H2v1zm0 2h7V9H2v1zm0 2h7v-1H2v1zm10-7.5V14c0 .55-.45 1-1 1H1c-.55 0-1-.45-1-1V2c0-.55.45-1 1-1h7.5L12 4.5zM11 5L8 2H1v12h10V5z\"/></svg>\\n            <img width=\"16\" height=\"16\" class=\"spinner\" alt=\"\" src=\"https://assets-cdn.github.com/images/spinners/octocat-spinner-32.gif\" />\\n          </td>\\n          <td class=\"content\">\\n            <span class=\"css-truncate css-truncate-target\"><a class=\"js-navigation-open\" title=\"README.md\" id=\"04c6e90faac2675aa89e2176d2eec7d8-bef7c17656b6cd8fbba5fc12e340beb6ac05085f\" href=\"/chankoo/python/blob/master/README.md\">README.md</a></span>\\n          </td>\\n          <td class=\"message\">\\n            <span class=\"css-truncate css-truncate-target\">\\n            </span>\\n          </td>\\n          <td class=\"age\">\\n            <span class=\"css-truncate css-truncate-target\"></span>\\n          </td>\\n        </tr>\\n        <tr class=\"js-navigation-item\">\\n          <td class=\"icon\">\\n            <svg class=\"octicon octicon-file\" viewBox=\"0 0 12 16\" version=\"1.1\" width=\"12\" height=\"16\" aria-hidden=\"true\"><path fill-rule=\"evenodd\" d=\"M6 5H2V4h4v1zM2 8h7V7H2v1zm0 2h7V9H2v1zm0 2h7v-1H2v1zm10-7.5V14c0 .55-.45 1-1 1H1c-.55 0-1-.45-1-1V2c0-.55.45-1 1-1h7.5L12 4.5zM11 5L8 2H1v12h10V5z\"/></svg>\\n            <img width=\"16\" height=\"16\" class=\"spinner\" alt=\"\" src=\"https://assets-cdn.github.com/images/spinners/octocat-spinner-32.gif\" />\\n          </td>\\n          <td class=\"content\">\\n            <span class=\"css-truncate css-truncate-target\"><a class=\"js-navigation-open\" title=\"chromedriver.exe\" id=\"322bfd8a1ce4882dd4aa2ac188b1bdca-404f36a981e7bc0c5c63bd2e05d3f8e66a7ff31b\" href=\"/chankoo/python/blob/master/chromedriver.exe\">chromedriver.exe</a></span>\\n          </td>\\n          <td class=\"message\">\\n            <span class=\"css-truncate css-truncate-target\">\\n            </span>\\n          </td>\\n          <td class=\"age\">\\n            <span class=\"css-truncate css-truncate-target\"></span>\\n          </td>\\n        </tr>\\n    </tbody>\\n  </table>\\n\\n</include-fragment>\\n\\n\\n\\n  <div id=\"readme\" class=\"Box Box--condensed instapaper_body md\">\\n    <div class=\"Box-header px-2\">\\n      <h3 class=\"Box-title\">\\n        <svg class=\"octicon octicon-book\" viewBox=\"0 0 16 16\" version=\"1.1\" width=\"16\" height=\"16\" aria-hidden=\"true\"><path fill-rule=\"evenodd\" d=\"M3 5h4v1H3V5zm0 3h4V7H3v1zm0 2h4V9H3v1zm11-5h-4v1h4V5zm0 2h-4v1h4V7zm0 2h-4v1h4V9zm2-6v9c0 .55-.45 1-1 1H9.5l-1 1-1-1H2c-.55 0-1-.45-1-1V3c0-.55.45-1 1-1h5.5l1 1 1-1H15c.55 0 1 .45 1 1zm-8 .5L7.5 3H2v9h6V3.5zm7-.5H9.5l-.5.5V12h6V3z\"/></svg>\\n        README.md\\n      </h3>\\n    </div>\\n      <div class=\"Box-body p-6\">\\n        <article class=\"markdown-body entry-content\" itemprop=\"text\"><h1><a id=\"user-content-python\" class=\"anchor\" aria-hidden=\"true\" href=\"#python\"><svg class=\"octicon octicon-link\" viewBox=\"0 0 16 16\" version=\"1.1\" width=\"16\" height=\"16\" aria-hidden=\"true\"><path fill-rule=\"evenodd\" d=\"M4 9h1v1H4c-1.5 0-3-1.69-3-3.5S2.55 3 4 3h4c1.45 0 3 1.69 3 3.5 0 1.41-.91 2.72-2 3.25V8.59c.58-.45 1-1.27 1-2.09C10 5.22 8.98 4 8 4H4c-.98 0-2 1.22-2 2.5S3 9 4 9zm9-3h-1v1h1c1 0 2 1.22 2 2.5S13.98 12 13 12H9c-.98 0-2-1.22-2-2.5 0-.83.42-1.64 1-2.09V6.25c-1.09.53-2 1.84-2 3.25C6 11.31 7.55 13 9 13h4c1.45 0 3-1.69 3-3.5S14.5 6 13 6z\"></path></svg></a>python</h1>\\n</article>\\n      </div>\\n  </div>\\n\\n\\n  </div>\\n  <div class=\"modal-backdrop js-touch-events\"></div>\\n</div>\\n\\n    </div>\\n  </div>\\n\\n  </div>\\n\\n        \\n<div class=\"footer container-lg px-3\" role=\"contentinfo\">\\n  <div class=\"position-relative d-flex flex-justify-between pt-6 pb-2 mt-6 f6 text-gray border-top border-gray-light \">\\n    <ul class=\"list-style-none d-flex flex-wrap \">\\n      <li class=\"mr-3\">&copy; 2018 <span title=\"0.25639s from unicorn-7ddb974fc5-5mxpk\">GitHub</span>, Inc.</li>\\n        <li class=\"mr-3\"><a data-ga-click=\"Footer, go to terms, text:terms\" href=\"https://github.com/site/terms\">Terms</a></li>\\n        <li class=\"mr-3\"><a data-ga-click=\"Footer, go to privacy, text:privacy\" href=\"https://github.com/site/privacy\">Privacy</a></li>\\n        <li class=\"mr-3\"><a href=\"https://help.github.com/articles/github-security/\" data-ga-click=\"Footer, go to security, text:security\">Security</a></li>\\n        <li class=\"mr-3\"><a href=\"https://status.github.com/\" data-ga-click=\"Footer, go to status, text:status\">Status</a></li>\\n        <li><a data-ga-click=\"Footer, go to help, text:help\" href=\"https://help.github.com\">Help</a></li>\\n    </ul>\\n\\n    <a aria-label=\"Homepage\" title=\"GitHub\" class=\"footer-octicon\" href=\"https://github.com\">\\n      <svg height=\"24\" class=\"octicon octicon-mark-github\" viewBox=\"0 0 16 16\" version=\"1.1\" width=\"24\" aria-hidden=\"true\"><path fill-rule=\"evenodd\" d=\"M8 0C3.58 0 0 3.58 0 8c0 3.54 2.29 6.53 5.47 7.59.4.07.55-.17.55-.38 0-.19-.01-.82-.01-1.49-2.01.37-2.53-.49-2.69-.94-.09-.23-.48-.94-.82-1.13-.28-.15-.68-.52-.01-.53.63-.01 1.08.58 1.23.82.72 1.21 1.87.87 2.33.66.07-.52.28-.87.51-1.07-1.78-.2-3.64-.89-3.64-3.95 0-.87.31-1.59.82-2.15-.08-.2-.36-1.02.08-2.12 0 0 .67-.21 2.2.82.64-.18 1.32-.27 2-.27.68 0 1.36.09 2 .27 1.53-1.04 2.2-.82 2.2-.82.44 1.1.16 1.92.08 2.12.51.56.82 1.27.82 2.15 0 3.07-1.87 3.75-3.65 3.95.29.25.54.73.54 1.48 0 1.07-.01 1.93-.01 2.2 0 .21.15.46.55.38A8.013 8.013 0 0 0 16 8c0-4.42-3.58-8-8-8z\"/></svg>\\n</a>\\n   <ul class=\"list-style-none d-flex flex-wrap \">\\n        <li class=\"mr-3\"><a data-ga-click=\"Footer, go to contact, text:contact\" href=\"https://github.com/contact\">Contact GitHub</a></li>\\n      <li class=\"mr-3\"><a href=\"https://developer.github.com\" data-ga-click=\"Footer, go to api, text:api\">API</a></li>\\n      <li class=\"mr-3\"><a href=\"https://training.github.com\" data-ga-click=\"Footer, go to training, text:training\">Training</a></li>\\n      <li class=\"mr-3\"><a href=\"https://shop.github.com\" data-ga-click=\"Footer, go to shop, text:shop\">Shop</a></li>\\n        <li class=\"mr-3\"><a href=\"https://blog.github.com\" data-ga-click=\"Footer, go to blog, text:blog\">Blog</a></li>\\n        <li><a data-ga-click=\"Footer, go to about, text:about\" href=\"https://github.com/about\">About</a></li>\\n\\n    </ul>\\n  </div>\\n  <div class=\"d-flex flex-justify-center pb-6\">\\n    <span class=\"f6 text-gray-light\"></span>\\n  </div>\\n</div>\\n\\n\\n\\n  <div id=\"ajax-error-message\" class=\"ajax-error-message flash flash-error\">\\n    <svg class=\"octicon octicon-alert\" viewBox=\"0 0 16 16\" version=\"1.1\" width=\"16\" height=\"16\" aria-hidden=\"true\"><path fill-rule=\"evenodd\" d=\"M8.893 1.5c-.183-.31-.52-.5-.887-.5s-.703.19-.886.5L.138 13.499a.98.98 0 0 0 0 1.001c.193.31.53.501.886.501h13.964c.367 0 .704-.19.877-.5a1.03 1.03 0 0 0 .01-1.002L8.893 1.5zm.133 11.497H6.987v-2.003h2.039v2.003zm0-3.004H6.987V5.987h2.039v4.006z\"/></svg>\\n    <button type=\"button\" class=\"flash-close js-ajax-error-dismiss\" aria-label=\"Dismiss error\">\\n      <svg class=\"octicon octicon-x\" viewBox=\"0 0 12 16\" version=\"1.1\" width=\"12\" height=\"16\" aria-hidden=\"true\"><path fill-rule=\"evenodd\" d=\"M7.48 8l3.75 3.75-1.48 1.48L6 9.48l-3.75 3.75-1.48-1.48L4.52 8 .77 4.25l1.48-1.48L6 6.52l3.75-3.75 1.48 1.48L7.48 8z\"/></svg>\\n    </button>\\n    You can\\xe2\\x80\\x99t perform that action at this time.\\n  </div>\\n\\n\\n    <script crossorigin=\"anonymous\" integrity=\"sha512-wIuAKDhvxe9wCaNR1tzCk3rtl+wXEWC28rmRpzmx0h98VEeWC6Y3xCWV1xAW6NP6eQQX+x8ZGhW6Sdut+mLRuw==\" type=\"application/javascript\" src=\"https://assets-cdn.github.com/assets/compat-a48960bafc17c30572990bbab3664e9c.js\"></script>\\n    <script crossorigin=\"anonymous\" integrity=\"sha512-T9r7TANxEw5b61zUTP0zrUDgKEbLij3RWKvb8wjzxhdwJvVTCxS0OBnUwEFVbPtVNuA3e45p0QcFTViOX7OYbA==\" type=\"application/javascript\" src=\"https://assets-cdn.github.com/assets/frameworks-da6850f0a1b7de3e14aa530447477130.js\"></script>\\n    \\n    <script crossorigin=\"anonymous\" async=\"async\" integrity=\"sha512-tDZOcD21Kf03/BykxiFf9uXH9ODACsC8X6hILA7NV2pSK2KFng3lsklmDXZfLEP7ZrV5No6SpvkKoa7i4L683Q==\" type=\"application/javascript\" src=\"https://assets-cdn.github.com/assets/github-30accc7b11498a2c0ae0e45a7b8cf3c6.js\"></script>\\n    \\n    \\n    \\n  <div class=\"js-stale-session-flash stale-session-flash flash flash-warn flash-banner d-none\">\\n    <svg class=\"octicon octicon-alert\" viewBox=\"0 0 16 16\" version=\"1.1\" width=\"16\" height=\"16\" aria-hidden=\"true\"><path fill-rule=\"evenodd\" d=\"M8.893 1.5c-.183-.31-.52-.5-.887-.5s-.703.19-.886.5L.138 13.499a.98.98 0 0 0 0 1.001c.193.31.53.501.886.501h13.964c.367 0 .704-.19.877-.5a1.03 1.03 0 0 0 .01-1.002L8.893 1.5zm.133 11.497H6.987v-2.003h2.039v2.003zm0-3.004H6.987V5.987h2.039v4.006z\"/></svg>\\n    <span class=\"signed-in-tab-flash\">You signed in with another tab or window. <a href=\"\">Reload</a> to refresh your session.</span>\\n    <span class=\"signed-out-tab-flash\">You signed out in another tab or window. <a href=\"\">Reload</a> to refresh your session.</span>\\n  </div>\\n  <div class=\"facebox\" id=\"facebox\" style=\"display:none;\">\\n  <div class=\"facebox-popup\">\\n    <div class=\"facebox-content\" role=\"dialog\" aria-labelledby=\"facebox-header\" aria-describedby=\"facebox-description\">\\n    </div>\\n    <button type=\"button\" class=\"facebox-close js-facebox-close\" aria-label=\"Close modal\">\\n      <svg class=\"octicon octicon-x\" viewBox=\"0 0 12 16\" version=\"1.1\" width=\"12\" height=\"16\" aria-hidden=\"true\"><path fill-rule=\"evenodd\" d=\"M7.48 8l3.75 3.75-1.48 1.48L6 9.48l-3.75 3.75-1.48-1.48L4.52 8 .77 4.25l1.48-1.48L6 6.52l3.75-3.75 1.48 1.48L7.48 8z\"/></svg>\\n    </button>\\n  </div>\\n</div>\\n\\n  <div class=\"Popover js-hovercard-content position-absolute\" style=\"display: none; outline: none;\" tabindex=\"0\">\\n  <div class=\"Popover-message Popover-message--bottom-left Popover-message--large Box box-shadow-large\" style=\"width:360px;\">\\n  </div>\\n</div>\\n\\n<div id=\"hovercard-aria-description\" class=\"sr-only\">\\n  Press h to open a hovercard with more details.\\n</div>\\n\\n\\n  </body>\\n</html>\\n\\n'\n"
     ]
    }
   ],
   "source": [
    "url = \"https://github.com/chankoo/python\"\n",
    "\n",
    "res = rq.get(url) \n",
    "\n",
    "print(res.content) #바이너리 형태로 HTML을 가져온다. res.text로도 가져올 수 있다. \n",
    "#가독성이 떨어짐 => bs4 이용"
   ]
  },
  {
   "cell_type": "markdown",
   "metadata": {
    "colab_type": "text",
    "id": "7cjSJRJZ0FJN"
   },
   "source": [
    "# 파싱모듈"
   ]
  },
  {
   "cell_type": "markdown",
   "metadata": {
    "colab_type": "text",
    "id": "W7xR0M1O0FJO"
   },
   "source": [
    "요청 모듈로 가져온 HTML 코드를 파이썬이 쓸 수 있는 코드로 변환해 주어야 합니다. \n",
    "\n",
    "bs4을 사용하여 HTML코드를 파이썬에서 사용가능한 객체로 바꿔줄 수 있습니다. \n",
    "\n",
    "bs4는 파이썬 내장 모듈이기 때문에 추가로 설치할 필요가 없습니다. bs4를 사용하기 위해 import해줍니다"
   ]
  },
  {
   "cell_type": "code",
   "execution_count": 7,
   "metadata": {
    "colab": {
     "autoexec": {
      "startup": false,
      "wait_interval": 0
     },
     "base_uri": "https://localhost:8080/",
     "height": 223
    },
    "colab_type": "code",
    "executionInfo": {
     "elapsed": 767,
     "status": "ok",
     "timestamp": 1532408837830,
     "user": {
      "displayName": "Gang min Kim",
      "photoUrl": "https://lh3.googleusercontent.com/a/default-user=s128",
      "userId": "117554242501406132618"
     },
     "user_tz": -540
    },
    "id": "AbgcOQG40FJQ",
    "outputId": "49eaca59-4f98-4d23-92b0-e2c6a2b9da8f"
   },
   "outputs": [
    {
     "name": "stdout",
     "output_type": "stream",
     "text": [
      "<html> <head> </head> <body> <p> 강민 </p> </body></html>\n",
      "------------------------------\n",
      "<html>\n",
      " <head>\n",
      " </head>\n",
      " <body>\n",
      "  <p>\n",
      "   강민\n",
      "  </p>\n",
      " </body>\n",
      "</html>\n"
     ]
    }
   ],
   "source": [
    "import bs4\n",
    "from bs4 import BeautifulSoup\n",
    "html = \"\"\"<html> <head> </head> <body> <p> 강민 </p> </body></html>\"\"\"\n",
    "soup = bs4.BeautifulSoup(html,'html.parser') # 파서란 원시코드인 순수 문자열 객체를 해석할 수 있도록 분석하는것. \n",
    "                                      # 속도가 빠르기 때문에 lxml을 보통 쓴다.\n",
    "                                      # 보기 쉽게 정렬을 해줌\n",
    "print(soup)\n",
    "print('-'*30)\n",
    "print(soup.prettify())\n"
   ]
  },
  {
   "cell_type": "markdown",
   "metadata": {
    "colab_type": "text",
    "id": "cRjwDZb60FJW"
   },
   "source": [
    "## 간단한 태그 접근"
   ]
  },
  {
   "cell_type": "markdown",
   "metadata": {
    "colab_type": "text",
    "id": "Cwe84IAj0FJY"
   },
   "source": [
    "soup.[태그 이름]의 형태로 태그의 정보를 가져올 수 있다. 하지만 이 경우는 가장 첫번째로 등장하는 태그의 정보만 가져온다. 만약 soup.p를 한다면 가장 먼저 등장하는 p태그의 정보만 가져온다"
   ]
  },
  {
   "cell_type": "code",
   "execution_count": 40,
   "metadata": {
    "colab": {
     "autoexec": {
      "startup": false,
      "wait_interval": 0
     },
     "base_uri": "https://localhost:8080/",
     "height": 409
    },
    "colab_type": "code",
    "executionInfo": {
     "elapsed": 774,
     "status": "ok",
     "timestamp": 1532411556298,
     "user": {
      "displayName": "Gang min Kim",
      "photoUrl": "https://lh3.googleusercontent.com/a/default-user=s128",
      "userId": "117554242501406132618"
     },
     "user_tz": -540
    },
    "id": "lj41RgFV0FJY",
    "outputId": "30e56785-c1d0-401d-e035-9d174f78aa66"
   },
   "outputs": [
    {
     "name": "stdout",
     "output_type": "stream",
     "text": [
      "<html>\n",
      " <head>\n",
      "  <title>\n",
      "   연식\n",
      "  </title>\n",
      " </head>\n",
      " <body>\n",
      "  <p>\n",
      "   p1\n",
      "  </p>\n",
      "  <p>\n",
      "   p2\n",
      "  </p>\n",
      "  <p>\n",
      "   p3\n",
      "  </p>\n",
      " </body>\n",
      "</html>\n",
      "------------------------------\n",
      "<p>p1</p>\n",
      "p1\n"
     ]
    }
   ],
   "source": [
    "from bs4 import BeautifulSoup\n",
    "html = \"\"\"<html> <head><title>연식</title></head> <body><p>p1</p> <p>p2</p> <p>p3</p> </body></html>\"\"\"\n",
    "soup = bs4.BeautifulSoup(html,'html.parser')\n",
    "print(soup.prettify())\n",
    "\n",
    "print(\"-\"*30)\n",
    "\n",
    "print(soup.p) #첫번째 태그 p2,p3는 가져오지 못한다\n",
    "print(soup.p.string) #해당 태그의 값(하나만 가능함)\n"
   ]
  },
  {
   "cell_type": "markdown",
   "metadata": {
    "colab_type": "text",
    "id": "okwTdglL0FJe"
   },
   "source": [
    "## 속성 데이터"
   ]
  },
  {
   "cell_type": "markdown",
   "metadata": {
    "colab_type": "text",
    "id": "roPQarZQ0FJe"
   },
   "source": [
    "a 태그의 href 속성, img 태그의 src속성을 가져오기 위해서는 속성에 접근해야 됩니다."
   ]
  },
  {
   "cell_type": "code",
   "execution_count": 39,
   "metadata": {
    "colab": {
     "autoexec": {
      "startup": false,
      "wait_interval": 0
     },
     "base_uri": "https://localhost:8080/",
     "height": 428
    },
    "colab_type": "code",
    "executionInfo": {
     "elapsed": 820,
     "status": "ok",
     "timestamp": 1532411289875,
     "user": {
      "displayName": "Gang min Kim",
      "photoUrl": "https://lh3.googleusercontent.com/a/default-user=s128",
      "userId": "117554242501406132618"
     },
     "user_tz": -540
    },
    "id": "EYGfTPl00FJf",
    "outputId": "472e07a9-8056-4274-808f-562da1ceec56"
   },
   "outputs": [
    {
     "name": "stdout",
     "output_type": "stream",
     "text": [
      "<html>\n",
      " <head>\n",
      "  <title class=\"t\" id=\"ti\">\n",
      "   혜원\n",
      "  </title>\n",
      " </head>\n",
      " <body>\n",
      "  <p>\n",
      "   선우\n",
      "  </p>\n",
      "  <p>\n",
      "   혜린\n",
      "  </p>\n",
      "  <p>\n",
      "   태희\n",
      "  </p>\n",
      " </body>\n",
      "</html>\n",
      "------------------------------\n",
      "{'class': ['t'], 'id': 'ti'}\n",
      "['t']\n",
      "ti\n"
     ]
    }
   ],
   "source": [
    "from bs4 import BeautifulSoup\n",
    "html = \"\"\"<html> <head><title class=\"t\" id = \"ti\"> 혜원 </title></head> <body><p>선우</p><p>혜린</p><p>태희</p></body></html>\"\"\"\n",
    "soup = BeautifulSoup(html,'html.parser')\n",
    "print(soup.prettify())\n",
    "\n",
    "print(\"-\"*30)\n",
    "\n",
    "print(soup.title.attrs) #타이틀 태그의 속성에 접근\n",
    "print(soup.title['class']) #타이틀 태그의 class속성값\n",
    "print(soup.title['id']) #타이틀 태그의 id속성값"
   ]
  },
  {
   "cell_type": "markdown",
   "metadata": {
    "colab_type": "text",
    "id": "Xe72o5qP0FJj"
   },
   "source": [
    "## 원하는 요소 정확히 접근하기"
   ]
  },
  {
   "cell_type": "markdown",
   "metadata": {
    "colab_type": "text",
    "id": "1U4d85lQ0FJl"
   },
   "source": [
    "find_all()함수를 이용하면 우리가 원하는 태그들을 리스트의 형태로 얻어올 수 있습니다\n"
   ]
  },
  {
   "cell_type": "code",
   "execution_count": 42,
   "metadata": {
    "colab": {
     "autoexec": {
      "startup": false,
      "wait_interval": 0
     },
     "base_uri": "https://localhost:8080/",
     "height": 485
    },
    "colab_type": "code",
    "executionInfo": {
     "elapsed": 1181,
     "status": "ok",
     "timestamp": 1532417325284,
     "user": {
      "displayName": "Gang min Kim",
      "photoUrl": "https://lh3.googleusercontent.com/a/default-user=s128",
      "userId": "117554242501406132618"
     },
     "user_tz": -540
    },
    "id": "N8wiTjag0FJl",
    "outputId": "3f259309-236a-42c6-f28d-369130a36443"
   },
   "outputs": [
    {
     "name": "stdout",
     "output_type": "stream",
     "text": [
      "<html>\n",
      " <head>\n",
      "  <title>\n",
      "   준호\n",
      "  </title>\n",
      " </head>\n",
      " <body>\n",
      "  <p>\n",
      "   명아\n",
      "  </p>\n",
      "  <p>\n",
      "   지원\n",
      "  </p>\n",
      "  <p>\n",
      "   성현\n",
      "  </p>\n",
      " </body>\n",
      "</html>\n",
      "------------------------------\n",
      "[<title>준호</title>]\n",
      "[<p>명아</p>, <p>지원</p>, <p>성현</p>]\n",
      "명아\n",
      "지원\n",
      "성현\n"
     ]
    }
   ],
   "source": [
    "#원하는 태그 가져오기\n",
    "from bs4 import BeautifulSoup\n",
    "html = \"\"\"<html> <head><title>준호</title></head><body><p>명아</p><p>지원</p><p>성현</p></body></html>\"\"\"\n",
    "soup = BeautifulSoup(html,'html.parser')\n",
    "print(soup.prettify())\n",
    "\n",
    "print(\"-\"*30)\n",
    "\n",
    "print(soup.find_all('title')) #title태그를 가져온다\n",
    "print(soup.find_all('p')) #p태그를 가져온다\n",
    "\n",
    "p_tags=soup.find_all('p')\n",
    "for ptag in p_tags:\n",
    "  print(ptag.string)"
   ]
  },
  {
   "cell_type": "code",
   "execution_count": 0,
   "metadata": {
    "colab": {
     "autoexec": {
      "startup": false,
      "wait_interval": 0
     }
    },
    "colab_type": "code",
    "id": "YS0zo1QD0FJp",
    "outputId": "9dceae2f-2e93-4174-b9ea-1f0556da5cec"
   },
   "outputs": [
    {
     "name": "stdout",
     "output_type": "stream",
     "text": [
      "<html>\n",
      " <head>\n",
      "  <title>\n",
      "   준호\n",
      "  </title>\n",
      " </head>\n",
      " <body>\n",
      "  <p id=\"d\">\n",
      "   명아\n",
      "  </p>\n",
      "  <p>\n",
      "   지원\n",
      "  </p>\n",
      "  <p>\n",
      "   성현\n",
      "  </p>\n",
      " </body>\n",
      "</html>\n",
      "------------------------------\n",
      "[<p id=\"d\">명아</p>]\n"
     ]
    }
   ],
   "source": [
    "# id값으로 가져오기\n",
    "from bs4 import BeautifulSoup\n",
    "\n",
    "html = \"\"\"<html> <head><title>준호</title></head><body><p id = 'd'>명아</p><p>지원</p><p>성현</p></body></html>\"\"\"\n",
    "soup = BeautifulSoup(html,'lxml')\n",
    "print(soup.prettify())\n",
    "\n",
    "print(\"-\"*30)\n",
    "print(soup.find_all(id = 'd')) # id=d인 태그를 가져온다    \n"
   ]
  },
  {
   "cell_type": "code",
   "execution_count": 0,
   "metadata": {
    "colab": {
     "autoexec": {
      "startup": false,
      "wait_interval": 0
     }
    },
    "colab_type": "code",
    "id": "IJVcdQL40FJt",
    "outputId": "e05679d1-da7a-49a2-a5ed-a1f2260ec31b"
   },
   "outputs": [
    {
     "name": "stdout",
     "output_type": "stream",
     "text": [
      "<html>\n",
      " <head>\n",
      "  <title>\n",
      "   준호\n",
      "  </title>\n",
      " </head>\n",
      " <body>\n",
      "  <p class=\"d\">\n",
      "   명아\n",
      "  </p>\n",
      "  <p class=\"c\">\n",
      "   지원\n",
      "  </p>\n",
      "  <p>\n",
      "   성현\n",
      "  </p>\n",
      " </body>\n",
      "</html>\n",
      "------------------------------\n",
      "[<p class=\"d\">명아</p>]\n",
      "[<p class=\"c\">지원</p>]\n",
      "[<p class=\"c\">지원</p>]\n"
     ]
    }
   ],
   "source": [
    "#원하는 태그 원하는 값으로 태그 가져오기\n",
    "from bs4 import BeautifulSoup\n",
    "html = \"\"\"<html> <head><title>준호</title></head><body><p class = 'd'>명아</p><p class='c'>지원</p><p>성현</p></body></html>\"\"\"\n",
    "soup = BeautifulSoup(html,'lxml')\n",
    "print(soup.prettify())\n",
    "\n",
    "print(\"-\"*30)\n",
    "print(soup.find_all('p',class_='d')) #클라스 속성이 d인 p태그를 찾는다.\n",
    "print(soup.find_all('p',class_='c'))\n",
    "print(soup.find_all('p','c')) #클라스는 굳이 class_쓰지 않고 비워도 된다."
   ]
  },
  {
   "cell_type": "code",
   "execution_count": 1,
   "metadata": {
    "colab": {
     "autoexec": {
      "startup": false,
      "wait_interval": 0
     },
     "base_uri": "https://localhost:8080/",
     "height": 391
    },
    "colab_type": "code",
    "executionInfo": {
     "elapsed": 787,
     "status": "ok",
     "timestamp": 1532409791975,
     "user": {
      "displayName": "Gang min Kim",
      "photoUrl": "https://lh3.googleusercontent.com/a/default-user=s128",
      "userId": "117554242501406132618"
     },
     "user_tz": -540
    },
    "id": "3PmRgZ-c0FJ0",
    "outputId": "f2f205a5-8063-4fc7-91d1-3fc4a094fae4",
    "scrolled": true
   },
   "outputs": [
    {
     "name": "stdout",
     "output_type": "stream",
     "text": [
      "<html>\n",
      " <head>\n",
      "  <title>\n",
      "   준호\n",
      "  </title>\n",
      " </head>\n",
      " <body>\n",
      "  <p class=\"d\">\n",
      "   명아\n",
      "  </p>\n",
      "  <p class=\"c\">\n",
      "   지원\n",
      "  </p>\n",
      "  <p>\n",
      "   성현\n",
      "  </p>\n",
      " </body>\n",
      "</html>\n",
      "------------------------------\n",
      "[<p class=\"d\">명아</p>]\n"
     ]
    }
   ],
   "source": [
    "#텍스트 속성 이용하여 필요한 태그 가져오기\n",
    "from bs4 import BeautifulSoup\n",
    "html = \"\"\"<html> <head><title>준호</title></head><body><p class = 'd'>명아</p><p class='c'>지원</p><p>성현</p></body></html>\"\"\"\n",
    "soup = BeautifulSoup(html,'html.parser')\n",
    "print(soup.prettify())\n",
    "\n",
    "print(\"-\"*30)\n",
    "print(soup.find_all('p',text=\"명아\")) #p태그중에서 '명아'라는 태그를 찾는 코드"
   ]
  },
  {
   "cell_type": "markdown",
   "metadata": {
    "colab_type": "text",
    "id": "qAtIRVp30FJ6"
   },
   "source": [
    "find 를 사용하면 해당 페이지에서 찾고자 하는 요소가 하나만 있을 때 사용하는 것이 좋습니다. 가장 많이 사용되는 예가 id값으로 접근하는 요소입니다"
   ]
  },
  {
   "cell_type": "code",
   "execution_count": 10,
   "metadata": {
    "colab": {
     "autoexec": {
      "startup": false,
      "wait_interval": 0
     },
     "base_uri": "https://localhost:8080/",
     "height": 503
    },
    "colab_type": "code",
    "executionInfo": {
     "elapsed": 791,
     "status": "ok",
     "timestamp": 1532409586008,
     "user": {
      "displayName": "Gang min Kim",
      "photoUrl": "https://lh3.googleusercontent.com/a/default-user=s128",
      "userId": "117554242501406132618"
     },
     "user_tz": -540
    },
    "id": "WuNBM9-J0FJ7",
    "outputId": "d121ce47-e9db-4f34-d626-d781d8516cc3"
   },
   "outputs": [
    {
     "name": "stdout",
     "output_type": "stream",
     "text": [
      "<html>\n",
      " <head>\n",
      "  <title>\n",
      "   신상윤\n",
      "  </title>\n",
      " </head>\n",
      " <body>\n",
      "  <p>\n",
      "   시은\n",
      "  </p>\n",
      "  <p class=\"d\">\n",
      "   영현\n",
      "  </p>\n",
      "  <p class=\"c\">\n",
      "   선영\n",
      "  </p>\n",
      " </body>\n",
      "</html>\n",
      "<a>\n",
      " 예린\n",
      "</a>\n",
      "<b>\n",
      " 준현\n",
      "</b>\n",
      "------------------------------\n",
      "시은\n"
     ]
    }
   ],
   "source": [
    "from bs4 import BeautifulSoup\n",
    "html = \"\"\"<html><head><title>신상윤</title></head><body><p>시은</p><p class='d'>영현</p><p class = \"c\">선영</p></p><a>예린</a><b>준현</b></body></html>\"\"\"\n",
    "soup = BeautifulSoup(html,'html.parser')\n",
    "\n",
    "print(soup.prettify())\n",
    "print(\"-\"*30)\n",
    "print(soup.find('p').string) #첫번째 p태그만 출력됨 .string 이용하여 내용"
   ]
  },
  {
   "cell_type": "markdown",
   "metadata": {
    "colab_type": "text",
    "id": "Yz2cW5JB0FJ-"
   },
   "source": [
    "select()함수를 이용하면 find_all()처럼 리스트로 반환합니다. 하지만 select()는 CSS셀렉터를 활용하여 원하는 요소에 접근합니다. 클래스는 마침표(.), 아이디는 샵(#) 그리고 자식 태그를 표현할 땐 띄어쓰기를 사용합니다."
   ]
  },
  {
   "cell_type": "code",
   "execution_count": 14,
   "metadata": {
    "colab": {
     "autoexec": {
      "startup": false,
      "wait_interval": 0
     },
     "base_uri": "https://localhost:8080/",
     "height": 596
    },
    "colab_type": "code",
    "executionInfo": {
     "elapsed": 1004,
     "status": "ok",
     "timestamp": 1532409718333,
     "user": {
      "displayName": "Gang min Kim",
      "photoUrl": "https://lh3.googleusercontent.com/a/default-user=s128",
      "userId": "117554242501406132618"
     },
     "user_tz": -540
    },
    "id": "h3yWz49-0FKA",
    "outputId": "fc9d5917-60a4-4929-9c85-576ecd89aa17"
   },
   "outputs": [
    {
     "name": "stdout",
     "output_type": "stream",
     "text": [
      "<html>\n",
      " <head>\n",
      "  <title>\n",
      "   윤회\n",
      "  </title>\n",
      " </head>\n",
      " <body>\n",
      "  <p class=\"a\" id=\"i\">\n",
      "   현석\n",
      "  </p>\n",
      "  <p class=\"d\">\n",
      "   지연\n",
      "  </p>\n",
      "  <p class=\"d\">\n",
      "   상우\n",
      "  </p>\n",
      " </body>\n",
      "</html>\n",
      "<a>\n",
      " 연식\n",
      "</a>\n",
      "<b>\n",
      " 강민\n",
      "</b>\n",
      "------------------------------\n",
      "[<p class=\"a\" id=\"i\">현석</p>, <p class=\"d\">지연</p>, <p class=\"d\">상우</p>]\n",
      "[<p class=\"d\">지연</p>, <p class=\"d\">상우</p>]\n",
      "[<p class=\"d\">지연</p>, <p class=\"d\">상우</p>]\n",
      "[<p class=\"a\" id=\"i\">현석</p>]\n",
      "[<p class=\"a\" id=\"i\">현석</p>]\n",
      "[<p class=\"d\">지연</p>, <p class=\"d\">상우</p>]\n"
     ]
    }
   ],
   "source": [
    "from bs4 import BeautifulSoup\n",
    "html = \"\"\"<html><head><title>윤회</title></head><body><p id = \"i\" class = \"a\">현석</p><p class = \"d\">지연</p><p class = \"d\">상우</p></p><a>연식</a><b>강민</b></body></html>\"\"\"\n",
    "soup = BeautifulSoup(html,'html.parser')\n",
    "print(soup.prettify())\n",
    "print(\"-\"*30)\n",
    "print(soup.select('p')) #문서에서 모든 p요소를 찾아준다\n",
    "print(soup.select('.d')) # 문서에서 클래스가 d인 모든 요소를 찾아준다\n",
    "print(soup.select('p.d')) #문서에서 태그가 p이고 클래스가 d인 모든 요소를 찾아준다\n",
    "print(soup.select('#i')) #문서에서 아이디가 i인 모든 요소를 찾아준다\n",
    "print(soup.select('p#i')) #문서에서 태그가 p이고 아이디가 i인 모든 요소를 찾아준다\n",
    "print(soup.select('body .d')) # 문서에서 body태그 안에 클래스가 d인 모든 요소를 찾아준다"
   ]
  },
  {
   "cell_type": "markdown",
   "metadata": {
    "colab_type": "text",
    "id": "Cdxpw4uO0FKJ"
   },
   "source": [
    "## 실전예제"
   ]
  },
  {
   "cell_type": "markdown",
   "metadata": {
    "colab_type": "text",
    "id": "e78GKEk_0FKK"
   },
   "source": [
    "### 네이버 금융에서 환율정보 가져오기"
   ]
  },
  {
   "cell_type": "markdown",
   "metadata": {
    "colab_type": "text",
    "id": "TRicwXOk0FKN"
   },
   "source": [
    "![%EC%BA%A1%EC%B2%98.PNG](attachment:%EC%BA%A1%EC%B2%98.PNG)"
   ]
  },
  {
   "cell_type": "code",
   "execution_count": 2,
   "metadata": {
    "colab": {
     "autoexec": {
      "startup": false,
      "wait_interval": 0
     },
     "base_uri": "https://localhost:8080/",
     "height": 36
    },
    "colab_type": "code",
    "executionInfo": {
     "elapsed": 1867,
     "status": "ok",
     "timestamp": 1532410711850,
     "user": {
      "displayName": "Gang min Kim",
      "photoUrl": "https://lh3.googleusercontent.com/a/default-user=s128",
      "userId": "117554242501406132618"
     },
     "user_tz": -540
    },
    "id": "oBQW349x0FKN",
    "outputId": "1517257a-8b12-4bd4-b8b7-35f2b379b8e8"
   },
   "outputs": [
    {
     "name": "stdout",
     "output_type": "stream",
     "text": [
      "<Response [200]>\n"
     ]
    }
   ],
   "source": [
    "import requests as rq\n",
    "from bs4 import BeautifulSoup\n",
    "url = \"http://info.finance.naver.com/marketindex/\"\n",
    "res = rq.get(url)\n",
    "print(res)\n",
    "soup  = BeautifulSoup(res.content,'html.parser')"
   ]
  },
  {
   "cell_type": "markdown",
   "metadata": {
    "colab_type": "text",
    "id": "qVGApT4a0FKT"
   },
   "source": [
    "마우스 오른쪽 클릭 - 검사 를 누르면 해당 페이지의 소스를 볼 수 있다."
   ]
  },
  {
   "cell_type": "markdown",
   "metadata": {
    "colab_type": "text",
    "id": "YnofuiQS0FKU"
   },
   "source": [
    "![2.PNG](attachment:2.PNG)"
   ]
  },
  {
   "cell_type": "markdown",
   "metadata": {
    "colab_type": "text",
    "id": "5KqaphYs0FKW"
   },
   "source": [
    "미국 USD 환율 정보가 span 태그의 class='value'인 걸 확인할 수 있다. select 함수를 이용한다"
   ]
  },
  {
   "cell_type": "code",
   "execution_count": 3,
   "metadata": {
    "colab": {
     "autoexec": {
      "startup": false,
      "wait_interval": 0
     },
     "base_uri": "https://localhost:8080/",
     "height": 280
    },
    "colab_type": "code",
    "executionInfo": {
     "elapsed": 560,
     "status": "ok",
     "timestamp": 1532410100504,
     "user": {
      "displayName": "Gang min Kim",
      "photoUrl": "https://lh3.googleusercontent.com/a/default-user=s128",
      "userId": "117554242501406132618"
     },
     "user_tz": -540
    },
    "id": "3HloZu080FKX",
    "outputId": "930c63c0-cf65-41c9-d9df-031e63358546"
   },
   "outputs": [
    {
     "name": "stdout",
     "output_type": "stream",
     "text": [
      "[<span class=\"value\">1,134.50</span>, <span class=\"value\">1,019.96</span>, <span class=\"value\">1,327.02</span>, <span class=\"value\">166.21</span>, <span class=\"value\">111.3900</span>, <span class=\"value\">1.1704</span>, <span class=\"value\">1.3111</span>, <span class=\"value\">94.4400</span>, <span class=\"value\">67.89</span>, <span class=\"value\">1612.2</span>, <span class=\"value\">1224.0</span>, <span class=\"value\">44681.43</span>]\n",
      "1,134.50\n",
      "1,019.96\n",
      "1,327.02\n",
      "166.21\n",
      "111.3900\n",
      "1.1704\n",
      "1.3111\n",
      "94.4400\n",
      "67.89\n",
      "1612.2\n",
      "1224.0\n",
      "44681.43\n"
     ]
    }
   ],
   "source": [
    "results = soup.select('span.value')\n",
    "print(results)\n",
    "for result in results:\n",
    "    print(result.string)"
   ]
  },
  {
   "cell_type": "markdown",
   "metadata": {
    "colab_type": "text",
    "id": "8K0anDDd0FKb"
   },
   "source": [
    "미국 USD 환율정보와 일본 엔/달러에 관심이 있다면 그 요소들만 뽑아낸다"
   ]
  },
  {
   "cell_type": "code",
   "execution_count": 23,
   "metadata": {
    "colab": {
     "autoexec": {
      "startup": false,
      "wait_interval": 0
     },
     "base_uri": "https://localhost:8080/",
     "height": 55
    },
    "colab_type": "code",
    "executionInfo": {
     "elapsed": 663,
     "status": "ok",
     "timestamp": 1532410125822,
     "user": {
      "displayName": "Gang min Kim",
      "photoUrl": "https://lh3.googleusercontent.com/a/default-user=s128",
      "userId": "117554242501406132618"
     },
     "user_tz": -540
    },
    "id": "MwT6nCUT0FKc",
    "outputId": "17f18e52-1429-4cc0-871d-8d84a67654e1"
   },
   "outputs": [
    {
     "name": "stdout",
     "output_type": "stream",
     "text": [
      "미국 USD환율 : 1,134.60\n",
      "일본 엔/달러 : 111.3900\n"
     ]
    }
   ],
   "source": [
    "print(\"미국 USD환율\",\":\",results[0].string)\n",
    "print(\"일본 엔/달러\",\":\",results[4].string)"
   ]
  }
 ],
 "metadata": {
  "colab": {
   "collapsed_sections": [],
   "default_view": {},
   "name": "웹 크롤링.ipynb",
   "provenance": [],
   "version": "0.3.2",
   "views": {}
  },
  "kernelspec": {
   "display_name": "Python 3",
   "language": "python",
   "name": "python3"
  },
  "language_info": {
   "codemirror_mode": {
    "name": "ipython",
    "version": 3
   },
   "file_extension": ".py",
   "mimetype": "text/x-python",
   "name": "python",
   "nbconvert_exporter": "python",
   "pygments_lexer": "ipython3",
   "version": "3.6.5"
  }
 },
 "nbformat": 4,
 "nbformat_minor": 1
}
