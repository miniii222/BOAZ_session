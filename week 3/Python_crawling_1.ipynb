{
 "cells": [
  {
   "cell_type": "code",
   "execution_count": 1,
   "metadata": {
    "collapsed": true
   },
   "outputs": [],
   "source": [
    "from browsermobproxy import Server\n",
    "import time\n",
    "import urllib.request, json\n",
    "from pandas import *\n",
    "from selenium import webdriver\n",
    "server = Server(\"/Users/joono/browsermob-proxy-2.1.4/bin/browsermob-proxy\")\n",
    "server.start()\n",
    "proxy = server.create_proxy()\n"
   ]
  },
  {
   "cell_type": "code",
   "execution_count": 2,
   "metadata": {
    "collapsed": true
   },
   "outputs": [],
   "source": [
    "keyword = '혜화역'\n",
    "webdriver_path = '/Users/joono/chromedriver'\n",
    "email = 'jjjjooonno@gmail.com'"
   ]
  },
  {
   "cell_type": "code",
   "execution_count": 3,
   "metadata": {
    "collapsed": true
   },
   "outputs": [],
   "source": [
    "chrome_options = webdriver.ChromeOptions()\n",
    "chrome_options.add_argument('--proxy-server={host}:{port}'.format(host='localhost', port=proxy.port))"
   ]
  },
  {
   "cell_type": "code",
   "execution_count": 4,
   "metadata": {},
   "outputs": [
    {
     "data": {
      "text/plain": [
       "(204, None)"
      ]
     },
     "execution_count": 4,
     "metadata": {},
     "output_type": "execute_result"
    }
   ],
   "source": [
    "dr = webdriver.Chrome(webdriver_path,chrome_options=chrome_options)\n",
    "proxy.new_har(\"zigbang\", options={'captureHeaders': True, 'captureContent': True})"
   ]
  },
  {
   "cell_type": "code",
   "execution_count": 5,
   "metadata": {
    "collapsed": true
   },
   "outputs": [],
   "source": [
    "dr.get(\"https://www.zigbang.com/\")\n",
    "time.sleep(1)\n",
    "dr.find_element_by_xpath('/html/body/div[1]/div[1]/div[2]/div/button[1]').click()\n",
    "time.sleep(3)\n",
    "dr.find_element_by_name('username').send_keys(email)\n",
    "time.sleep(1)\n",
    "dr.find_element_by_xpath('/html/body/div[4]/div/form/div[2]/div[2]/button').click()\n",
    "time.sleep(2)"
   ]
  },
  {
   "cell_type": "code",
   "execution_count": 8,
   "metadata": {
    "collapsed": true
   },
   "outputs": [],
   "source": [
    "# dr.find_element_by_id('room-textfield').send_keys(keyword)\n",
    "# time.sleep(5)\n",
    "# dr.find_element_by_xpath('//*[@id=\"search_btn\"]').click()\n",
    "# time.sleep(10)\n",
    "url_json_holder = []\n",
    "for ent in proxy.har['log']['entries']:\n",
    "    url_json = str(ent['request']['url'])\n",
    "    if 'https://api.zigbang.com/v3/items?detail=true&item_ids=' in url_json:\n",
    "        url_json_holder.append(url_json)\n",
    "        break"
   ]
  },
  {
   "cell_type": "code",
   "execution_count": 9,
   "metadata": {},
   "outputs": [
    {
     "name": "stderr",
     "output_type": "stream",
     "text": [
      "/Library/Frameworks/Python.framework/Versions/3.6/lib/python3.6/site-packages/ipykernel_launcher.py:12: FutureWarning: pandas.json is deprecated and will be removed in a future version.\n",
      "You can access loads as pandas.io.json.loads\n",
      "  if sys.path[0] == '':\n"
     ]
    }
   ],
   "source": [
    "rent = []\n",
    "deposit = []\n",
    "floor = []\n",
    "floor_all = []\n",
    "size = []\n",
    "near_subways = []\n",
    "elevator = []\n",
    "movein_date = []\n",
    "description = []\n",
    "user_has_penalty = []\n",
    "with urllib.request.urlopen(url_json_holder[0]) as url:\n",
    "    data = json.loads(url.read().decode())\n",
    "for i in data['items']:\n",
    "    rent.append(i['item']['rent'])\n",
    "    deposit.append(i['item']['deposit'])\n",
    "    floor.append(i['item']['floor'])\n",
    "    floor_all.append(i['item']['floor_all'])\n",
    "    size.append(i['item']['size'])\n",
    "    near_subways.append(i['item']['near_subways'])\n",
    "    elevator.append(i['item']['elevator'])\n",
    "    movein_date.append(i['item']['movein_date'])\n",
    "    description.append(i['item']['description'])\n",
    "    user_has_penalty.append(i['item']['user_has_penalty'])"
   ]
  },
  {
   "cell_type": "code",
   "execution_count": 10,
   "metadata": {
    "collapsed": true
   },
   "outputs": [],
   "source": [
    "zigbangs = DataFrame({'월세':rent,'보증금/전세':deposit,'층':floor,'건물층수':floor_all,'평수':size,'가까운 역':near_subways,\n",
    "                      '입주날짜':movein_date,'설명':description,'판매자벌점여부':user_has_penalty})\n",
    "zigbangs.to_csv('zigbang_{0}.csv'.format(keyword+'test'))"
   ]
  },
  {
   "cell_type": "code",
   "execution_count": null,
   "metadata": {
    "collapsed": true
   },
   "outputs": [],
   "source": []
  }
 ],
 "metadata": {
  "kernelspec": {
   "display_name": "Python 3",
   "language": "python",
   "name": "python3"
  },
  "language_info": {
   "codemirror_mode": {
    "name": "ipython",
    "version": 3
   },
   "file_extension": ".py",
   "mimetype": "text/x-python",
   "name": "python",
   "nbconvert_exporter": "python",
   "pygments_lexer": "ipython3",
   "version": "3.6.6"
  }
 },
 "nbformat": 4,
 "nbformat_minor": 1
}
