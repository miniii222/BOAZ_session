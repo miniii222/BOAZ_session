{
 "cells": [
  {
   "cell_type": "code",
   "execution_count": 2,
   "metadata": {},
   "outputs": [],
   "source": [
    "import pandas as pd\n",
    "import numpy as np\n",
    "\n",
    "import matplotlib.pyplot as plt\n",
    "import seaborn as sns"
   ]
  },
  {
   "cell_type": "markdown",
   "metadata": {},
   "source": [
    "# data set"
   ]
  },
  {
   "cell_type": "code",
   "execution_count": 3,
   "metadata": {},
   "outputs": [],
   "source": [
    "#train 데이터 만들기\n",
    "path = 'C:\\\\Users\\\\wjssm\\\\Desktop\\\\boaz\\mini\\\\h1b_train2.csv'\n",
    "h1 = pd.read_csv(path)\n",
    "h1 = h1[(h1.CASE_STATUS == 'CERTIFIED')|(h1.CASE_STATUS == 'DENIED')]\n",
    "path = 'C:\\\\Users\\\\wjssm\\\\Desktop\\\\boaz\\mini\\\\h1b_dev.csv'\n",
    "h1_dev = pd.read_csv(path)\n",
    "h1_dev = h1_dev[(h1_dev.CASE_STATUS == 'CERTIFIED')|(h1_dev.CASE_STATUS == 'DENIED')]\n",
    "train = pd.concat([h1,h1_dev],axis = 0)"
   ]
  },
  {
   "cell_type": "code",
   "execution_count": 4,
   "metadata": {},
   "outputs": [],
   "source": [
    "path = 'C:\\\\Users\\\\wjssm\\\\Desktop\\\\boaz\\mini\\\\h1b_test_no_ylabel.csv'\n",
    "test = pd.read_csv(path)"
   ]
  },
  {
   "cell_type": "code",
   "execution_count": 5,
   "metadata": {
    "scrolled": true
   },
   "outputs": [
    {
     "data": {
      "text/html": [
       "<div>\n",
       "<style scoped>\n",
       "    .dataframe tbody tr th:only-of-type {\n",
       "        vertical-align: middle;\n",
       "    }\n",
       "\n",
       "    .dataframe tbody tr th {\n",
       "        vertical-align: top;\n",
       "    }\n",
       "\n",
       "    .dataframe thead th {\n",
       "        text-align: right;\n",
       "    }\n",
       "</style>\n",
       "<table border=\"1\" class=\"dataframe\">\n",
       "  <thead>\n",
       "    <tr style=\"text-align: right;\">\n",
       "      <th></th>\n",
       "      <th>Unnamed: 0</th>\n",
       "      <th>CASE_STATUS</th>\n",
       "      <th>EMPLOYER_NAME</th>\n",
       "      <th>SOC_NAME</th>\n",
       "      <th>JOB_TITLE</th>\n",
       "      <th>FULL_TIME_POSITION</th>\n",
       "      <th>PREVAILING_WAGE</th>\n",
       "      <th>YEAR</th>\n",
       "      <th>WORKSITE</th>\n",
       "      <th>lon</th>\n",
       "      <th>lat</th>\n",
       "    </tr>\n",
       "  </thead>\n",
       "  <tbody>\n",
       "    <tr>\n",
       "      <th>0</th>\n",
       "      <td>1349742</td>\n",
       "      <td>CERTIFIED</td>\n",
       "      <td>international systems technologies, inc</td>\n",
       "      <td>computer programmers</td>\n",
       "      <td>programmer analyst</td>\n",
       "      <td>Y</td>\n",
       "      <td>61589.0</td>\n",
       "      <td>2014.0</td>\n",
       "      <td>SUNNYVALE, CALIFORNIA</td>\n",
       "      <td>-122.03635</td>\n",
       "      <td>37.36883</td>\n",
       "    </tr>\n",
       "  </tbody>\n",
       "</table>\n",
       "</div>"
      ],
      "text/plain": [
       "   Unnamed: 0 CASE_STATUS                            EMPLOYER_NAME  \\\n",
       "0     1349742   CERTIFIED  international systems technologies, inc   \n",
       "\n",
       "               SOC_NAME           JOB_TITLE FULL_TIME_POSITION  \\\n",
       "0  computer programmers  programmer analyst                  Y   \n",
       "\n",
       "   PREVAILING_WAGE    YEAR               WORKSITE        lon       lat  \n",
       "0          61589.0  2014.0  SUNNYVALE, CALIFORNIA -122.03635  37.36883  "
      ]
     },
     "execution_count": 5,
     "metadata": {},
     "output_type": "execute_result"
    }
   ],
   "source": [
    "train.head(1)"
   ]
  },
  {
   "cell_type": "code",
   "execution_count": 6,
   "metadata": {},
   "outputs": [],
   "source": [
    "train.rename(columns={'Unnamed: 0':'ID'},inplace=True)"
   ]
  },
  {
   "cell_type": "code",
   "execution_count": 7,
   "metadata": {},
   "outputs": [],
   "source": [
    "test.rename(columns={'Unnamed: 0':'ID'},inplace=True)"
   ]
  },
  {
   "cell_type": "code",
   "execution_count": 8,
   "metadata": {},
   "outputs": [
    {
     "data": {
      "text/html": [
       "<div>\n",
       "<style scoped>\n",
       "    .dataframe tbody tr th:only-of-type {\n",
       "        vertical-align: middle;\n",
       "    }\n",
       "\n",
       "    .dataframe tbody tr th {\n",
       "        vertical-align: top;\n",
       "    }\n",
       "\n",
       "    .dataframe thead th {\n",
       "        text-align: right;\n",
       "    }\n",
       "</style>\n",
       "<table border=\"1\" class=\"dataframe\">\n",
       "  <thead>\n",
       "    <tr style=\"text-align: right;\">\n",
       "      <th></th>\n",
       "      <th>dtype</th>\n",
       "      <th>column</th>\n",
       "    </tr>\n",
       "  </thead>\n",
       "  <tbody>\n",
       "    <tr>\n",
       "      <th>0</th>\n",
       "      <td>int64</td>\n",
       "      <td>1</td>\n",
       "    </tr>\n",
       "    <tr>\n",
       "      <th>1</th>\n",
       "      <td>float64</td>\n",
       "      <td>4</td>\n",
       "    </tr>\n",
       "    <tr>\n",
       "      <th>2</th>\n",
       "      <td>object</td>\n",
       "      <td>6</td>\n",
       "    </tr>\n",
       "  </tbody>\n",
       "</table>\n",
       "</div>"
      ],
      "text/plain": [
       "     dtype  column\n",
       "0    int64       1\n",
       "1  float64       4\n",
       "2   object       6"
      ]
     },
     "execution_count": 8,
     "metadata": {},
     "output_type": "execute_result"
    }
   ],
   "source": [
    "dtype_df = train.dtypes.reset_index()\n",
    "dtype_df.columns = ['column','dtype']\n",
    "dtype_df.groupby(['dtype']).agg('count').reset_index()"
   ]
  },
  {
   "cell_type": "markdown",
   "metadata": {},
   "source": [
    "# label?"
   ]
  },
  {
   "cell_type": "code",
   "execution_count": 9,
   "metadata": {},
   "outputs": [
    {
     "data": {
      "text/plain": [
       "{'CASE_STATUS'}"
      ]
     },
     "execution_count": 9,
     "metadata": {},
     "output_type": "execute_result"
    }
   ],
   "source": [
    "set(train.columns) - set(test.columns)"
   ]
  },
  {
   "cell_type": "code",
   "execution_count": 10,
   "metadata": {},
   "outputs": [],
   "source": [
    "train.rename(columns={'CASE_STATUS': 'label'},inplace=True)"
   ]
  },
  {
   "cell_type": "code",
   "execution_count": 11,
   "metadata": {},
   "outputs": [
    {
     "data": {
      "text/plain": [
       "CERTIFIED    96.520998\n",
       "DENIED        3.479002\n",
       "Name: label, dtype: float64"
      ]
     },
     "execution_count": 11,
     "metadata": {},
     "output_type": "execute_result"
    }
   ],
   "source": [
    "train['label'].value_counts()/train.shape[0]*100"
   ]
  },
  {
   "cell_type": "code",
   "execution_count": 12,
   "metadata": {},
   "outputs": [
    {
     "data": {
      "text/plain": [
       "CERTIFIED    2092970\n",
       "DENIED         75439\n",
       "Name: label, dtype: int64"
      ]
     },
     "execution_count": 12,
     "metadata": {},
     "output_type": "execute_result"
    }
   ],
   "source": [
    "train['label'].value_counts()"
   ]
  },
  {
   "cell_type": "markdown",
   "metadata": {},
   "source": [
    "가정 : train과 test는 비율에 맞추어 나누어졌다."
   ]
  },
  {
   "cell_type": "code",
   "execution_count": 13,
   "metadata": {},
   "outputs": [
    {
     "name": "stdout",
     "output_type": "stream",
     "text": [
      "예상되는 test셋의 DENIED수 : 18792\n"
     ]
    }
   ],
   "source": [
    "print('예상되는 test셋의 DENIED수 :',int(test.shape[0]*0.0347))"
   ]
  },
  {
   "cell_type": "markdown",
   "metadata": {},
   "source": [
    "# missing value?"
   ]
  },
  {
   "cell_type": "code",
   "execution_count": 14,
   "metadata": {},
   "outputs": [
    {
     "data": {
      "text/html": [
       "<div>\n",
       "<style scoped>\n",
       "    .dataframe tbody tr th:only-of-type {\n",
       "        vertical-align: middle;\n",
       "    }\n",
       "\n",
       "    .dataframe tbody tr th {\n",
       "        vertical-align: top;\n",
       "    }\n",
       "\n",
       "    .dataframe thead th {\n",
       "        text-align: right;\n",
       "    }\n",
       "</style>\n",
       "<table border=\"1\" class=\"dataframe\">\n",
       "  <thead>\n",
       "    <tr style=\"text-align: right;\">\n",
       "      <th></th>\n",
       "      <th>column</th>\n",
       "      <th>count</th>\n",
       "      <th>ratio</th>\n",
       "    </tr>\n",
       "  </thead>\n",
       "  <tbody>\n",
       "    <tr>\n",
       "      <th>2</th>\n",
       "      <td>EMPLOYER_NAME</td>\n",
       "      <td>17</td>\n",
       "      <td>7.839849e-06</td>\n",
       "    </tr>\n",
       "    <tr>\n",
       "      <th>3</th>\n",
       "      <td>SOC_NAME</td>\n",
       "      <td>12747</td>\n",
       "      <td>5.878504e-03</td>\n",
       "    </tr>\n",
       "    <tr>\n",
       "      <th>4</th>\n",
       "      <td>JOB_TITLE</td>\n",
       "      <td>7</td>\n",
       "      <td>3.228173e-06</td>\n",
       "    </tr>\n",
       "    <tr>\n",
       "      <th>5</th>\n",
       "      <td>FULL_TIME_POSITION</td>\n",
       "      <td>1</td>\n",
       "      <td>4.611676e-07</td>\n",
       "    </tr>\n",
       "    <tr>\n",
       "      <th>6</th>\n",
       "      <td>PREVAILING_WAGE</td>\n",
       "      <td>48</td>\n",
       "      <td>2.213605e-05</td>\n",
       "    </tr>\n",
       "    <tr>\n",
       "      <th>9</th>\n",
       "      <td>lon</td>\n",
       "      <td>77512</td>\n",
       "      <td>3.574602e-02</td>\n",
       "    </tr>\n",
       "    <tr>\n",
       "      <th>10</th>\n",
       "      <td>lat</td>\n",
       "      <td>77512</td>\n",
       "      <td>3.574602e-02</td>\n",
       "    </tr>\n",
       "  </tbody>\n",
       "</table>\n",
       "</div>"
      ],
      "text/plain": [
       "                column  count         ratio\n",
       "2        EMPLOYER_NAME     17  7.839849e-06\n",
       "3             SOC_NAME  12747  5.878504e-03\n",
       "4            JOB_TITLE      7  3.228173e-06\n",
       "5   FULL_TIME_POSITION      1  4.611676e-07\n",
       "6      PREVAILING_WAGE     48  2.213605e-05\n",
       "9                  lon  77512  3.574602e-02\n",
       "10                 lat  77512  3.574602e-02"
      ]
     },
     "execution_count": 14,
     "metadata": {},
     "output_type": "execute_result"
    }
   ],
   "source": [
    "missing_df = train.isnull().sum().reset_index()\n",
    "missing_df.columns = ['column','count']\n",
    "missing_df['ratio'] = missing_df['count']/train.shape[0]\n",
    "missing_df.loc[missing_df['ratio'] != 0]"
   ]
  },
  {
   "cell_type": "code",
   "execution_count": 23,
   "metadata": {},
   "outputs": [
    {
     "data": {
      "text/plain": [
       "ID                        0\n",
       "EMPLOYER_NAME             1\n",
       "SOC_NAME               3146\n",
       "JOB_TITLE                 3\n",
       "FULL_TIME_POSITION        0\n",
       "PREVAILING_WAGE           5\n",
       "YEAR                      0\n",
       "WORKSITE                  0\n",
       "lon                   19559\n",
       "lat                   19559\n",
       "dtype: int64"
      ]
     },
     "execution_count": 23,
     "metadata": {},
     "output_type": "execute_result"
    }
   ],
   "source": [
    "test.isnull().sum()"
   ]
  },
  {
   "cell_type": "markdown",
   "metadata": {},
   "source": [
    "# 자료 표준화"
   ]
  },
  {
   "cell_type": "code",
   "execution_count": 15,
   "metadata": {},
   "outputs": [],
   "source": [
    "#ID순으로 정렬\n",
    "train = train.sort_values(['ID'])"
   ]
  },
  {
   "cell_type": "code",
   "execution_count": 16,
   "metadata": {},
   "outputs": [],
   "source": [
    "#기본적인 텍스트 통일\n",
    "train['EMPLOYER_NAME'] = train['EMPLOYER_NAME'].str.upper()\n",
    "train['SOC_NAME'] = train['SOC_NAME'].str.upper()\n",
    "train['JOB_TITLE'] = train['JOB_TITLE'].str.upper()"
   ]
  },
  {
   "cell_type": "markdown",
   "metadata": {},
   "source": [
    "# EMPLOYER_NAME"
   ]
  },
  {
   "cell_type": "code",
   "execution_count": 26,
   "metadata": {},
   "outputs": [
    {
     "data": {
      "image/png": "[encoded data removed]",
      "text/plain": [
       "<Figure size 432x288 with 1 Axes>"
      ]
     },
     "metadata": {},
     "output_type": "display_data"
    },
    {
     "name": "stdout",
     "output_type": "stream",
     "text": [
      "LARSEN & TOUBRO INFOTECH LIMITED      13415\n",
      "ERNST & YOUNG U.S. LLP                14635\n",
      "HCL AMERICA, INC.                     17805\n",
      "MICROSOFT CORPORATION                 17868\n",
      "IBM INDIA PRIVATE LIMITED             22593\n",
      "ACCENTURE LLP                         26432\n",
      "DELOITTE CONSULTING LLP               29355\n",
      "WIPRO LIMITED                         34776\n",
      "TATA CONSULTANCY SERVICES LIMITED     51441\n",
      "INFOSYS LIMITED                      104225\n",
      "Name: EMPLOYER_NAME, dtype: int64\n"
     ]
    }
   ],
   "source": [
    "train_emp = train['EMPLOYER_NAME'].value_counts().sort_values(ascending = False)\n",
    "train_emp[:10].plot.barh()\n",
    "plt.xlabel('number of petitions(11-16)')\n",
    "plt.ylabel('EMPLOYER_NAME')\n",
    "plt.title('Top 10 employers filling the petiotions')\n",
    "plt.show()\n",
    "print(train_emp[:10].sort_values())"
   ]
  },
  {
   "cell_type": "code",
   "execution_count": 27,
   "metadata": {},
   "outputs": [
    {
     "data": {
      "image/png": "[encoded data removed]",
      "text/plain": [
       "<Figure size 432x288 with 1 Axes>"
      ]
     },
     "metadata": {},
     "output_type": "display_data"
    }
   ],
   "source": [
    "#train과 test가 '비'를 이룬다는 가정이 맞는듯 하다.\n",
    "test_emp = test['EMPLOYER_NAME'].value_counts().sort_values(ascending = False)\n",
    "test_emp[:10].plot.barh()\n",
    "plt.show()"
   ]
  },
  {
   "cell_type": "code",
   "execution_count": 17,
   "metadata": {},
   "outputs": [
    {
     "name": "stdout",
     "output_type": "stream",
     "text": [
      "CERTIFIED    11\n",
      "DENIED        6\n",
      "Name: label, dtype: int64\n"
     ]
    },
    {
     "data": {
      "text/html": [
       "<div>\n",
       "<style scoped>\n",
       "    .dataframe tbody tr th:only-of-type {\n",
       "        vertical-align: middle;\n",
       "    }\n",
       "\n",
       "    .dataframe tbody tr th {\n",
       "        vertical-align: top;\n",
       "    }\n",
       "\n",
       "    .dataframe thead th {\n",
       "        text-align: right;\n",
       "    }\n",
       "</style>\n",
       "<table border=\"1\" class=\"dataframe\">\n",
       "  <thead>\n",
       "    <tr style=\"text-align: right;\">\n",
       "      <th></th>\n",
       "      <th>ID</th>\n",
       "      <th>label</th>\n",
       "      <th>EMPLOYER_NAME</th>\n",
       "      <th>SOC_NAME</th>\n",
       "      <th>JOB_TITLE</th>\n",
       "      <th>FULL_TIME_POSITION</th>\n",
       "      <th>PREVAILING_WAGE</th>\n",
       "      <th>YEAR</th>\n",
       "      <th>WORKSITE</th>\n",
       "      <th>lon</th>\n",
       "      <th>lat</th>\n",
       "    </tr>\n",
       "  </thead>\n",
       "  <tbody>\n",
       "    <tr>\n",
       "      <th>1232526</th>\n",
       "      <td>74904</td>\n",
       "      <td>DENIED</td>\n",
       "      <td>NaN</td>\n",
       "      <td>FINANCIAL ANALYSTS</td>\n",
       "      <td>BUSINESS FINANCIAL ANALYST</td>\n",
       "      <td>N</td>\n",
       "      <td>63066.0</td>\n",
       "      <td>2016.0</td>\n",
       "      <td>TAMPA, FLORIDA</td>\n",
       "      <td>-82.457178</td>\n",
       "      <td>27.950575</td>\n",
       "    </tr>\n",
       "    <tr>\n",
       "      <th>946503</th>\n",
       "      <td>103771</td>\n",
       "      <td>DENIED</td>\n",
       "      <td>NaN</td>\n",
       "      <td>COMPUTER SYSTEMS ANALYSTS</td>\n",
       "      <td>BUSINESS ANALYST</td>\n",
       "      <td>N</td>\n",
       "      <td>55390.4</td>\n",
       "      <td>2016.0</td>\n",
       "      <td>FAIRFAX, VIRGINIA</td>\n",
       "      <td>-77.306373</td>\n",
       "      <td>38.846224</td>\n",
       "    </tr>\n",
       "    <tr>\n",
       "      <th>510101</th>\n",
       "      <td>187388</td>\n",
       "      <td>CERTIFIED</td>\n",
       "      <td>NaN</td>\n",
       "      <td>COMPUTER SYSTEMS ANALYSTS</td>\n",
       "      <td>COMPUTER SYSTEMS ANALYST</td>\n",
       "      <td>N</td>\n",
       "      <td>64813.0</td>\n",
       "      <td>2016.0</td>\n",
       "      <td>EDISON, NEW JERSEY</td>\n",
       "      <td>-74.412095</td>\n",
       "      <td>40.518715</td>\n",
       "    </tr>\n",
       "    <tr>\n",
       "      <th>322628</th>\n",
       "      <td>188030</td>\n",
       "      <td>CERTIFIED</td>\n",
       "      <td>NaN</td>\n",
       "      <td>COMPUTER SYSTEMS ANALYSTS</td>\n",
       "      <td>PROGRAMMER ANALYST</td>\n",
       "      <td>Y</td>\n",
       "      <td>83678.0</td>\n",
       "      <td>2016.0</td>\n",
       "      <td>REDMOND, WASHINGTON</td>\n",
       "      <td>-122.121512</td>\n",
       "      <td>47.673988</td>\n",
       "    </tr>\n",
       "    <tr>\n",
       "      <th>1734208</th>\n",
       "      <td>277184</td>\n",
       "      <td>CERTIFIED</td>\n",
       "      <td>NaN</td>\n",
       "      <td>COMPUTER PROGRAMMERS</td>\n",
       "      <td>PROGRAMMER ANALYST</td>\n",
       "      <td>Y</td>\n",
       "      <td>73091.0</td>\n",
       "      <td>2016.0</td>\n",
       "      <td>SUNNYVALE, CALIFORNIA</td>\n",
       "      <td>-122.036350</td>\n",
       "      <td>37.368830</td>\n",
       "    </tr>\n",
       "    <tr>\n",
       "      <th>116676</th>\n",
       "      <td>291833</td>\n",
       "      <td>DENIED</td>\n",
       "      <td>NaN</td>\n",
       "      <td>SOFTWARE DEVELOPERS, APPLICATIONS</td>\n",
       "      <td>VICE PRESIDENT, SENIOR PRINCIPAL DEVELOPMENT M...</td>\n",
       "      <td>Y</td>\n",
       "      <td>118934.0</td>\n",
       "      <td>2016.0</td>\n",
       "      <td>NEW YORK, NEW YORK</td>\n",
       "      <td>-74.005941</td>\n",
       "      <td>40.712784</td>\n",
       "    </tr>\n",
       "    <tr>\n",
       "      <th>287843</th>\n",
       "      <td>393684</td>\n",
       "      <td>CERTIFIED</td>\n",
       "      <td>NaN</td>\n",
       "      <td>SOFTWARE DEVELOPERS, APPLICATIONS</td>\n",
       "      <td>SOFTWARE ENGINEER</td>\n",
       "      <td>Y</td>\n",
       "      <td>88421.0</td>\n",
       "      <td>2016.0</td>\n",
       "      <td>TAMPA, FLORIDA</td>\n",
       "      <td>-82.457178</td>\n",
       "      <td>27.950575</td>\n",
       "    </tr>\n",
       "    <tr>\n",
       "      <th>619827</th>\n",
       "      <td>396132</td>\n",
       "      <td>CERTIFIED</td>\n",
       "      <td>NaN</td>\n",
       "      <td>SOFTWARE DEVELOPERS, APPLICATIONS</td>\n",
       "      <td>SOFTWARE ENGINEER</td>\n",
       "      <td>Y</td>\n",
       "      <td>90813.0</td>\n",
       "      <td>2016.0</td>\n",
       "      <td>LONG ISLAND CITY, NEW YORK</td>\n",
       "      <td>-73.948542</td>\n",
       "      <td>40.744679</td>\n",
       "    </tr>\n",
       "    <tr>\n",
       "      <th>743505</th>\n",
       "      <td>506707</td>\n",
       "      <td>CERTIFIED</td>\n",
       "      <td>NaN</td>\n",
       "      <td>COMPUTER OCCUPATIONS, ALL OTHER</td>\n",
       "      <td>IT PROJECT MANAGER</td>\n",
       "      <td>N</td>\n",
       "      <td>69305.6</td>\n",
       "      <td>2016.0</td>\n",
       "      <td>CHELMSFORD, MASSACHUSETTS</td>\n",
       "      <td>-71.367284</td>\n",
       "      <td>42.599814</td>\n",
       "    </tr>\n",
       "    <tr>\n",
       "      <th>1456977</th>\n",
       "      <td>582666</td>\n",
       "      <td>CERTIFIED</td>\n",
       "      <td>NaN</td>\n",
       "      <td>MEDICAL SCIENTISTS, EXCEPT EPIDEMIOLOGISTS</td>\n",
       "      <td>RESEARCH INTERN</td>\n",
       "      <td>N</td>\n",
       "      <td>40622.4</td>\n",
       "      <td>2016.0</td>\n",
       "      <td>VAIL, COLORADO</td>\n",
       "      <td>NaN</td>\n",
       "      <td>NaN</td>\n",
       "    </tr>\n",
       "    <tr>\n",
       "      <th>388097</th>\n",
       "      <td>874759</td>\n",
       "      <td>CERTIFIED</td>\n",
       "      <td>NaN</td>\n",
       "      <td>SOFTWARE DEVELOPERS, APPLICATIONS</td>\n",
       "      <td>SOFTWARE DEVELOPER APPLICATIONS</td>\n",
       "      <td>Y</td>\n",
       "      <td>62421.0</td>\n",
       "      <td>2015.0</td>\n",
       "      <td>LEWIS CENTER, OHIO</td>\n",
       "      <td>-83.010099</td>\n",
       "      <td>40.198388</td>\n",
       "    </tr>\n",
       "    <tr>\n",
       "      <th>1252774</th>\n",
       "      <td>1299693</td>\n",
       "      <td>DENIED</td>\n",
       "      <td>NaN</td>\n",
       "      <td>NaN</td>\n",
       "      <td>PROJECT MANAGER</td>\n",
       "      <td>Y</td>\n",
       "      <td>68598.0</td>\n",
       "      <td>2014.0</td>\n",
       "      <td>BAKERSFIELD, CALIFORNIA</td>\n",
       "      <td>-119.018713</td>\n",
       "      <td>35.373292</td>\n",
       "    </tr>\n",
       "    <tr>\n",
       "      <th>221852</th>\n",
       "      <td>1402948</td>\n",
       "      <td>DENIED</td>\n",
       "      <td>NaN</td>\n",
       "      <td>COMPUTER SYSTEMS ANALYSTS</td>\n",
       "      <td>PROGRAMMER ANALYST</td>\n",
       "      <td>Y</td>\n",
       "      <td>69805.0</td>\n",
       "      <td>2014.0</td>\n",
       "      <td>ALLENTOWN, PENNSYLVANIA</td>\n",
       "      <td>-75.490183</td>\n",
       "      <td>40.608430</td>\n",
       "    </tr>\n",
       "    <tr>\n",
       "      <th>376940</th>\n",
       "      <td>2051359</td>\n",
       "      <td>CERTIFIED</td>\n",
       "      <td>NaN</td>\n",
       "      <td>COMPUTER PROGRAMMERS</td>\n",
       "      <td>PROGRAMMERS</td>\n",
       "      <td>Y</td>\n",
       "      <td>57283.0</td>\n",
       "      <td>2013.0</td>\n",
       "      <td>TEMPLE TERRACE, FLORIDA</td>\n",
       "      <td>-82.389260</td>\n",
       "      <td>28.035296</td>\n",
       "    </tr>\n",
       "    <tr>\n",
       "      <th>102272</th>\n",
       "      <td>2251042</td>\n",
       "      <td>CERTIFIED</td>\n",
       "      <td>NaN</td>\n",
       "      <td>MECHANICAL ENGINEERS</td>\n",
       "      <td>PROJECT ENGINEER</td>\n",
       "      <td>Y</td>\n",
       "      <td>78811.0</td>\n",
       "      <td>2012.0</td>\n",
       "      <td>LIVONIA, MICHIGAN</td>\n",
       "      <td>-83.352710</td>\n",
       "      <td>42.368370</td>\n",
       "    </tr>\n",
       "    <tr>\n",
       "      <th>409735</th>\n",
       "      <td>2270635</td>\n",
       "      <td>DENIED</td>\n",
       "      <td>NaN</td>\n",
       "      <td>COMPUTER OCCUPATIONS, ALL OTHER</td>\n",
       "      <td>MANAGER</td>\n",
       "      <td>Y</td>\n",
       "      <td>89398.0</td>\n",
       "      <td>2012.0</td>\n",
       "      <td>PHOENIX, ARIZONA</td>\n",
       "      <td>-112.074037</td>\n",
       "      <td>33.448377</td>\n",
       "    </tr>\n",
       "    <tr>\n",
       "      <th>1621574</th>\n",
       "      <td>2995390</td>\n",
       "      <td>CERTIFIED</td>\n",
       "      <td>NaN</td>\n",
       "      <td>SOFTWARE DEVELOPERS, SYSTEMS SOFTWARE</td>\n",
       "      <td>SENIOR CONSULTANT</td>\n",
       "      <td>Y</td>\n",
       "      <td>81723.0</td>\n",
       "      <td>2011.0</td>\n",
       "      <td>SOUTHFIELD, MICHIGAN</td>\n",
       "      <td>-83.221873</td>\n",
       "      <td>42.473369</td>\n",
       "    </tr>\n",
       "  </tbody>\n",
       "</table>\n",
       "</div>"
      ],
      "text/plain": [
       "              ID      label EMPLOYER_NAME  \\\n",
       "1232526    74904     DENIED           NaN   \n",
       "946503    103771     DENIED           NaN   \n",
       "510101    187388  CERTIFIED           NaN   \n",
       "322628    188030  CERTIFIED           NaN   \n",
       "1734208   277184  CERTIFIED           NaN   \n",
       "116676    291833     DENIED           NaN   \n",
       "287843    393684  CERTIFIED           NaN   \n",
       "619827    396132  CERTIFIED           NaN   \n",
       "743505    506707  CERTIFIED           NaN   \n",
       "1456977   582666  CERTIFIED           NaN   \n",
       "388097    874759  CERTIFIED           NaN   \n",
       "1252774  1299693     DENIED           NaN   \n",
       "221852   1402948     DENIED           NaN   \n",
       "376940   2051359  CERTIFIED           NaN   \n",
       "102272   2251042  CERTIFIED           NaN   \n",
       "409735   2270635     DENIED           NaN   \n",
       "1621574  2995390  CERTIFIED           NaN   \n",
       "\n",
       "                                           SOC_NAME  \\\n",
       "1232526                          FINANCIAL ANALYSTS   \n",
       "946503                    COMPUTER SYSTEMS ANALYSTS   \n",
       "510101                    COMPUTER SYSTEMS ANALYSTS   \n",
       "322628                    COMPUTER SYSTEMS ANALYSTS   \n",
       "1734208                        COMPUTER PROGRAMMERS   \n",
       "116676            SOFTWARE DEVELOPERS, APPLICATIONS   \n",
       "287843            SOFTWARE DEVELOPERS, APPLICATIONS   \n",
       "619827            SOFTWARE DEVELOPERS, APPLICATIONS   \n",
       "743505              COMPUTER OCCUPATIONS, ALL OTHER   \n",
       "1456977  MEDICAL SCIENTISTS, EXCEPT EPIDEMIOLOGISTS   \n",
       "388097            SOFTWARE DEVELOPERS, APPLICATIONS   \n",
       "1252774                                         NaN   \n",
       "221852                    COMPUTER SYSTEMS ANALYSTS   \n",
       "376940                         COMPUTER PROGRAMMERS   \n",
       "102272                         MECHANICAL ENGINEERS   \n",
       "409735              COMPUTER OCCUPATIONS, ALL OTHER   \n",
       "1621574       SOFTWARE DEVELOPERS, SYSTEMS SOFTWARE   \n",
       "\n",
       "                                                 JOB_TITLE FULL_TIME_POSITION  \\\n",
       "1232526                         BUSINESS FINANCIAL ANALYST                  N   \n",
       "946503                                    BUSINESS ANALYST                  N   \n",
       "510101                            COMPUTER SYSTEMS ANALYST                  N   \n",
       "322628                                  PROGRAMMER ANALYST                  Y   \n",
       "1734208                                 PROGRAMMER ANALYST                  Y   \n",
       "116676   VICE PRESIDENT, SENIOR PRINCIPAL DEVELOPMENT M...                  Y   \n",
       "287843                                   SOFTWARE ENGINEER                  Y   \n",
       "619827                                   SOFTWARE ENGINEER                  Y   \n",
       "743505                                  IT PROJECT MANAGER                  N   \n",
       "1456977                                    RESEARCH INTERN                  N   \n",
       "388097                     SOFTWARE DEVELOPER APPLICATIONS                  Y   \n",
       "1252774                                    PROJECT MANAGER                  Y   \n",
       "221852                                  PROGRAMMER ANALYST                  Y   \n",
       "376940                                         PROGRAMMERS                  Y   \n",
       "102272                                    PROJECT ENGINEER                  Y   \n",
       "409735                                             MANAGER                  Y   \n",
       "1621574                                  SENIOR CONSULTANT                  Y   \n",
       "\n",
       "         PREVAILING_WAGE    YEAR                    WORKSITE         lon  \\\n",
       "1232526          63066.0  2016.0              TAMPA, FLORIDA  -82.457178   \n",
       "946503           55390.4  2016.0           FAIRFAX, VIRGINIA  -77.306373   \n",
       "510101           64813.0  2016.0          EDISON, NEW JERSEY  -74.412095   \n",
       "322628           83678.0  2016.0         REDMOND, WASHINGTON -122.121512   \n",
       "1734208          73091.0  2016.0       SUNNYVALE, CALIFORNIA -122.036350   \n",
       "116676          118934.0  2016.0          NEW YORK, NEW YORK  -74.005941   \n",
       "287843           88421.0  2016.0              TAMPA, FLORIDA  -82.457178   \n",
       "619827           90813.0  2016.0  LONG ISLAND CITY, NEW YORK  -73.948542   \n",
       "743505           69305.6  2016.0   CHELMSFORD, MASSACHUSETTS  -71.367284   \n",
       "1456977          40622.4  2016.0              VAIL, COLORADO         NaN   \n",
       "388097           62421.0  2015.0          LEWIS CENTER, OHIO  -83.010099   \n",
       "1252774          68598.0  2014.0     BAKERSFIELD, CALIFORNIA -119.018713   \n",
       "221852           69805.0  2014.0     ALLENTOWN, PENNSYLVANIA  -75.490183   \n",
       "376940           57283.0  2013.0     TEMPLE TERRACE, FLORIDA  -82.389260   \n",
       "102272           78811.0  2012.0           LIVONIA, MICHIGAN  -83.352710   \n",
       "409735           89398.0  2012.0            PHOENIX, ARIZONA -112.074037   \n",
       "1621574          81723.0  2011.0        SOUTHFIELD, MICHIGAN  -83.221873   \n",
       "\n",
       "               lat  \n",
       "1232526  27.950575  \n",
       "946503   38.846224  \n",
       "510101   40.518715  \n",
       "322628   47.673988  \n",
       "1734208  37.368830  \n",
       "116676   40.712784  \n",
       "287843   27.950575  \n",
       "619827   40.744679  \n",
       "743505   42.599814  \n",
       "1456977        NaN  \n",
       "388097   40.198388  \n",
       "1252774  35.373292  \n",
       "221852   40.608430  \n",
       "376940   28.035296  \n",
       "102272   42.368370  \n",
       "409735   33.448377  \n",
       "1621574  42.473369  "
      ]
     },
     "execution_count": 17,
     "metadata": {},
     "output_type": "execute_result"
    }
   ],
   "source": [
    "print(train[train.isnull()['EMPLOYER_NAME']]['label'].value_counts())\n",
    "train[train.isnull()['EMPLOYER_NAME']].sort_values(['ID'])"
   ]
  },
  {
   "cell_type": "markdown",
   "metadata": {},
   "source": [
    "# soc_name(soc_code)"
   ]
  },
  {
   "cell_type": "code",
   "execution_count": 28,
   "metadata": {},
   "outputs": [
    {
     "data": {
      "image/png": "[encoded data removed]",
      "text/plain": [
       "<Figure size 432x288 with 1 Axes>"
      ]
     },
     "metadata": {},
     "output_type": "display_data"
    },
    {
     "name": "stdout",
     "output_type": "stream",
     "text": [
      "NETWORK AND COMPUTER SYSTEMS ADMINISTRATORS     28963\n",
      "MECHANICAL ENGINEERS                            31807\n",
      "FINANCIAL ANALYSTS                              37462\n",
      "ACCOUNTANTS AND AUDITORS                        39818\n",
      "MANAGEMENT ANALYSTS                             49667\n",
      "SOFTWARE DEVELOPERS, SYSTEMS SOFTWARE           60691\n",
      "COMPUTER OCCUPATIONS, ALL OTHER                131892\n",
      "COMPUTER PROGRAMMERS                           288529\n",
      "SOFTWARE DEVELOPERS, APPLICATIONS              297635\n",
      "COMPUTER SYSTEMS ANALYSTS                      375335\n",
      "Name: SOC_NAME, dtype: int64\n"
     ]
    }
   ],
   "source": [
    "train_soc = train['SOC_NAME'].value_counts().sort_values(ascending = False)\n",
    "train_soc[:10].plot.barh()\n",
    "plt.xlabel('number of petitions(11-16)')\n",
    "plt.ylabel('SOC_NAME')\n",
    "plt.title('Top 10 SOC_NAME filling the petiotions')\n",
    "plt.show()\n",
    "print(train_soc[:10].sort_values())"
   ]
  },
  {
   "cell_type": "code",
   "execution_count": 29,
   "metadata": {},
   "outputs": [
    {
     "data": {
      "text/plain": [
       "CERTIFIED    0.969248\n",
       "DENIED       0.030752\n",
       "Name: label, dtype: float64"
      ]
     },
     "execution_count": 29,
     "metadata": {},
     "output_type": "execute_result"
    }
   ],
   "source": [
    "train[train.isnull()['SOC_NAME']]['label'].value_counts()/train[train.isnull()['SOC_NAME']]['label'].shape[0]"
   ]
  },
  {
   "cell_type": "markdown",
   "metadata": {},
   "source": [
    "# YEAR"
   ]
  },
  {
   "cell_type": "code",
   "execution_count": 34,
   "metadata": {},
   "outputs": [
    {
     "data": {
      "image/png": "[encoded data removed]",
      "text/plain": [
       "<Figure size 432x288 with 1 Axes>"
      ]
     },
     "metadata": {},
     "output_type": "display_data"
    }
   ],
   "source": [
    "train['YEAR'].value_counts().sort_values().plot()\n",
    "plt.xlim([2010,2017])\n",
    "plt.title('LCA Petitions per Year')\n",
    "plt.show()"
   ]
  },
  {
   "cell_type": "code",
   "execution_count": 35,
   "metadata": {},
   "outputs": [
    {
     "data": {
      "image/png": "[encoded data removed]",
      "text/plain": [
       "<Figure size 432x288 with 1 Axes>"
      ]
     },
     "metadata": {},
     "output_type": "display_data"
    }
   ],
   "source": [
    "year_df = train.groupby(['YEAR','label'])['label'].count().unstack('label')\n",
    "year_df['Dratio_Y'] = year_df['DENIED']/(year_df['CERTIFIED']+year_df['DENIED'])\n",
    "year_df['Dratio_Y'].plot()\n",
    "plt.title('DENIED ratio per Year')\n",
    "plt.show()"
   ]
  },
  {
   "cell_type": "code",
   "execution_count": 36,
   "metadata": {},
   "outputs": [
    {
     "data": {
      "image/png": "[encoded data removed]",
      "text/plain": [
       "<Figure size 432x288 with 1 Axes>"
      ]
     },
     "metadata": {},
     "output_type": "display_data"
    },
    {
     "data": {
      "text/html": [
       "<div>\n",
       "<style scoped>\n",
       "    .dataframe tbody tr th:only-of-type {\n",
       "        vertical-align: middle;\n",
       "    }\n",
       "\n",
       "    .dataframe tbody tr th {\n",
       "        vertical-align: top;\n",
       "    }\n",
       "\n",
       "    .dataframe thead tr th {\n",
       "        text-align: left;\n",
       "    }\n",
       "\n",
       "    .dataframe thead tr:last-of-type th {\n",
       "        text-align: right;\n",
       "    }\n",
       "</style>\n",
       "<table border=\"1\" class=\"dataframe\">\n",
       "  <thead>\n",
       "    <tr>\n",
       "      <th></th>\n",
       "      <th>PREVAILING_WAGE</th>\n",
       "    </tr>\n",
       "    <tr>\n",
       "      <th></th>\n",
       "      <th>median</th>\n",
       "    </tr>\n",
       "    <tr>\n",
       "      <th>YEAR</th>\n",
       "      <th></th>\n",
       "    </tr>\n",
       "  </thead>\n",
       "  <tbody>\n",
       "    <tr>\n",
       "      <th>2011.0</th>\n",
       "      <td>60882.0</td>\n",
       "    </tr>\n",
       "    <tr>\n",
       "      <th>2012.0</th>\n",
       "      <td>62462.0</td>\n",
       "    </tr>\n",
       "    <tr>\n",
       "      <th>2013.0</th>\n",
       "      <td>63939.0</td>\n",
       "    </tr>\n",
       "    <tr>\n",
       "      <th>2014.0</th>\n",
       "      <td>64917.0</td>\n",
       "    </tr>\n",
       "    <tr>\n",
       "      <th>2015.0</th>\n",
       "      <td>66394.0</td>\n",
       "    </tr>\n",
       "    <tr>\n",
       "      <th>2016.0</th>\n",
       "      <td>68432.0</td>\n",
       "    </tr>\n",
       "  </tbody>\n",
       "</table>\n",
       "</div>"
      ],
      "text/plain": [
       "       PREVAILING_WAGE\n",
       "                median\n",
       "YEAR                  \n",
       "2011.0         60882.0\n",
       "2012.0         62462.0\n",
       "2013.0         63939.0\n",
       "2014.0         64917.0\n",
       "2015.0         66394.0\n",
       "2016.0         68432.0"
      ]
     },
     "execution_count": 36,
     "metadata": {},
     "output_type": "execute_result"
    }
   ],
   "source": [
    "wage_df = train.loc[:,['PREVAILING_WAGE','YEAR']].groupby(['YEAR']).agg(['median'])\n",
    "wage_df.plot(kind = 'bar',legend = None)\n",
    "plt.title('Prevailing wage median per year')\n",
    "plt.show()\n",
    "wage_df"
   ]
  },
  {
   "cell_type": "markdown",
   "metadata": {},
   "source": [
    "ID순서에 의미가 있지 않을까?"
   ]
  },
  {
   "cell_type": "code",
   "execution_count": 40,
   "metadata": {},
   "outputs": [
    {
     "data": {
      "text/html": [
       "<div>\n",
       "<style scoped>\n",
       "    .dataframe tbody tr th:only-of-type {\n",
       "        vertical-align: middle;\n",
       "    }\n",
       "\n",
       "    .dataframe tbody tr th {\n",
       "        vertical-align: top;\n",
       "    }\n",
       "\n",
       "    .dataframe thead th {\n",
       "        text-align: right;\n",
       "    }\n",
       "</style>\n",
       "<table border=\"1\" class=\"dataframe\">\n",
       "  <thead>\n",
       "    <tr style=\"text-align: right;\">\n",
       "      <th></th>\n",
       "      <th>ID</th>\n",
       "      <th>YEAR</th>\n",
       "    </tr>\n",
       "  </thead>\n",
       "  <tbody>\n",
       "    <tr>\n",
       "      <th>108460</th>\n",
       "      <td>19</td>\n",
       "      <td>2016.0</td>\n",
       "    </tr>\n",
       "    <tr>\n",
       "      <th>1280131</th>\n",
       "      <td>23</td>\n",
       "      <td>2016.0</td>\n",
       "    </tr>\n",
       "    <tr>\n",
       "      <th>690568</th>\n",
       "      <td>24</td>\n",
       "      <td>2016.0</td>\n",
       "    </tr>\n",
       "    <tr>\n",
       "      <th>260466</th>\n",
       "      <td>26</td>\n",
       "      <td>2016.0</td>\n",
       "    </tr>\n",
       "    <tr>\n",
       "      <th>460493</th>\n",
       "      <td>28</td>\n",
       "      <td>2016.0</td>\n",
       "    </tr>\n",
       "  </tbody>\n",
       "</table>\n",
       "</div>"
      ],
      "text/plain": [
       "         ID    YEAR\n",
       "108460   19  2016.0\n",
       "1280131  23  2016.0\n",
       "690568   24  2016.0\n",
       "260466   26  2016.0\n",
       "460493   28  2016.0"
      ]
     },
     "execution_count": 40,
     "metadata": {},
     "output_type": "execute_result"
    }
   ],
   "source": [
    "train[['ID','YEAR']].head()"
   ]
  },
  {
   "cell_type": "code",
   "execution_count": 41,
   "metadata": {},
   "outputs": [
    {
     "data": {
      "text/html": [
       "<div>\n",
       "<style scoped>\n",
       "    .dataframe tbody tr th:only-of-type {\n",
       "        vertical-align: middle;\n",
       "    }\n",
       "\n",
       "    .dataframe tbody tr th {\n",
       "        vertical-align: top;\n",
       "    }\n",
       "\n",
       "    .dataframe thead th {\n",
       "        text-align: right;\n",
       "    }\n",
       "</style>\n",
       "<table border=\"1\" class=\"dataframe\">\n",
       "  <thead>\n",
       "    <tr style=\"text-align: right;\">\n",
       "      <th></th>\n",
       "      <th>ID</th>\n",
       "      <th>YEAR</th>\n",
       "    </tr>\n",
       "  </thead>\n",
       "  <tbody>\n",
       "    <tr>\n",
       "      <th>71944</th>\n",
       "      <td>3002361</td>\n",
       "      <td>2011.0</td>\n",
       "    </tr>\n",
       "    <tr>\n",
       "      <th>783628</th>\n",
       "      <td>3002368</td>\n",
       "      <td>2011.0</td>\n",
       "    </tr>\n",
       "    <tr>\n",
       "      <th>182343</th>\n",
       "      <td>3002379</td>\n",
       "      <td>2011.0</td>\n",
       "    </tr>\n",
       "    <tr>\n",
       "      <th>394479</th>\n",
       "      <td>3002384</td>\n",
       "      <td>2011.0</td>\n",
       "    </tr>\n",
       "    <tr>\n",
       "      <th>1002390</th>\n",
       "      <td>3002390</td>\n",
       "      <td>2011.0</td>\n",
       "    </tr>\n",
       "  </tbody>\n",
       "</table>\n",
       "</div>"
      ],
      "text/plain": [
       "              ID    YEAR\n",
       "71944    3002361  2011.0\n",
       "783628   3002368  2011.0\n",
       "182343   3002379  2011.0\n",
       "394479   3002384  2011.0\n",
       "1002390  3002390  2011.0"
      ]
     },
     "execution_count": 41,
     "metadata": {},
     "output_type": "execute_result"
    }
   ],
   "source": [
    "train[['ID','YEAR']].tail()"
   ]
  },
  {
   "cell_type": "code",
   "execution_count": 18,
   "metadata": {},
   "outputs": [],
   "source": [
    "train = train.sort_values(['ID'])"
   ]
  },
  {
   "cell_type": "code",
   "execution_count": 19,
   "metadata": {},
   "outputs": [
    {
     "data": {
      "text/html": [
       "<div>\n",
       "<style scoped>\n",
       "    .dataframe tbody tr th:only-of-type {\n",
       "        vertical-align: middle;\n",
       "    }\n",
       "\n",
       "    .dataframe tbody tr th {\n",
       "        vertical-align: top;\n",
       "    }\n",
       "\n",
       "    .dataframe thead th {\n",
       "        text-align: right;\n",
       "    }\n",
       "</style>\n",
       "<table border=\"1\" class=\"dataframe\">\n",
       "  <thead>\n",
       "    <tr style=\"text-align: right;\">\n",
       "      <th></th>\n",
       "      <th>ID</th>\n",
       "      <th>label</th>\n",
       "      <th>EMPLOYER_NAME</th>\n",
       "      <th>SOC_NAME</th>\n",
       "      <th>JOB_TITLE</th>\n",
       "      <th>FULL_TIME_POSITION</th>\n",
       "      <th>PREVAILING_WAGE</th>\n",
       "      <th>YEAR</th>\n",
       "      <th>WORKSITE</th>\n",
       "      <th>lon</th>\n",
       "      <th>lat</th>\n",
       "    </tr>\n",
       "  </thead>\n",
       "  <tbody>\n",
       "    <tr>\n",
       "      <th>432320</th>\n",
       "      <td>647798</td>\n",
       "      <td>CERTIFIED</td>\n",
       "      <td>SIGMAWAYS, INC</td>\n",
       "      <td>NaN</td>\n",
       "      <td>SYSTEMS ENGINEER</td>\n",
       "      <td>Y</td>\n",
       "      <td>75421.0</td>\n",
       "      <td>2016.0</td>\n",
       "      <td>FREMONT, CALIFORNIA</td>\n",
       "      <td>-121.988572</td>\n",
       "      <td>37.54827</td>\n",
       "    </tr>\n",
       "    <tr>\n",
       "      <th>682391</th>\n",
       "      <td>647803</td>\n",
       "      <td>CERTIFIED</td>\n",
       "      <td>IRIS SOFTWARE, INC</td>\n",
       "      <td>NaN</td>\n",
       "      <td>NaN</td>\n",
       "      <td>Y</td>\n",
       "      <td>83740.8</td>\n",
       "      <td>2016.0</td>\n",
       "      <td>FORT MILL, SOUTH CAROLINA</td>\n",
       "      <td>-80.945076</td>\n",
       "      <td>35.00737</td>\n",
       "    </tr>\n",
       "  </tbody>\n",
       "</table>\n",
       "</div>"
      ],
      "text/plain": [
       "            ID      label       EMPLOYER_NAME SOC_NAME         JOB_TITLE  \\\n",
       "432320  647798  CERTIFIED      SIGMAWAYS, INC      NaN  SYSTEMS ENGINEER   \n",
       "682391  647803  CERTIFIED  IRIS SOFTWARE, INC      NaN               NaN   \n",
       "\n",
       "       FULL_TIME_POSITION  PREVAILING_WAGE    YEAR                   WORKSITE  \\\n",
       "432320                  Y          75421.0  2016.0        FREMONT, CALIFORNIA   \n",
       "682391                  Y          83740.8  2016.0  FORT MILL, SOUTH CAROLINA   \n",
       "\n",
       "               lon       lat  \n",
       "432320 -121.988572  37.54827  \n",
       "682391  -80.945076  35.00737  "
      ]
     },
     "execution_count": 19,
     "metadata": {},
     "output_type": "execute_result"
    }
   ],
   "source": [
    "train[train.YEAR == 2016].tail(2)"
   ]
  },
  {
   "cell_type": "code",
   "execution_count": 20,
   "metadata": {},
   "outputs": [
    {
     "data": {
      "text/html": [
       "<div>\n",
       "<style scoped>\n",
       "    .dataframe tbody tr th:only-of-type {\n",
       "        vertical-align: middle;\n",
       "    }\n",
       "\n",
       "    .dataframe tbody tr th {\n",
       "        vertical-align: top;\n",
       "    }\n",
       "\n",
       "    .dataframe thead th {\n",
       "        text-align: right;\n",
       "    }\n",
       "</style>\n",
       "<table border=\"1\" class=\"dataframe\">\n",
       "  <thead>\n",
       "    <tr style=\"text-align: right;\">\n",
       "      <th></th>\n",
       "      <th>ID</th>\n",
       "      <th>label</th>\n",
       "      <th>EMPLOYER_NAME</th>\n",
       "      <th>SOC_NAME</th>\n",
       "      <th>JOB_TITLE</th>\n",
       "      <th>FULL_TIME_POSITION</th>\n",
       "      <th>PREVAILING_WAGE</th>\n",
       "      <th>YEAR</th>\n",
       "      <th>WORKSITE</th>\n",
       "      <th>lon</th>\n",
       "      <th>lat</th>\n",
       "    </tr>\n",
       "  </thead>\n",
       "  <tbody>\n",
       "    <tr>\n",
       "      <th>341663</th>\n",
       "      <td>647805</td>\n",
       "      <td>CERTIFIED</td>\n",
       "      <td>UNIVERSITY OF OKLAHOMA</td>\n",
       "      <td>ENGINEERING TEACHERS, POSTSECONDARY</td>\n",
       "      <td>ASSISTANT PROFESSOR</td>\n",
       "      <td>Y</td>\n",
       "      <td>42860.0</td>\n",
       "      <td>2015.0</td>\n",
       "      <td>NORMAN, OKLAHOMA</td>\n",
       "      <td>-97.439478</td>\n",
       "      <td>35.222567</td>\n",
       "    </tr>\n",
       "    <tr>\n",
       "      <th>1540453</th>\n",
       "      <td>647808</td>\n",
       "      <td>CERTIFIED</td>\n",
       "      <td>FEDERAL HOME LOAN MORTGAGE CO</td>\n",
       "      <td>COMPUTER PROGRAMMERS</td>\n",
       "      <td>DEVELOPMENT SENIOR</td>\n",
       "      <td>Y</td>\n",
       "      <td>96907.0</td>\n",
       "      <td>2015.0</td>\n",
       "      <td>MCLEAN, VIRGINIA</td>\n",
       "      <td>-77.177260</td>\n",
       "      <td>38.933868</td>\n",
       "    </tr>\n",
       "  </tbody>\n",
       "</table>\n",
       "</div>"
      ],
      "text/plain": [
       "             ID      label                  EMPLOYER_NAME  \\\n",
       "341663   647805  CERTIFIED         UNIVERSITY OF OKLAHOMA   \n",
       "1540453  647808  CERTIFIED  FEDERAL HOME LOAN MORTGAGE CO   \n",
       "\n",
       "                                    SOC_NAME            JOB_TITLE  \\\n",
       "341663   ENGINEERING TEACHERS, POSTSECONDARY  ASSISTANT PROFESSOR   \n",
       "1540453                 COMPUTER PROGRAMMERS   DEVELOPMENT SENIOR   \n",
       "\n",
       "        FULL_TIME_POSITION  PREVAILING_WAGE    YEAR          WORKSITE  \\\n",
       "341663                   Y          42860.0  2015.0  NORMAN, OKLAHOMA   \n",
       "1540453                  Y          96907.0  2015.0  MCLEAN, VIRGINIA   \n",
       "\n",
       "               lon        lat  \n",
       "341663  -97.439478  35.222567  \n",
       "1540453 -77.177260  38.933868  "
      ]
     },
     "execution_count": 20,
     "metadata": {},
     "output_type": "execute_result"
    }
   ],
   "source": [
    "train[train.YEAR == 2015].head(2)"
   ]
  },
  {
   "cell_type": "markdown",
   "metadata": {},
   "source": [
    "ID는 2016~2011 순서대로 되있다.  \n",
    "lD와 label과의 관계는 밝혀내지 못했다."
   ]
  },
  {
   "cell_type": "markdown",
   "metadata": {},
   "source": [
    "# WORKSITE"
   ]
  },
  {
   "cell_type": "code",
   "execution_count": 51,
   "metadata": {},
   "outputs": [
    {
     "data": {
      "text/plain": [
       "108460     SANTA CLARA, CALIFORNIA\n",
       "1280131      SAN DIEGO, CALIFORNIA\n",
       "690568     CHULA VISTA, CALIFORNIA\n",
       "Name: WORKSITE, dtype: object"
      ]
     },
     "execution_count": 51,
     "metadata": {},
     "output_type": "execute_result"
    }
   ],
   "source": [
    "train['WORKSITE'].head(3) #도시,주"
   ]
  },
  {
   "cell_type": "code",
   "execution_count": 21,
   "metadata": {},
   "outputs": [],
   "source": [
    "def state_extractor(worksite):\n",
    "    return worksite.split(',')[1]\n",
    "def city_extractor(worksite):\n",
    "    return worksite.split(',')[0]"
   ]
  },
  {
   "cell_type": "code",
   "execution_count": 22,
   "metadata": {},
   "outputs": [],
   "source": [
    "train['STATE'] = train['WORKSITE'].apply(state_extractor)\n",
    "train['CITY'] = train['WORKSITE'].apply(city_extractor)"
   ]
  },
  {
   "cell_type": "code",
   "execution_count": 23,
   "metadata": {},
   "outputs": [],
   "source": [
    "train = train.drop(['lon','lat'],1)"
   ]
  },
  {
   "cell_type": "code",
   "execution_count": 24,
   "metadata": {},
   "outputs": [
    {
     "data": {
      "text/plain": [
       "53"
      ]
     },
     "execution_count": 24,
     "metadata": {},
     "output_type": "execute_result"
    }
   ],
   "source": [
    "len(train['STATE'].unique())"
   ]
  },
  {
   "cell_type": "markdown",
   "metadata": {},
   "source": [
    "# prevaling_wage"
   ]
  },
  {
   "cell_type": "code",
   "execution_count": 25,
   "metadata": {},
   "outputs": [
    {
     "data": {
      "text/plain": [
       "DENIED    48\n",
       "Name: label, dtype: int64"
      ]
     },
     "execution_count": 25,
     "metadata": {},
     "output_type": "execute_result"
    }
   ],
   "source": [
    "train[train.isnull()['PREVAILING_WAGE']]['label'].value_counts()"
   ]
  },
  {
   "cell_type": "code",
   "execution_count": 65,
   "metadata": {},
   "outputs": [
    {
     "data": {
      "text/plain": [
       "DENIED    19\n",
       "Name: label, dtype: int64"
      ]
     },
     "execution_count": 65,
     "metadata": {},
     "output_type": "execute_result"
    }
   ],
   "source": [
    "train[train.PREVAILING_WAGE == 0]['label'].value_counts()"
   ]
  },
  {
   "cell_type": "code",
   "execution_count": 26,
   "metadata": {},
   "outputs": [],
   "source": [
    "train_wage = train[train.PREVAILING_WAGE > 0]"
   ]
  },
  {
   "cell_type": "code",
   "execution_count": 27,
   "metadata": {},
   "outputs": [],
   "source": [
    "import math\n",
    "logwage = train_wage['PREVAILING_WAGE'].apply(lambda x: math.log10(x))"
   ]
  },
  {
   "cell_type": "code",
   "execution_count": 64,
   "metadata": {},
   "outputs": [
    {
     "data": {
      "image/png": "[encoded data removed]",
      "text/plain": [
       "<Figure size 432x288 with 1 Axes>"
      ]
     },
     "metadata": {},
     "output_type": "display_data"
    }
   ],
   "source": [
    "sns.boxplot(x =train_wage['label'], y = logwage)\n",
    "plt.show()"
   ]
  },
  {
   "cell_type": "code",
   "execution_count": 66,
   "metadata": {},
   "outputs": [
    {
     "data": {
      "text/plain": [
       "DENIED    30\n",
       "Name: label, dtype: int64"
      ]
     },
     "execution_count": 66,
     "metadata": {},
     "output_type": "execute_result"
    }
   ],
   "source": [
    "#연봉 1만 달러(한화 약 1100만) 이하 전문직\n",
    "train[train.PREVAILING_WAGE <= 10000]['label'].value_counts()"
   ]
  },
  {
   "cell_type": "code",
   "execution_count": 67,
   "metadata": {},
   "outputs": [
    {
     "data": {
      "text/plain": [
       "DENIED       20\n",
       "CERTIFIED     1\n",
       "Name: label, dtype: int64"
      ]
     },
     "execution_count": 67,
     "metadata": {},
     "output_type": "execute_result"
    }
   ],
   "source": [
    "#연봉 3억 달러(한화 약 3천 3백 억) 이상 전문직\n",
    "train[train.PREVAILING_WAGE > 300000000]['label'].value_counts() "
   ]
  },
  {
   "cell_type": "code",
   "execution_count": 68,
   "metadata": {},
   "outputs": [
    {
     "data": {
      "text/html": [
       "<div>\n",
       "<style scoped>\n",
       "    .dataframe tbody tr th:only-of-type {\n",
       "        vertical-align: middle;\n",
       "    }\n",
       "\n",
       "    .dataframe tbody tr th {\n",
       "        vertical-align: top;\n",
       "    }\n",
       "\n",
       "    .dataframe thead th {\n",
       "        text-align: right;\n",
       "    }\n",
       "</style>\n",
       "<table border=\"1\" class=\"dataframe\">\n",
       "  <thead>\n",
       "    <tr style=\"text-align: right;\">\n",
       "      <th></th>\n",
       "      <th>ID</th>\n",
       "      <th>label</th>\n",
       "      <th>EMPLOYER_NAME</th>\n",
       "      <th>SOC_NAME</th>\n",
       "      <th>JOB_TITLE</th>\n",
       "      <th>FULL_TIME_POSITION</th>\n",
       "      <th>PREVAILING_WAGE</th>\n",
       "      <th>YEAR</th>\n",
       "      <th>WORKSITE</th>\n",
       "      <th>STATE</th>\n",
       "      <th>CITY</th>\n",
       "    </tr>\n",
       "  </thead>\n",
       "  <tbody>\n",
       "    <tr>\n",
       "      <th>650617</th>\n",
       "      <td>2905943</td>\n",
       "      <td>CERTIFIED</td>\n",
       "      <td>INTEGRATED MEDICAL SERVICES</td>\n",
       "      <td>INTERNISTS, GENERAL</td>\n",
       "      <td>RADIATION ONCOLOGIST</td>\n",
       "      <td>Y</td>\n",
       "      <td>306049120.0</td>\n",
       "      <td>2011.0</td>\n",
       "      <td>CHANDLER, ARIZONA</td>\n",
       "      <td>ARIZONA</td>\n",
       "      <td>CHANDLER</td>\n",
       "    </tr>\n",
       "  </tbody>\n",
       "</table>\n",
       "</div>"
      ],
      "text/plain": [
       "             ID      label                EMPLOYER_NAME             SOC_NAME  \\\n",
       "650617  2905943  CERTIFIED  INTEGRATED MEDICAL SERVICES  INTERNISTS, GENERAL   \n",
       "\n",
       "                   JOB_TITLE FULL_TIME_POSITION  PREVAILING_WAGE    YEAR  \\\n",
       "650617  RADIATION ONCOLOGIST                  Y      306049120.0  2011.0   \n",
       "\n",
       "                 WORKSITE     STATE      CITY  \n",
       "650617  CHANDLER, ARIZONA   ARIZONA  CHANDLER  "
      ]
     },
     "execution_count": 68,
     "metadata": {},
     "output_type": "execute_result"
    }
   ],
   "source": [
    "#암 연구 전문의\n",
    "train[(train.PREVAILING_WAGE > 300000000)&(train.label == 'CERTIFIED')]"
   ]
  },
  {
   "cell_type": "code",
   "execution_count": 71,
   "metadata": {},
   "outputs": [
    {
     "data": {
      "text/plain": [
       "DENIED       28\n",
       "CERTIFIED     1\n",
       "Name: label, dtype: int64"
      ]
     },
     "execution_count": 71,
     "metadata": {},
     "output_type": "execute_result"
    }
   ],
   "source": [
    "train[(train.PREVAILING_WAGE < 10000000)&(train.PREVAILING_WAGE > 6500000)]['label'].value_counts()"
   ]
  },
  {
   "cell_type": "code",
   "execution_count": 28,
   "metadata": {},
   "outputs": [
    {
     "data": {
      "text/html": [
       "<div>\n",
       "<style scoped>\n",
       "    .dataframe tbody tr th:only-of-type {\n",
       "        vertical-align: middle;\n",
       "    }\n",
       "\n",
       "    .dataframe tbody tr th {\n",
       "        vertical-align: top;\n",
       "    }\n",
       "\n",
       "    .dataframe thead th {\n",
       "        text-align: right;\n",
       "    }\n",
       "</style>\n",
       "<table border=\"1\" class=\"dataframe\">\n",
       "  <thead>\n",
       "    <tr style=\"text-align: right;\">\n",
       "      <th></th>\n",
       "      <th>ID</th>\n",
       "      <th>label</th>\n",
       "      <th>EMPLOYER_NAME</th>\n",
       "      <th>SOC_NAME</th>\n",
       "      <th>JOB_TITLE</th>\n",
       "      <th>FULL_TIME_POSITION</th>\n",
       "      <th>PREVAILING_WAGE</th>\n",
       "      <th>YEAR</th>\n",
       "      <th>WORKSITE</th>\n",
       "      <th>STATE</th>\n",
       "      <th>CITY</th>\n",
       "    </tr>\n",
       "  </thead>\n",
       "  <tbody>\n",
       "    <tr>\n",
       "      <th>1537215</th>\n",
       "      <td>2610674</td>\n",
       "      <td>CERTIFIED</td>\n",
       "      <td>SELECT SOURCE INTERNATIONAL</td>\n",
       "      <td>COMPUTER OCCUPATIONS, ALL OTHER</td>\n",
       "      <td>PROJECT MANAGER</td>\n",
       "      <td>Y</td>\n",
       "      <td>9062600.0</td>\n",
       "      <td>2012.0</td>\n",
       "      <td>BROOKLYN PARK, MINNESOTA</td>\n",
       "      <td>MINNESOTA</td>\n",
       "      <td>BROOKLYN PARK</td>\n",
       "    </tr>\n",
       "  </tbody>\n",
       "</table>\n",
       "</div>"
      ],
      "text/plain": [
       "              ID      label                EMPLOYER_NAME  \\\n",
       "1537215  2610674  CERTIFIED  SELECT SOURCE INTERNATIONAL   \n",
       "\n",
       "                                SOC_NAME        JOB_TITLE FULL_TIME_POSITION  \\\n",
       "1537215  COMPUTER OCCUPATIONS, ALL OTHER  PROJECT MANAGER                  Y   \n",
       "\n",
       "         PREVAILING_WAGE    YEAR                  WORKSITE       STATE  \\\n",
       "1537215        9062600.0  2012.0  BROOKLYN PARK, MINNESOTA   MINNESOTA   \n",
       "\n",
       "                  CITY  \n",
       "1537215  BROOKLYN PARK  "
      ]
     },
     "execution_count": 28,
     "metadata": {},
     "output_type": "execute_result"
    }
   ],
   "source": [
    "#Project Manager\n",
    "train[(train.PREVAILING_WAGE < 10000000)&(train.PREVAILING_WAGE > 6500000)&(train.label == 'CERTIFIED')]"
   ]
  },
  {
   "cell_type": "markdown",
   "metadata": {},
   "source": [
    "PREVAILING_WAG가 결측값,0,너무 낮은 값, 너무 높은 값 이면 DENIED다.  \n",
    "특이하게 6,500,000~10,000,000 구간에서도 DENIED가 많이 분포한다.  \n",
    "그 외 wage 값 자체만으로는 label구별에 의미가 없어 보인다"
   ]
  },
  {
   "cell_type": "markdown",
   "metadata": {},
   "source": [
    "# Full time"
   ]
  },
  {
   "cell_type": "code",
   "execution_count": 75,
   "metadata": {},
   "outputs": [
    {
     "data": {
      "text/plain": [
       "Y    85.944211\n",
       "N    14.055743\n",
       "Name: FULL_TIME_POSITION, dtype: float64"
      ]
     },
     "execution_count": 75,
     "metadata": {},
     "output_type": "execute_result"
    }
   ],
   "source": [
    "train['FULL_TIME_POSITION'].value_counts()*100/train['FULL_TIME_POSITION'].shape[0]"
   ]
  },
  {
   "cell_type": "code",
   "execution_count": 76,
   "metadata": {},
   "outputs": [
    {
     "data": {
      "text/plain": [
       "CERTIFIED    96.512705\n",
       "DENIED        3.487295\n",
       "Name: label, dtype: float64"
      ]
     },
     "execution_count": 76,
     "metadata": {},
     "output_type": "execute_result"
    }
   ],
   "source": [
    "# FULL = Y\n",
    "train[train.FULL_TIME_POSITION == 'Y']['label'].value_counts()*100/train[train.FULL_TIME_POSITION == 'Y']['label'].shape[0]"
   ]
  },
  {
   "cell_type": "code",
   "execution_count": 77,
   "metadata": {},
   "outputs": [
    {
     "data": {
      "text/plain": [
       "CERTIFIED    96.572021\n",
       "DENIED        3.427979\n",
       "Name: label, dtype: float64"
      ]
     },
     "execution_count": 77,
     "metadata": {},
     "output_type": "execute_result"
    }
   ],
   "source": [
    "# FULL =N\n",
    "train[train.FULL_TIME_POSITION == 'N']['label'].value_counts()*100/train[train.FULL_TIME_POSITION == 'N']['label'].shape[0]"
   ]
  },
  {
   "cell_type": "markdown",
   "metadata": {},
   "source": [
    "Full time의 유무는 label과 크게 관련 없어 보인다."
   ]
  },
  {
   "cell_type": "markdown",
   "metadata": {},
   "source": [
    "# 이 데이터 셋으로   \n",
    "# 100% 정답을 맞출 수 없는 근본적인 한계 :   \n",
    "- 같은 feature를 갖고도 label이 다르게 붙는 경우가 존재\n",
    "- LCA 신청서에는 이것보다 많은 자료가 기재되어 있을 것이다."
   ]
  },
  {
   "cell_type": "code",
   "execution_count": 82,
   "metadata": {
    "scrolled": true
   },
   "outputs": [
    {
     "data": {
      "text/html": [
       "<div>\n",
       "<style scoped>\n",
       "    .dataframe tbody tr th:only-of-type {\n",
       "        vertical-align: middle;\n",
       "    }\n",
       "\n",
       "    .dataframe tbody tr th {\n",
       "        vertical-align: top;\n",
       "    }\n",
       "\n",
       "    .dataframe thead th {\n",
       "        text-align: right;\n",
       "    }\n",
       "</style>\n",
       "<table border=\"1\" class=\"dataframe\">\n",
       "  <thead>\n",
       "    <tr style=\"text-align: right;\">\n",
       "      <th></th>\n",
       "      <th>ID</th>\n",
       "      <th>label</th>\n",
       "      <th>EMPLOYER_NAME</th>\n",
       "      <th>SOC_NAME</th>\n",
       "      <th>JOB_TITLE</th>\n",
       "      <th>FULL_TIME_POSITION</th>\n",
       "      <th>PREVAILING_WAGE</th>\n",
       "      <th>YEAR</th>\n",
       "      <th>WORKSITE</th>\n",
       "      <th>STATE</th>\n",
       "      <th>CITY</th>\n",
       "    </tr>\n",
       "  </thead>\n",
       "  <tbody>\n",
       "    <tr>\n",
       "      <th>501696</th>\n",
       "      <td>1435520</td>\n",
       "      <td>DENIED</td>\n",
       "      <td>FOUR SEASONS HEATING AND AIR CONDITIONING</td>\n",
       "      <td>COMPUTER PROGRAMMERS</td>\n",
       "      <td>COMPUTER PROGRAMMER</td>\n",
       "      <td>Y</td>\n",
       "      <td>50211.0</td>\n",
       "      <td>2014.0</td>\n",
       "      <td>CHICAGO, ILLINOIS</td>\n",
       "      <td>ILLINOIS</td>\n",
       "      <td>CHICAGO</td>\n",
       "    </tr>\n",
       "    <tr>\n",
       "      <th>232158</th>\n",
       "      <td>1447331</td>\n",
       "      <td>CERTIFIED</td>\n",
       "      <td>FOUR SEASONS HEATING AND AIR CONDITIONING</td>\n",
       "      <td>COMPUTER PROGRAMMERS</td>\n",
       "      <td>COMPUTER PROGRAMMER</td>\n",
       "      <td>Y</td>\n",
       "      <td>50211.0</td>\n",
       "      <td>2014.0</td>\n",
       "      <td>CHICAGO, ILLINOIS</td>\n",
       "      <td>ILLINOIS</td>\n",
       "      <td>CHICAGO</td>\n",
       "    </tr>\n",
       "    <tr>\n",
       "      <th>1702640</th>\n",
       "      <td>1483030</td>\n",
       "      <td>CERTIFIED</td>\n",
       "      <td>FOUR SEASONS HEATING AND AIR CONDITIONING</td>\n",
       "      <td>COMPUTER PROGRAMMERS</td>\n",
       "      <td>COMPUTER PROGRAMMER</td>\n",
       "      <td>Y</td>\n",
       "      <td>50211.0</td>\n",
       "      <td>2014.0</td>\n",
       "      <td>CHICAGO, ILLINOIS</td>\n",
       "      <td>ILLINOIS</td>\n",
       "      <td>CHICAGO</td>\n",
       "    </tr>\n",
       "  </tbody>\n",
       "</table>\n",
       "</div>"
      ],
      "text/plain": [
       "              ID      label                              EMPLOYER_NAME  \\\n",
       "501696   1435520     DENIED  FOUR SEASONS HEATING AND AIR CONDITIONING   \n",
       "232158   1447331  CERTIFIED  FOUR SEASONS HEATING AND AIR CONDITIONING   \n",
       "1702640  1483030  CERTIFIED  FOUR SEASONS HEATING AND AIR CONDITIONING   \n",
       "\n",
       "                     SOC_NAME            JOB_TITLE FULL_TIME_POSITION  \\\n",
       "501696   COMPUTER PROGRAMMERS  COMPUTER PROGRAMMER                  Y   \n",
       "232158   COMPUTER PROGRAMMERS  COMPUTER PROGRAMMER                  Y   \n",
       "1702640  COMPUTER PROGRAMMERS  COMPUTER PROGRAMMER                  Y   \n",
       "\n",
       "         PREVAILING_WAGE    YEAR           WORKSITE      STATE     CITY  \n",
       "501696           50211.0  2014.0  CHICAGO, ILLINOIS   ILLINOIS  CHICAGO  \n",
       "232158           50211.0  2014.0  CHICAGO, ILLINOIS   ILLINOIS  CHICAGO  \n",
       "1702640          50211.0  2014.0  CHICAGO, ILLINOIS   ILLINOIS  CHICAGO  "
      ]
     },
     "execution_count": 82,
     "metadata": {},
     "output_type": "execute_result"
    }
   ],
   "source": [
    "#EX\n",
    "train[(train.EMPLOYER_NAME == 'FOUR SEASONS HEATING AND AIR CONDITIONING')&(train.SOC_NAME == 'COMPUTER PROGRAMMERS')]"
   ]
  },
  {
   "cell_type": "markdown",
   "metadata": {},
   "source": [
    "# EDA report  \n",
    "- 5개년 동안 압도적으로 LCA를 많이 제출한 회사도 있고, 1개만 제출한 회사도 많다.\n",
    "- soc_name을 표준 이름으로 기재하지 않은 회사들이 많다.\n",
    "- soc_name,job_title : 내용은 같으나 철자가 달라 구별되어 판단되는 경우 존재\n",
    "- FULL_TITME_POSITION : 크게 의미 있는 변수는 아닌 듯 하다.\n",
    "- PREVALING_WAGE : 값을 이용해 DENIED를 골라낼 수 있는 경우 존재 \n",
    "- state : 미국의 모든 주는 다 있는 듯 하다.\n",
    "- YEAR : ID는 2016~2011순이다. 해가 갈 수록 LCA접수량이 증가하고 , CERTIFED 비율도 높아진다.\n",
    "- 예측 정확도을 높이고 싶으면 추가적인 정보가 필요해 보인다."
   ]
  },
  {
   "cell_type": "markdown",
   "metadata": {},
   "source": [
    "# train 전처리"
   ]
  },
  {
   "cell_type": "markdown",
   "metadata": {},
   "source": [
    "# 결측값처리 \n",
    "- 각 feature마다 결측값의 의미를 확인했기에 결측값 없는 데이터만으로 학습하자"
   ]
  },
  {
   "cell_type": "code",
   "execution_count": 84,
   "metadata": {},
   "outputs": [
    {
     "data": {
      "text/plain": [
       "ID                        0\n",
       "label                     0\n",
       "EMPLOYER_NAME            17\n",
       "SOC_NAME              12747\n",
       "JOB_TITLE                 7\n",
       "FULL_TIME_POSITION        1\n",
       "PREVAILING_WAGE          48\n",
       "YEAR                      0\n",
       "WORKSITE                  0\n",
       "STATE                     0\n",
       "CITY                      0\n",
       "dtype: int64"
      ]
     },
     "execution_count": 84,
     "metadata": {},
     "output_type": "execute_result"
    }
   ],
   "source": [
    "train.isnull().sum()"
   ]
  },
  {
   "cell_type": "code",
   "execution_count": 30,
   "metadata": {},
   "outputs": [],
   "source": [
    "train2 = train.dropna()"
   ]
  },
  {
   "cell_type": "markdown",
   "metadata": {},
   "source": [
    "# factor 처리"
   ]
  },
  {
   "cell_type": "code",
   "execution_count": 31,
   "metadata": {},
   "outputs": [],
   "source": [
    "emp_count_df = pd.DataFrame(train2['EMPLOYER_NAME'].value_counts()).reset_index()\n",
    "emp_count_df.columns = ['EMPLOYER_NAME','COUNT']\n",
    "train2_1 = pd.merge(train2,emp_count_df,on = 'EMPLOYER_NAME', how = 'inner')\n",
    "emp_df = train2.groupby(['EMPLOYER_NAME','label'])['label'].count().unstack('label')\n",
    "emp_df = emp_df.reset_index()\n",
    "emp_df['CERTIFIED'] = emp_df['CERTIFIED'].fillna(0)\n",
    "emp_df['DENIED'] =emp_df['DENIED'].fillna(0)\n",
    "emp_df['Cratio_E'] = emp_df['CERTIFIED']/(emp_df['CERTIFIED']+emp_df['DENIED'])\n",
    "emp_df = emp_df[['EMPLOYER_NAME','Cratio_E']]\n",
    "train3 = pd.merge(train2_1,emp_df,on = 'EMPLOYER_NAME',how = 'inner')"
   ]
  },
  {
   "cell_type": "code",
   "execution_count": 32,
   "metadata": {},
   "outputs": [],
   "source": [
    "soc_df = train3.groupby(['SOC_NAME','label'])['label'].count().unstack('label')\n",
    "soc_df = soc_df.reset_index()\n",
    "soc_df['CERTIFIED'] = soc_df['CERTIFIED'].fillna(0)\n",
    "soc_df['DENIED'] = soc_df['DENIED'].fillna(0)\n",
    "soc_df['Cratio_SOC'] = soc_df['CERTIFIED']/(soc_df['CERTIFIED']+soc_df['DENIED'])\n",
    "soc_df = soc_df[['SOC_NAME','Cratio_SOC']]\n",
    "train4 = pd.merge(train3,soc_df,on = 'SOC_NAME',how = 'inner')"
   ]
  },
  {
   "cell_type": "code",
   "execution_count": 33,
   "metadata": {},
   "outputs": [],
   "source": [
    "job_df = train4.groupby(['JOB_TITLE','label'])['label'].count().unstack('label')\n",
    "job_df = job_df.reset_index()\n",
    "job_df['CERTIFIED'] = job_df['CERTIFIED'].fillna(0)\n",
    "job_df['DENIED'] = job_df['DENIED'].fillna(0)\n",
    "job_df['Cratio_J'] = job_df['CERTIFIED']/(job_df['CERTIFIED']+job_df['DENIED'])\n",
    "job_df = job_df[['JOB_TITLE','Cratio_J']]\n",
    "train5 = pd.merge(train4,job_df,on = 'JOB_TITLE',how = 'inner')"
   ]
  },
  {
   "cell_type": "code",
   "execution_count": 34,
   "metadata": {},
   "outputs": [],
   "source": [
    "state_df = train5.groupby(['STATE','label'])['label'].count().unstack('label')\n",
    "state_df = state_df.reset_index()\n",
    "state_df['CERTIFIED'] = state_df['CERTIFIED'].fillna(0)\n",
    "state_df['DENIED'] = state_df['DENIED'].fillna(0)\n",
    "state_df['Cratio_S'] = state_df['CERTIFIED']/(state_df['CERTIFIED']+state_df['DENIED'])\n",
    "state_df = state_df[['STATE','Cratio_S']]\n",
    "train6 = pd.merge(train5,state_df,on = 'STATE',how = 'inner')"
   ]
  },
  {
   "cell_type": "code",
   "execution_count": 35,
   "metadata": {},
   "outputs": [],
   "source": [
    "label_dict = {'CERTIFIED': 0, 'DENIED': 1}\n",
    "train6['label'] = train6['label'].apply(lambda x : label_dict[x])"
   ]
  },
  {
   "cell_type": "code",
   "execution_count": 36,
   "metadata": {},
   "outputs": [],
   "source": [
    "FTP_dict = {'Y': 1, 'N': 0}\n",
    "train6['FULL_TIME_POSITION'] = train6['FULL_TIME_POSITION'].apply(lambda x : FTP_dict[x])"
   ]
  },
  {
   "cell_type": "code",
   "execution_count": 37,
   "metadata": {},
   "outputs": [
    {
     "data": {
      "text/html": [
       "<div>\n",
       "<style scoped>\n",
       "    .dataframe tbody tr th:only-of-type {\n",
       "        vertical-align: middle;\n",
       "    }\n",
       "\n",
       "    .dataframe tbody tr th {\n",
       "        vertical-align: top;\n",
       "    }\n",
       "\n",
       "    .dataframe thead th {\n",
       "        text-align: right;\n",
       "    }\n",
       "</style>\n",
       "<table border=\"1\" class=\"dataframe\">\n",
       "  <thead>\n",
       "    <tr style=\"text-align: right;\">\n",
       "      <th></th>\n",
       "      <th>ID</th>\n",
       "      <th>label</th>\n",
       "      <th>EMPLOYER_NAME</th>\n",
       "      <th>SOC_NAME</th>\n",
       "      <th>JOB_TITLE</th>\n",
       "      <th>FULL_TIME_POSITION</th>\n",
       "      <th>PREVAILING_WAGE</th>\n",
       "      <th>YEAR</th>\n",
       "      <th>WORKSITE</th>\n",
       "      <th>STATE</th>\n",
       "      <th>CITY</th>\n",
       "      <th>COUNT</th>\n",
       "      <th>Cratio_E</th>\n",
       "      <th>Cratio_SOC</th>\n",
       "      <th>Cratio_J</th>\n",
       "      <th>Cratio_S</th>\n",
       "    </tr>\n",
       "  </thead>\n",
       "  <tbody>\n",
       "    <tr>\n",
       "      <th>0</th>\n",
       "      <td>19</td>\n",
       "      <td>0</td>\n",
       "      <td>QUICKLOGIX LLC</td>\n",
       "      <td>CHIEF EXECUTIVES</td>\n",
       "      <td>CEO</td>\n",
       "      <td>1</td>\n",
       "      <td>187200.0</td>\n",
       "      <td>2016.0</td>\n",
       "      <td>SANTA CLARA, CALIFORNIA</td>\n",
       "      <td>CALIFORNIA</td>\n",
       "      <td>SANTA CLARA</td>\n",
       "      <td>1</td>\n",
       "      <td>1.0</td>\n",
       "      <td>0.842002</td>\n",
       "      <td>0.786207</td>\n",
       "      <td>0.964762</td>\n",
       "    </tr>\n",
       "    <tr>\n",
       "      <th>1</th>\n",
       "      <td>23</td>\n",
       "      <td>0</td>\n",
       "      <td>LOMICS, LLC</td>\n",
       "      <td>CHIEF EXECUTIVES</td>\n",
       "      <td>CEO</td>\n",
       "      <td>1</td>\n",
       "      <td>99986.0</td>\n",
       "      <td>2016.0</td>\n",
       "      <td>SAN DIEGO, CALIFORNIA</td>\n",
       "      <td>CALIFORNIA</td>\n",
       "      <td>SAN DIEGO</td>\n",
       "      <td>1</td>\n",
       "      <td>1.0</td>\n",
       "      <td>0.842002</td>\n",
       "      <td>0.786207</td>\n",
       "      <td>0.964762</td>\n",
       "    </tr>\n",
       "  </tbody>\n",
       "</table>\n",
       "</div>"
      ],
      "text/plain": [
       "   ID  label   EMPLOYER_NAME          SOC_NAME JOB_TITLE  FULL_TIME_POSITION  \\\n",
       "0  19      0  QUICKLOGIX LLC  CHIEF EXECUTIVES       CEO                   1   \n",
       "1  23      0     LOMICS, LLC  CHIEF EXECUTIVES       CEO                   1   \n",
       "\n",
       "   PREVAILING_WAGE    YEAR                 WORKSITE        STATE         CITY  \\\n",
       "0         187200.0  2016.0  SANTA CLARA, CALIFORNIA   CALIFORNIA  SANTA CLARA   \n",
       "1          99986.0  2016.0    SAN DIEGO, CALIFORNIA   CALIFORNIA    SAN DIEGO   \n",
       "\n",
       "   COUNT  Cratio_E  Cratio_SOC  Cratio_J  Cratio_S  \n",
       "0      1       1.0    0.842002  0.786207  0.964762  \n",
       "1      1       1.0    0.842002  0.786207  0.964762  "
      ]
     },
     "execution_count": 37,
     "metadata": {},
     "output_type": "execute_result"
    }
   ],
   "source": [
    "train6.head(2)"
   ]
  },
  {
   "cell_type": "code",
   "execution_count": 38,
   "metadata": {},
   "outputs": [],
   "source": [
    "train7 = train6[(train6.PREVAILING_WAGE > 10000)&(train6.PREVAILING_WAGE<300000000)].copy()"
   ]
  },
  {
   "cell_type": "code",
   "execution_count": 39,
   "metadata": {},
   "outputs": [],
   "source": [
    "train8 = train7[(train7.PREVAILING_WAGE < 6500000)|(train7.PREVAILING_WAGE > 10000000)].copy()"
   ]
  },
  {
   "cell_type": "code",
   "execution_count": 40,
   "metadata": {},
   "outputs": [],
   "source": [
    "train8['YEAR'] = train8['YEAR'].astype(int)"
   ]
  },
  {
   "cell_type": "markdown",
   "metadata": {},
   "source": [
    "# CERTIFIED vs DENIED  data 비율 조정"
   ]
  },
  {
   "cell_type": "code",
   "execution_count": 41,
   "metadata": {},
   "outputs": [],
   "source": [
    "train2_C = train8[train8.label == 0]\n",
    "train2_D = train8[train8.label == 1]"
   ]
  },
  {
   "cell_type": "code",
   "execution_count": 114,
   "metadata": {},
   "outputs": [
    {
     "name": "stdout",
     "output_type": "stream",
     "text": [
      "CERTIFIED 2080601\n",
      "DENIED 74916\n"
     ]
    }
   ],
   "source": [
    "print('CERTIFIED',len(train2_C))\n",
    "print('DENIED',len(train2_D))"
   ]
  },
  {
   "cell_type": "code",
   "execution_count": 42,
   "metadata": {},
   "outputs": [],
   "source": [
    "from sklearn.model_selection import train_test_split"
   ]
  },
  {
   "cell_type": "code",
   "execution_count": 43,
   "metadata": {},
   "outputs": [
    {
     "name": "stderr",
     "output_type": "stream",
     "text": [
      "C:\\Users\\wjssm\\Anaconda3\\lib\\site-packages\\sklearn\\model_selection\\_split.py:2026: FutureWarning: From version 0.21, test_size will always complement train_size unless both are specified.\n",
      "  FutureWarning)\n"
     ]
    }
   ],
   "source": [
    "#CERTIFIED row수를 train_size 비율 만큼 줄인다.\n",
    "Certified,Certified_extra,y_certified,y_y_certified_extra = train_test_split(train2_C,train2_C.label,train_size = 0.1,random_state = 1)"
   ]
  },
  {
   "cell_type": "code",
   "execution_count": 44,
   "metadata": {},
   "outputs": [],
   "source": [
    "train_df = Certified.append(train2_D)"
   ]
  },
  {
   "cell_type": "code",
   "execution_count": 45,
   "metadata": {},
   "outputs": [
    {
     "data": {
      "text/plain": [
       "CERTIFIED    96.520998\n",
       "DENIED        3.479002\n",
       "Name: label, dtype: float64"
      ]
     },
     "execution_count": 45,
     "metadata": {},
     "output_type": "execute_result"
    }
   ],
   "source": [
    "#처리 전\n",
    "train['label'].value_counts()*100/train['label'].shape[0]"
   ]
  },
  {
   "cell_type": "code",
   "execution_count": 46,
   "metadata": {},
   "outputs": [
    {
     "data": {
      "text/plain": [
       "0    73.52567\n",
       "1    26.47433\n",
       "Name: label, dtype: float64"
      ]
     },
     "execution_count": 46,
     "metadata": {},
     "output_type": "execute_result"
    }
   ],
   "source": [
    "#처리 후\n",
    "train_df['label'].value_counts()*100/train_df['label'].shape[0]"
   ]
  },
  {
   "cell_type": "markdown",
   "metadata": {},
   "source": [
    "# feature 선택과 조작"
   ]
  },
  {
   "cell_type": "code",
   "execution_count": 47,
   "metadata": {},
   "outputs": [],
   "source": [
    "F = ['label','COUNT','STATE','PREVAILING_WAGE','YEAR','Cratio_E','Cratio_SOC','Cratio_J','Cratio_S']"
   ]
  },
  {
   "cell_type": "code",
   "execution_count": 48,
   "metadata": {},
   "outputs": [],
   "source": [
    "train_df2 = train_df[F].copy()"
   ]
  },
  {
   "cell_type": "code",
   "execution_count": 49,
   "metadata": {},
   "outputs": [
    {
     "data": {
      "text/html": [
       "<div>\n",
       "<style scoped>\n",
       "    .dataframe tbody tr th:only-of-type {\n",
       "        vertical-align: middle;\n",
       "    }\n",
       "\n",
       "    .dataframe tbody tr th {\n",
       "        vertical-align: top;\n",
       "    }\n",
       "\n",
       "    .dataframe thead th {\n",
       "        text-align: right;\n",
       "    }\n",
       "</style>\n",
       "<table border=\"1\" class=\"dataframe\">\n",
       "  <thead>\n",
       "    <tr style=\"text-align: right;\">\n",
       "      <th></th>\n",
       "      <th>label</th>\n",
       "      <th>COUNT</th>\n",
       "      <th>STATE</th>\n",
       "      <th>PREVAILING_WAGE</th>\n",
       "      <th>YEAR</th>\n",
       "      <th>Cratio_E</th>\n",
       "      <th>Cratio_SOC</th>\n",
       "      <th>Cratio_J</th>\n",
       "      <th>Cratio_S</th>\n",
       "    </tr>\n",
       "  </thead>\n",
       "  <tbody>\n",
       "    <tr>\n",
       "      <th>486848</th>\n",
       "      <td>0</td>\n",
       "      <td>51441</td>\n",
       "      <td>ARIZONA</td>\n",
       "      <td>43555.0</td>\n",
       "      <td>2014</td>\n",
       "      <td>0.998075</td>\n",
       "      <td>0.979639</td>\n",
       "      <td>0.965988</td>\n",
       "      <td>0.969902</td>\n",
       "    </tr>\n",
       "  </tbody>\n",
       "</table>\n",
       "</div>"
      ],
      "text/plain": [
       "        label  COUNT     STATE  PREVAILING_WAGE  YEAR  Cratio_E  Cratio_SOC  \\\n",
       "486848      0  51441   ARIZONA          43555.0  2014  0.998075    0.979639   \n",
       "\n",
       "        Cratio_J  Cratio_S  \n",
       "486848  0.965988  0.969902  "
      ]
     },
     "execution_count": 49,
     "metadata": {},
     "output_type": "execute_result"
    }
   ],
   "source": [
    "train_df2.head(1)"
   ]
  },
  {
   "cell_type": "code",
   "execution_count": 132,
   "metadata": {},
   "outputs": [],
   "source": [
    "import math\n",
    "train_df2['logcount'] = train_df2['COUNT'].apply(lambda x : math.log2(x))"
   ]
  },
  {
   "cell_type": "code",
   "execution_count": 134,
   "metadata": {},
   "outputs": [],
   "source": [
    "train_df2['logwage'] = train_df2['PREVAILING_WAGE'].apply(lambda x : math.log10(x))"
   ]
  },
  {
   "cell_type": "code",
   "execution_count": 160,
   "metadata": {},
   "outputs": [],
   "source": [
    "train_df2['assets'] = train_df2['COUNT']*(train_df2['Cratio_E']+0.001)*train_df2['PREVAILING_WAGE']"
   ]
  },
  {
   "cell_type": "code",
   "execution_count": 161,
   "metadata": {},
   "outputs": [],
   "source": [
    "train_df2['logassets'] = train_df2['assets'].apply(lambda x: math.log10(x))"
   ]
  },
  {
   "cell_type": "code",
   "execution_count": 375,
   "metadata": {},
   "outputs": [
    {
     "data": {
      "text/html": [
       "<div>\n",
       "<style scoped>\n",
       "    .dataframe tbody tr th:only-of-type {\n",
       "        vertical-align: middle;\n",
       "    }\n",
       "\n",
       "    .dataframe tbody tr th {\n",
       "        vertical-align: top;\n",
       "    }\n",
       "\n",
       "    .dataframe thead th {\n",
       "        text-align: right;\n",
       "    }\n",
       "</style>\n",
       "<table border=\"1\" class=\"dataframe\">\n",
       "  <thead>\n",
       "    <tr style=\"text-align: right;\">\n",
       "      <th></th>\n",
       "      <th>label</th>\n",
       "      <th>COUNT</th>\n",
       "      <th>STATE</th>\n",
       "      <th>PREVAILING_WAGE</th>\n",
       "      <th>YEAR</th>\n",
       "      <th>Cratio_E</th>\n",
       "      <th>Cratio_SOC</th>\n",
       "      <th>Cratio_J</th>\n",
       "      <th>Cratio_S</th>\n",
       "    </tr>\n",
       "  </thead>\n",
       "  <tbody>\n",
       "    <tr>\n",
       "      <th>483866</th>\n",
       "      <td>0</td>\n",
       "      <td>11118</td>\n",
       "      <td>TEXAS</td>\n",
       "      <td>68432.0</td>\n",
       "      <td>2016</td>\n",
       "      <td>0.995593</td>\n",
       "      <td>0.965486</td>\n",
       "      <td>0.987201</td>\n",
       "      <td>0.967577</td>\n",
       "    </tr>\n",
       "  </tbody>\n",
       "</table>\n",
       "</div>"
      ],
      "text/plain": [
       "        label  COUNT   STATE  PREVAILING_WAGE  YEAR  Cratio_E  Cratio_SOC  \\\n",
       "483866      0  11118   TEXAS          68432.0  2016  0.995593    0.965486   \n",
       "\n",
       "        Cratio_J  Cratio_S  \n",
       "483866  0.987201  0.967577  "
      ]
     },
     "execution_count": 375,
     "metadata": {},
     "output_type": "execute_result"
    }
   ],
   "source": [
    "train_df2.head(1)"
   ]
  },
  {
   "cell_type": "code",
   "execution_count": 50,
   "metadata": {},
   "outputs": [],
   "source": [
    "F_1 = ['label','YEAR','Cratio_SOC','Cratio_J','Cratio_E','Cratio_S']\n",
    "train_df3 = train_df2[F_1]"
   ]
  },
  {
   "cell_type": "code",
   "execution_count": 51,
   "metadata": {},
   "outputs": [],
   "source": [
    "train_df4 = pd.get_dummies(train_df3,columns = ['YEAR'])"
   ]
  },
  {
   "cell_type": "markdown",
   "metadata": {},
   "source": [
    "# x_train, y_train 준비 "
   ]
  },
  {
   "cell_type": "code",
   "execution_count": 52,
   "metadata": {},
   "outputs": [],
   "source": [
    "x_train = train_df4.drop(['label'],1)\n",
    "y_train = train_df4['label']"
   ]
  },
  {
   "cell_type": "code",
   "execution_count": 53,
   "metadata": {},
   "outputs": [],
   "source": [
    "from sklearn.preprocessing import StandardScaler"
   ]
  },
  {
   "cell_type": "code",
   "execution_count": 54,
   "metadata": {},
   "outputs": [],
   "source": [
    "X_scaler = StandardScaler()"
   ]
  },
  {
   "cell_type": "code",
   "execution_count": 55,
   "metadata": {},
   "outputs": [],
   "source": [
    "x_train2 = X_scaler.fit_transform(x_train)"
   ]
  },
  {
   "cell_type": "markdown",
   "metadata": {},
   "source": [
    "# moding test"
   ]
  },
  {
   "cell_type": "code",
   "execution_count": 56,
   "metadata": {},
   "outputs": [],
   "source": [
    "from sklearn.model_selection import train_test_split\n",
    "from sklearn.metrics import confusion_matrix\n",
    "from sklearn.metrics import classification_report\n",
    "from sklearn.metrics import f1_score"
   ]
  },
  {
   "cell_type": "code",
   "execution_count": 57,
   "metadata": {},
   "outputs": [],
   "source": [
    "X_train, X_test, Y_train, Y_test = train_test_split(\n",
    "x_train,y_train , test_size=0.25, random_state=41)"
   ]
  },
  {
   "cell_type": "code",
   "execution_count": 58,
   "metadata": {},
   "outputs": [],
   "source": [
    "X_train2, X_test2, Y_train2, Y_test2 = train_test_split(\n",
    "x_train2,y_train,test_size=0.25, random_state = 35)"
   ]
  },
  {
   "cell_type": "markdown",
   "metadata": {},
   "source": [
    "### Xgboost"
   ]
  },
  {
   "cell_type": "code",
   "execution_count": 59,
   "metadata": {},
   "outputs": [],
   "source": [
    "from xgboost import XGBClassifier"
   ]
  },
  {
   "cell_type": "code",
   "execution_count": 60,
   "metadata": {},
   "outputs": [
    {
     "data": {
      "text/plain": [
       "XGBClassifier(base_score=0.5, booster='gbtree', colsample_bylevel=1,\n",
       "       colsample_bytree=1, gamma=0, learning_rate=0.1, max_delta_step=0,\n",
       "       max_depth=3, min_child_weight=1, missing=None, n_estimators=100,\n",
       "       n_jobs=1, nthread=None, objective='binary:logistic', random_state=0,\n",
       "       reg_alpha=0, reg_lambda=1, scale_pos_weight=1, seed=None,\n",
       "       silent=True, subsample=1)"
      ]
     },
     "execution_count": 60,
     "metadata": {},
     "output_type": "execute_result"
    }
   ],
   "source": [
    "model = XGBClassifier()\n",
    "model.fit(X_train, Y_train)"
   ]
  },
  {
   "cell_type": "code",
   "execution_count": 61,
   "metadata": {},
   "outputs": [
    {
     "name": "stderr",
     "output_type": "stream",
     "text": [
      "C:\\Users\\wjssm\\Anaconda3\\lib\\site-packages\\sklearn\\preprocessing\\label.py:151: DeprecationWarning: The truth value of an empty array is ambiguous. Returning False, but in future this will result in an error. Use `array.size > 0` to check that an array is not empty.\n",
      "  if diff:\n"
     ]
    }
   ],
   "source": [
    "y_xg = model.predict(X_test)"
   ]
  },
  {
   "cell_type": "code",
   "execution_count": 62,
   "metadata": {},
   "outputs": [
    {
     "name": "stdout",
     "output_type": "stream",
     "text": [
      "[[49828  2319]\n",
      " [ 4179 14418]]\n",
      "             precision    recall  f1-score   support\n",
      "\n",
      "          0       0.92      0.96      0.94     52147\n",
      "          1       0.86      0.78      0.82     18597\n",
      "\n",
      "avg / total       0.91      0.91      0.91     70744\n",
      "\n",
      "0.816097809475293\n"
     ]
    }
   ],
   "source": [
    "print(confusion_matrix(Y_test,y_xg))\n",
    "print(classification_report(Y_test,y_xg))\n",
    "print(f1_score(Y_test,y_xg))"
   ]
  },
  {
   "cell_type": "code",
   "execution_count": 136,
   "metadata": {},
   "outputs": [
    {
     "data": {
      "text/plain": [
       "XGBClassifier(base_score=0.5, booster='gbtree', colsample_bylevel=1,\n",
       "       colsample_bytree=1, gamma=0, learning_rate=0.3, max_delta_step=0,\n",
       "       max_depth=4, min_child_weight=1, missing=None, n_estimators=100,\n",
       "       n_jobs=1, nthread=None, objective='binary:logistic', random_state=0,\n",
       "       reg_alpha=0, reg_lambda=1, scale_pos_weight=1, seed=None,\n",
       "       silent=True, subsample=1)"
      ]
     },
     "execution_count": 136,
     "metadata": {},
     "output_type": "execute_result"
    }
   ],
   "source": [
    "model = XGBClassifier(learning_rate=0.3,max_depth=4)\n",
    "model.fit(X_train, Y_train)"
   ]
  },
  {
   "cell_type": "code",
   "execution_count": 137,
   "metadata": {},
   "outputs": [
    {
     "name": "stderr",
     "output_type": "stream",
     "text": [
      "C:\\Users\\wjssm\\Anaconda3\\lib\\site-packages\\sklearn\\preprocessing\\label.py:151: DeprecationWarning: The truth value of an empty array is ambiguous. Returning False, but in future this will result in an error. Use `array.size > 0` to check that an array is not empty.\n",
      "  if diff:\n"
     ]
    }
   ],
   "source": [
    "y_xg = model.predict(X_test)"
   ]
  },
  {
   "cell_type": "code",
   "execution_count": 138,
   "metadata": {},
   "outputs": [
    {
     "name": "stdout",
     "output_type": "stream",
     "text": [
      "[[49893  2254]\n",
      " [ 4195 14402]]\n",
      "             precision    recall  f1-score   support\n",
      "\n",
      "          0       0.92      0.96      0.94     52147\n",
      "          1       0.86      0.77      0.82     18597\n",
      "\n",
      "avg / total       0.91      0.91      0.91     70744\n",
      "\n",
      "0.8170652143080022\n"
     ]
    }
   ],
   "source": [
    "print(confusion_matrix(Y_test,y_xg))\n",
    "print(classification_report(Y_test,y_xg))\n",
    "print(f1_score(Y_test,y_xg))"
   ]
  },
  {
   "cell_type": "code",
   "execution_count": null,
   "metadata": {},
   "outputs": [],
   "source": []
  },
  {
   "cell_type": "code",
   "execution_count": null,
   "metadata": {},
   "outputs": [],
   "source": []
  },
  {
   "cell_type": "code",
   "execution_count": 382,
   "metadata": {},
   "outputs": [],
   "source": [
    "import sklearn.linear_model as linear_model\n",
    "clf2 = linear_model.LogisticRegression()\n",
    "clf2.fit(X_train2,Y_train2)\n",
    "Y_pred2 = clf2.predict(X_test2)"
   ]
  },
  {
   "cell_type": "code",
   "execution_count": 383,
   "metadata": {},
   "outputs": [
    {
     "name": "stdout",
     "output_type": "stream",
     "text": [
      "[[50729  1271]\n",
      " [ 6234 12510]]\n",
      "             precision    recall  f1-score   support\n",
      "\n",
      "          0       0.89      0.98      0.93     52000\n",
      "          1       0.91      0.67      0.77     18744\n",
      "\n",
      "avg / total       0.90      0.89      0.89     70744\n",
      "\n",
      "0.7692544196771715\n"
     ]
    }
   ],
   "source": [
    "print(confusion_matrix(Y_test2,Y_pred2))\n",
    "print(classification_report(Y_test2,Y_pred2))\n",
    "print(f1_score(Y_test2,Y_pred2))"
   ]
  },
  {
   "cell_type": "code",
   "execution_count": 384,
   "metadata": {},
   "outputs": [
    {
     "data": {
      "text/plain": [
       "RandomForestClassifier(bootstrap=True, class_weight=None, criterion='gini',\n",
       "            max_depth=None, max_features='auto', max_leaf_nodes=None,\n",
       "            min_impurity_decrease=0.0, min_impurity_split=None,\n",
       "            min_samples_leaf=1, min_samples_split=2,\n",
       "            min_weight_fraction_leaf=0.0, n_estimators=10, n_jobs=1,\n",
       "            oob_score=False, random_state=None, verbose=0,\n",
       "            warm_start=False)"
      ]
     },
     "execution_count": 384,
     "metadata": {},
     "output_type": "execute_result"
    }
   ],
   "source": [
    "from sklearn.ensemble import RandomForestClassifier\n",
    "clf3 = RandomForestClassifier()\n",
    "clf3.fit(X_train,Y_train)"
   ]
  },
  {
   "cell_type": "code",
   "execution_count": 385,
   "metadata": {},
   "outputs": [],
   "source": [
    "Y_pred3 = clf3.predict(X_test)"
   ]
  },
  {
   "cell_type": "code",
   "execution_count": 386,
   "metadata": {},
   "outputs": [
    {
     "name": "stdout",
     "output_type": "stream",
     "text": [
      "[[48963  3184]\n",
      " [ 4662 13935]]\n",
      "             precision    recall  f1-score   support\n",
      "\n",
      "          0       0.91      0.94      0.93     52147\n",
      "          1       0.81      0.75      0.78     18597\n",
      "\n",
      "avg / total       0.89      0.89      0.89     70744\n",
      "\n",
      "0.7803225445178631\n"
     ]
    }
   ],
   "source": [
    "print(confusion_matrix(Y_test,Y_pred3))\n",
    "print(classification_report(Y_test,Y_pred3))\n",
    "print(f1_score(Y_test,Y_pred3))"
   ]
  },
  {
   "cell_type": "code",
   "execution_count": null,
   "metadata": {},
   "outputs": [],
   "source": []
  },
  {
   "cell_type": "markdown",
   "metadata": {},
   "source": [
    "# test set 전처리"
   ]
  },
  {
   "cell_type": "code",
   "execution_count": 387,
   "metadata": {},
   "outputs": [
    {
     "data": {
      "text/html": [
       "<div>\n",
       "<style scoped>\n",
       "    .dataframe tbody tr th:only-of-type {\n",
       "        vertical-align: middle;\n",
       "    }\n",
       "\n",
       "    .dataframe tbody tr th {\n",
       "        vertical-align: top;\n",
       "    }\n",
       "\n",
       "    .dataframe thead th {\n",
       "        text-align: right;\n",
       "    }\n",
       "</style>\n",
       "<table border=\"1\" class=\"dataframe\">\n",
       "  <thead>\n",
       "    <tr style=\"text-align: right;\">\n",
       "      <th></th>\n",
       "      <th>ID</th>\n",
       "      <th>label</th>\n",
       "      <th>EMPLOYER_NAME</th>\n",
       "      <th>SOC_NAME</th>\n",
       "      <th>JOB_TITLE</th>\n",
       "      <th>FULL_TIME_POSITION</th>\n",
       "      <th>PREVAILING_WAGE</th>\n",
       "      <th>YEAR</th>\n",
       "      <th>WORKSITE</th>\n",
       "      <th>STATE</th>\n",
       "      <th>CITY</th>\n",
       "      <th>COUNT</th>\n",
       "      <th>Cratio_E</th>\n",
       "      <th>Cratio_SOC</th>\n",
       "      <th>Cratio_J</th>\n",
       "      <th>Cratio_S</th>\n",
       "    </tr>\n",
       "  </thead>\n",
       "  <tbody>\n",
       "    <tr>\n",
       "      <th>0</th>\n",
       "      <td>19</td>\n",
       "      <td>0</td>\n",
       "      <td>QUICKLOGIX LLC</td>\n",
       "      <td>CHIEF EXECUTIVES</td>\n",
       "      <td>CEO</td>\n",
       "      <td>1</td>\n",
       "      <td>187200.0</td>\n",
       "      <td>2016</td>\n",
       "      <td>SANTA CLARA, CALIFORNIA</td>\n",
       "      <td>CALIFORNIA</td>\n",
       "      <td>SANTA CLARA</td>\n",
       "      <td>1</td>\n",
       "      <td>1.0</td>\n",
       "      <td>0.842002</td>\n",
       "      <td>0.786207</td>\n",
       "      <td>0.964762</td>\n",
       "    </tr>\n",
       "  </tbody>\n",
       "</table>\n",
       "</div>"
      ],
      "text/plain": [
       "   ID  label   EMPLOYER_NAME          SOC_NAME JOB_TITLE  FULL_TIME_POSITION  \\\n",
       "0  19      0  QUICKLOGIX LLC  CHIEF EXECUTIVES       CEO                   1   \n",
       "\n",
       "   PREVAILING_WAGE  YEAR                 WORKSITE        STATE         CITY  \\\n",
       "0         187200.0  2016  SANTA CLARA, CALIFORNIA   CALIFORNIA  SANTA CLARA   \n",
       "\n",
       "   COUNT  Cratio_E  Cratio_SOC  Cratio_J  Cratio_S  \n",
       "0      1       1.0    0.842002  0.786207  0.964762  "
      ]
     },
     "execution_count": 387,
     "metadata": {},
     "output_type": "execute_result"
    }
   ],
   "source": [
    "train8.head(1)"
   ]
  },
  {
   "cell_type": "code",
   "execution_count": 302,
   "metadata": {},
   "outputs": [],
   "source": [
    "path = 'C:/Users/MSI/Desktop/mini/BOAZ Mini Project (3)/h1b_test_no_ylabel.csv'\n",
    "test = pd.read_csv(path)"
   ]
  },
  {
   "cell_type": "code",
   "execution_count": 63,
   "metadata": {},
   "outputs": [
    {
     "data": {
      "text/html": [
       "<div>\n",
       "<style scoped>\n",
       "    .dataframe tbody tr th:only-of-type {\n",
       "        vertical-align: middle;\n",
       "    }\n",
       "\n",
       "    .dataframe tbody tr th {\n",
       "        vertical-align: top;\n",
       "    }\n",
       "\n",
       "    .dataframe thead th {\n",
       "        text-align: right;\n",
       "    }\n",
       "</style>\n",
       "<table border=\"1\" class=\"dataframe\">\n",
       "  <thead>\n",
       "    <tr style=\"text-align: right;\">\n",
       "      <th></th>\n",
       "      <th>ID</th>\n",
       "      <th>EMPLOYER_NAME</th>\n",
       "      <th>SOC_NAME</th>\n",
       "      <th>JOB_TITLE</th>\n",
       "      <th>FULL_TIME_POSITION</th>\n",
       "      <th>PREVAILING_WAGE</th>\n",
       "      <th>YEAR</th>\n",
       "      <th>WORKSITE</th>\n",
       "      <th>lon</th>\n",
       "      <th>lat</th>\n",
       "    </tr>\n",
       "  </thead>\n",
       "  <tbody>\n",
       "    <tr>\n",
       "      <th>0</th>\n",
       "      <td>2415925</td>\n",
       "      <td>ALBERT EINSTEIN MEDICAL CENTER</td>\n",
       "      <td>Healthcare Practitioners and Technical Workers...</td>\n",
       "      <td>MEDICAL RESIDENT - PGY 3</td>\n",
       "      <td>Y</td>\n",
       "      <td>43971.0</td>\n",
       "      <td>2012</td>\n",
       "      <td>PHILADELPHIA, PENNSYLVANIA</td>\n",
       "      <td>-75.165222</td>\n",
       "      <td>39.952584</td>\n",
       "    </tr>\n",
       "  </tbody>\n",
       "</table>\n",
       "</div>"
      ],
      "text/plain": [
       "        ID                   EMPLOYER_NAME  \\\n",
       "0  2415925  ALBERT EINSTEIN MEDICAL CENTER   \n",
       "\n",
       "                                            SOC_NAME  \\\n",
       "0  Healthcare Practitioners and Technical Workers...   \n",
       "\n",
       "                  JOB_TITLE FULL_TIME_POSITION  PREVAILING_WAGE  YEAR  \\\n",
       "0  MEDICAL RESIDENT - PGY 3                  Y          43971.0  2012   \n",
       "\n",
       "                     WORKSITE        lon        lat  \n",
       "0  PHILADELPHIA, PENNSYLVANIA -75.165222  39.952584  "
      ]
     },
     "execution_count": 63,
     "metadata": {},
     "output_type": "execute_result"
    }
   ],
   "source": [
    "test.head(1)"
   ]
  },
  {
   "cell_type": "code",
   "execution_count": 64,
   "metadata": {},
   "outputs": [],
   "source": [
    "test.rename(columns={'Unnamed: 0':'ID'},inplace=True)"
   ]
  },
  {
   "cell_type": "code",
   "execution_count": 65,
   "metadata": {},
   "outputs": [],
   "source": [
    "#문자 처리\n",
    "test['EMPLOYER_NAME'] = test['EMPLOYER_NAME'].str.upper()\n",
    "test['SOC_NAME'] = test['SOC_NAME'].str.upper()\n",
    "test['JOB_TITLE'] = test['JOB_TITLE'].str.upper()"
   ]
  },
  {
   "cell_type": "code",
   "execution_count": 66,
   "metadata": {},
   "outputs": [],
   "source": [
    "test1 = test.drop(['lon','lat'],1)"
   ]
  },
  {
   "cell_type": "code",
   "execution_count": 67,
   "metadata": {},
   "outputs": [],
   "source": [
    "test1['STATE'] = test1['WORKSITE'].apply(state_extractor)"
   ]
  },
  {
   "cell_type": "code",
   "execution_count": 68,
   "metadata": {},
   "outputs": [
    {
     "data": {
      "text/plain": [
       "ID                       0\n",
       "EMPLOYER_NAME            1\n",
       "SOC_NAME              3146\n",
       "JOB_TITLE                3\n",
       "FULL_TIME_POSITION       0\n",
       "PREVAILING_WAGE          5\n",
       "YEAR                     0\n",
       "WORKSITE                 0\n",
       "STATE                    0\n",
       "dtype: int64"
      ]
     },
     "execution_count": 68,
     "metadata": {},
     "output_type": "execute_result"
    }
   ],
   "source": [
    "test1.isnull().sum()"
   ]
  },
  {
   "cell_type": "code",
   "execution_count": 69,
   "metadata": {},
   "outputs": [],
   "source": [
    "test_nan = test1[test1.isnull()['EMPLOYER_NAME']]['ID']"
   ]
  },
  {
   "cell_type": "code",
   "execution_count": 70,
   "metadata": {},
   "outputs": [
    {
     "name": "stdout",
     "output_type": "stream",
     "text": [
      "wage결측값: 5\n",
      "저임금: 10\n",
      "고임금 4\n",
      "특정 임금 9\n"
     ]
    }
   ],
   "source": [
    "t_w1 = test1[test1.isnull()['PREVAILING_WAGE']]\n",
    "print('wage결측값:',t_w1.shape[0])\n",
    "t_w2 = test1[test1.PREVAILING_WAGE <= 10000]\n",
    "print('저임금:',t_w2.shape[0])\n",
    "t_w3 = test1[test1.PREVAILING_WAGE >= 300000000]\n",
    "print('고임금',t_w3.shape[0])\n",
    "t_w4 = test1[(test.PREVAILING_WAGE < 10000000)&(test.PREVAILING_WAGE > 6500000)]\n",
    "print('특정 임금',t_w4.shape[0])"
   ]
  },
  {
   "cell_type": "code",
   "execution_count": 71,
   "metadata": {},
   "outputs": [],
   "source": [
    "test_nan1 = pd.concat([test_nan,t_w1['ID'],t_w2['ID'],t_w3['ID'],t_w4['ID']],axis = 0) \n",
    "test_nan1 = pd.DataFrame(test_nan1)"
   ]
  },
  {
   "cell_type": "code",
   "execution_count": 72,
   "metadata": {},
   "outputs": [
    {
     "name": "stdout",
     "output_type": "stream",
     "text": [
      "29\n"
     ]
    }
   ],
   "source": [
    "print(test_nan1.shape[0])"
   ]
  },
  {
   "cell_type": "code",
   "execution_count": 73,
   "metadata": {},
   "outputs": [],
   "source": [
    "test_nan1['label'] = np.ones(29)"
   ]
  },
  {
   "cell_type": "code",
   "execution_count": 74,
   "metadata": {},
   "outputs": [],
   "source": [
    "test1_1 = test1[(test1.PREVAILING_WAGE>10000)&(test1.PREVAILING_WAGE<300000000)].dropna(subset=['EMPLOYER_NAME']).copy()"
   ]
  },
  {
   "cell_type": "code",
   "execution_count": 75,
   "metadata": {},
   "outputs": [],
   "source": [
    "test_df = test1_1[(test1_1.PREVAILING_WAGE >= 10000000)|(test1_1.PREVAILING_WAGE <= 6500000)]"
   ]
  },
  {
   "cell_type": "code",
   "execution_count": 76,
   "metadata": {},
   "outputs": [
    {
     "data": {
      "text/plain": [
       "541531"
      ]
     },
     "execution_count": 76,
     "metadata": {},
     "output_type": "execute_result"
    }
   ],
   "source": [
    "len(test_df)"
   ]
  },
  {
   "cell_type": "code",
   "execution_count": 77,
   "metadata": {
    "scrolled": true
   },
   "outputs": [
    {
     "data": {
      "text/plain": [
       "ID                       0\n",
       "EMPLOYER_NAME            0\n",
       "SOC_NAME              3146\n",
       "JOB_TITLE                3\n",
       "FULL_TIME_POSITION       0\n",
       "PREVAILING_WAGE          0\n",
       "YEAR                     0\n",
       "WORKSITE                 0\n",
       "STATE                    0\n",
       "dtype: int64"
      ]
     },
     "execution_count": 77,
     "metadata": {},
     "output_type": "execute_result"
    }
   ],
   "source": [
    "test_df.isnull().sum()"
   ]
  },
  {
   "cell_type": "code",
   "execution_count": 78,
   "metadata": {},
   "outputs": [],
   "source": [
    "emp2dratio_e = {}\n",
    "df1 = train6[['EMPLOYER_NAME','Cratio_E']]\n",
    "for i in range(df1.shape[0]):\n",
    "    emp2dratio_e[df1['EMPLOYER_NAME'].iloc[i]] = df1['Cratio_E'].iloc[i]"
   ]
  },
  {
   "cell_type": "code",
   "execution_count": 79,
   "metadata": {},
   "outputs": [],
   "source": [
    "soc2dratio_soc = {}\n",
    "df2 = train6[['SOC_NAME','Cratio_SOC']]\n",
    "for i in range(df2.shape[0]):\n",
    "    soc2dratio_soc[df2['SOC_NAME'].iloc[i]] = df2['Cratio_SOC'].iloc[i]"
   ]
  },
  {
   "cell_type": "code",
   "execution_count": 80,
   "metadata": {},
   "outputs": [],
   "source": [
    "job2dratio_J = {}\n",
    "df3 = train6[['JOB_TITLE','Cratio_J']]\n",
    "for i in range(df3.shape[0]):\n",
    "    job2dratio_J[df3['JOB_TITLE'].iloc[i]] = df3['Cratio_J'].iloc[i]"
   ]
  },
  {
   "cell_type": "code",
   "execution_count": 81,
   "metadata": {},
   "outputs": [],
   "source": [
    "state2dratio_S = {}\n",
    "df4 = train6[['STATE','Cratio_S']]\n",
    "for i in range(df4.shape[0]):\n",
    "    state2dratio_S[df4['STATE'].iloc[i]] = df4['Cratio_S'].iloc[i]"
   ]
  },
  {
   "cell_type": "code",
   "execution_count": null,
   "metadata": {},
   "outputs": [],
   "source": []
  },
  {
   "cell_type": "code",
   "execution_count": 82,
   "metadata": {},
   "outputs": [],
   "source": [
    "test_emp_count_df = pd.DataFrame(test_df['EMPLOYER_NAME'].value_counts()).reset_index()\n",
    "test_emp_count_df.columns = ['EMPLOYER_NAME','COUNT']\n",
    "test_df_1 = pd.merge(test_df,test_emp_count_df,on = 'EMPLOYER_NAME', how = 'inner')"
   ]
  },
  {
   "cell_type": "code",
   "execution_count": 83,
   "metadata": {},
   "outputs": [
    {
     "data": {
      "text/html": [
       "<div>\n",
       "<style scoped>\n",
       "    .dataframe tbody tr th:only-of-type {\n",
       "        vertical-align: middle;\n",
       "    }\n",
       "\n",
       "    .dataframe tbody tr th {\n",
       "        vertical-align: top;\n",
       "    }\n",
       "\n",
       "    .dataframe thead th {\n",
       "        text-align: right;\n",
       "    }\n",
       "</style>\n",
       "<table border=\"1\" class=\"dataframe\">\n",
       "  <thead>\n",
       "    <tr style=\"text-align: right;\">\n",
       "      <th></th>\n",
       "      <th>ID</th>\n",
       "      <th>EMPLOYER_NAME</th>\n",
       "      <th>SOC_NAME</th>\n",
       "      <th>JOB_TITLE</th>\n",
       "      <th>FULL_TIME_POSITION</th>\n",
       "      <th>PREVAILING_WAGE</th>\n",
       "      <th>YEAR</th>\n",
       "      <th>WORKSITE</th>\n",
       "      <th>STATE</th>\n",
       "      <th>COUNT</th>\n",
       "    </tr>\n",
       "  </thead>\n",
       "  <tbody>\n",
       "    <tr>\n",
       "      <th>0</th>\n",
       "      <td>2415925</td>\n",
       "      <td>ALBERT EINSTEIN MEDICAL CENTER</td>\n",
       "      <td>HEALTHCARE PRACTITIONERS AND TECHNICAL WORKERS...</td>\n",
       "      <td>MEDICAL RESIDENT - PGY 3</td>\n",
       "      <td>Y</td>\n",
       "      <td>43971.0</td>\n",
       "      <td>2012</td>\n",
       "      <td>PHILADELPHIA, PENNSYLVANIA</td>\n",
       "      <td>PENNSYLVANIA</td>\n",
       "      <td>30</td>\n",
       "    </tr>\n",
       "  </tbody>\n",
       "</table>\n",
       "</div>"
      ],
      "text/plain": [
       "        ID                   EMPLOYER_NAME  \\\n",
       "0  2415925  ALBERT EINSTEIN MEDICAL CENTER   \n",
       "\n",
       "                                            SOC_NAME  \\\n",
       "0  HEALTHCARE PRACTITIONERS AND TECHNICAL WORKERS...   \n",
       "\n",
       "                  JOB_TITLE FULL_TIME_POSITION  PREVAILING_WAGE  YEAR  \\\n",
       "0  MEDICAL RESIDENT - PGY 3                  Y          43971.0  2012   \n",
       "\n",
       "                     WORKSITE          STATE  COUNT  \n",
       "0  PHILADELPHIA, PENNSYLVANIA   PENNSYLVANIA     30  "
      ]
     },
     "execution_count": 83,
     "metadata": {},
     "output_type": "execute_result"
    }
   ],
   "source": [
    "test_df_1.head(1)"
   ]
  },
  {
   "cell_type": "code",
   "execution_count": 84,
   "metadata": {},
   "outputs": [],
   "source": [
    "df = test_df_1['EMPLOYER_NAME']\n",
    "df_1 = test_df_1['COUNT']\n",
    "e = []\n",
    "for i in range(df.shape[0]):\n",
    "    try:\n",
    "        e.append(emp2dratio_e[df.iloc[i]])\n",
    "    except:\n",
    "        e.append((8*df_1.iloc[i])/10)"
   ]
  },
  {
   "cell_type": "code",
   "execution_count": 85,
   "metadata": {},
   "outputs": [],
   "source": [
    "test_df_1['Cratio_E'] = e"
   ]
  },
  {
   "cell_type": "code",
   "execution_count": 86,
   "metadata": {},
   "outputs": [],
   "source": [
    "df = test_df['SOC_NAME']\n",
    "cs = []\n",
    "for i in range(df.shape[0]):\n",
    "    try:\n",
    "        cs.append(soc2dratio_soc[df.iloc[i]])\n",
    "    except:\n",
    "        cs.append(0.9)"
   ]
  },
  {
   "cell_type": "code",
   "execution_count": 87,
   "metadata": {},
   "outputs": [],
   "source": [
    "test_df_1['Cratio_SOC'] = cs"
   ]
  },
  {
   "cell_type": "code",
   "execution_count": 88,
   "metadata": {},
   "outputs": [],
   "source": [
    "df = test_df['JOB_TITLE']\n",
    "j = []\n",
    "for i in range(df.shape[0]):\n",
    "    try:\n",
    "        j.append(job2dratio_J[df.iloc[i]])\n",
    "    except:\n",
    "        j.append(0.8)"
   ]
  },
  {
   "cell_type": "code",
   "execution_count": 89,
   "metadata": {},
   "outputs": [],
   "source": [
    "test_df_1['Cratio_J'] = j"
   ]
  },
  {
   "cell_type": "code",
   "execution_count": 90,
   "metadata": {},
   "outputs": [],
   "source": [
    "df = test_df['STATE']\n",
    "s = []\n",
    "for i in range(df.shape[0]):\n",
    "    try:\n",
    "        s.append(state2dratio_S[df.iloc[i]])\n",
    "    except:\n",
    "        s.append(0.9)"
   ]
  },
  {
   "cell_type": "code",
   "execution_count": 91,
   "metadata": {},
   "outputs": [],
   "source": [
    "test_df_1['Cratio_S'] = s"
   ]
  },
  {
   "cell_type": "code",
   "execution_count": 92,
   "metadata": {},
   "outputs": [],
   "source": [
    "test_df_1['FULL_TIME_POSITION'] = test_df_1['FULL_TIME_POSITION'].apply(lambda x : FTP_dict[x])"
   ]
  },
  {
   "cell_type": "code",
   "execution_count": 93,
   "metadata": {},
   "outputs": [
    {
     "data": {
      "text/html": [
       "<div>\n",
       "<style scoped>\n",
       "    .dataframe tbody tr th:only-of-type {\n",
       "        vertical-align: middle;\n",
       "    }\n",
       "\n",
       "    .dataframe tbody tr th {\n",
       "        vertical-align: top;\n",
       "    }\n",
       "\n",
       "    .dataframe thead th {\n",
       "        text-align: right;\n",
       "    }\n",
       "</style>\n",
       "<table border=\"1\" class=\"dataframe\">\n",
       "  <thead>\n",
       "    <tr style=\"text-align: right;\">\n",
       "      <th></th>\n",
       "      <th>ID</th>\n",
       "      <th>EMPLOYER_NAME</th>\n",
       "      <th>SOC_NAME</th>\n",
       "      <th>JOB_TITLE</th>\n",
       "      <th>FULL_TIME_POSITION</th>\n",
       "      <th>PREVAILING_WAGE</th>\n",
       "      <th>YEAR</th>\n",
       "      <th>WORKSITE</th>\n",
       "      <th>STATE</th>\n",
       "      <th>COUNT</th>\n",
       "      <th>Cratio_E</th>\n",
       "      <th>Cratio_SOC</th>\n",
       "      <th>Cratio_J</th>\n",
       "      <th>Cratio_S</th>\n",
       "    </tr>\n",
       "  </thead>\n",
       "  <tbody>\n",
       "    <tr>\n",
       "      <th>0</th>\n",
       "      <td>2415925</td>\n",
       "      <td>ALBERT EINSTEIN MEDICAL CENTER</td>\n",
       "      <td>HEALTHCARE PRACTITIONERS AND TECHNICAL WORKERS...</td>\n",
       "      <td>MEDICAL RESIDENT - PGY 3</td>\n",
       "      <td>1</td>\n",
       "      <td>43971.0</td>\n",
       "      <td>2012</td>\n",
       "      <td>PHILADELPHIA, PENNSYLVANIA</td>\n",
       "      <td>PENNSYLVANIA</td>\n",
       "      <td>30</td>\n",
       "      <td>0.992308</td>\n",
       "      <td>0.936815</td>\n",
       "      <td>1.0</td>\n",
       "      <td>0.97243</td>\n",
       "    </tr>\n",
       "  </tbody>\n",
       "</table>\n",
       "</div>"
      ],
      "text/plain": [
       "        ID                   EMPLOYER_NAME  \\\n",
       "0  2415925  ALBERT EINSTEIN MEDICAL CENTER   \n",
       "\n",
       "                                            SOC_NAME  \\\n",
       "0  HEALTHCARE PRACTITIONERS AND TECHNICAL WORKERS...   \n",
       "\n",
       "                  JOB_TITLE  FULL_TIME_POSITION  PREVAILING_WAGE  YEAR  \\\n",
       "0  MEDICAL RESIDENT - PGY 3                   1          43971.0  2012   \n",
       "\n",
       "                     WORKSITE          STATE  COUNT  Cratio_E  Cratio_SOC  \\\n",
       "0  PHILADELPHIA, PENNSYLVANIA   PENNSYLVANIA     30  0.992308    0.936815   \n",
       "\n",
       "   Cratio_J  Cratio_S  \n",
       "0       1.0   0.97243  "
      ]
     },
     "execution_count": 93,
     "metadata": {},
     "output_type": "execute_result"
    }
   ],
   "source": [
    "test_df_1.head(1)"
   ]
  },
  {
   "cell_type": "code",
   "execution_count": 94,
   "metadata": {},
   "outputs": [
    {
     "data": {
      "text/plain": [
       "['label',\n",
       " 'COUNT',\n",
       " 'STATE',\n",
       " 'PREVAILING_WAGE',\n",
       " 'YEAR',\n",
       " 'Cratio_E',\n",
       " 'Cratio_SOC',\n",
       " 'Cratio_J',\n",
       " 'Cratio_S']"
      ]
     },
     "execution_count": 94,
     "metadata": {},
     "output_type": "execute_result"
    }
   ],
   "source": [
    "F"
   ]
  },
  {
   "cell_type": "code",
   "execution_count": 95,
   "metadata": {},
   "outputs": [
    {
     "data": {
      "text/plain": [
       "['label', 'YEAR', 'Cratio_SOC', 'Cratio_J', 'Cratio_E', 'Cratio_S']"
      ]
     },
     "execution_count": 95,
     "metadata": {},
     "output_type": "execute_result"
    }
   ],
   "source": [
    "F_1"
   ]
  },
  {
   "cell_type": "code",
   "execution_count": 96,
   "metadata": {},
   "outputs": [],
   "source": [
    "tF = ['ID',\n",
    " 'YEAR',\n",
    " 'Cratio_SOC',\n",
    " 'Cratio_J',\n",
    "  'Cratio_E',\n",
    " 'Cratio_S']"
   ]
  },
  {
   "cell_type": "code",
   "execution_count": 97,
   "metadata": {},
   "outputs": [],
   "source": [
    "test_df2 = test_df_1[tF]"
   ]
  },
  {
   "cell_type": "code",
   "execution_count": 98,
   "metadata": {},
   "outputs": [],
   "source": [
    "test_df3 = test_df2.sort_values(['ID'])"
   ]
  },
  {
   "cell_type": "code",
   "execution_count": 99,
   "metadata": {},
   "outputs": [],
   "source": [
    "test_dfID = pd.DataFrame(test_df3['ID'])"
   ]
  },
  {
   "cell_type": "code",
   "execution_count": 100,
   "metadata": {},
   "outputs": [],
   "source": [
    "test_df4 = test_df3.drop(['ID'],1)"
   ]
  },
  {
   "cell_type": "code",
   "execution_count": 101,
   "metadata": {},
   "outputs": [],
   "source": [
    "test_df5 = pd.get_dummies(test_df4,columns = ['YEAR'])"
   ]
  },
  {
   "cell_type": "code",
   "execution_count": 102,
   "metadata": {},
   "outputs": [],
   "source": [
    "x_test = test_df5.copy()"
   ]
  },
  {
   "cell_type": "code",
   "execution_count": 103,
   "metadata": {},
   "outputs": [
    {
     "data": {
      "text/html": [
       "<div>\n",
       "<style scoped>\n",
       "    .dataframe tbody tr th:only-of-type {\n",
       "        vertical-align: middle;\n",
       "    }\n",
       "\n",
       "    .dataframe tbody tr th {\n",
       "        vertical-align: top;\n",
       "    }\n",
       "\n",
       "    .dataframe thead th {\n",
       "        text-align: right;\n",
       "    }\n",
       "</style>\n",
       "<table border=\"1\" class=\"dataframe\">\n",
       "  <thead>\n",
       "    <tr style=\"text-align: right;\">\n",
       "      <th></th>\n",
       "      <th>Cratio_SOC</th>\n",
       "      <th>Cratio_J</th>\n",
       "      <th>Cratio_E</th>\n",
       "      <th>Cratio_S</th>\n",
       "      <th>YEAR_2011</th>\n",
       "      <th>YEAR_2012</th>\n",
       "      <th>YEAR_2013</th>\n",
       "      <th>YEAR_2014</th>\n",
       "      <th>YEAR_2015</th>\n",
       "      <th>YEAR_2016</th>\n",
       "    </tr>\n",
       "  </thead>\n",
       "  <tbody>\n",
       "    <tr>\n",
       "      <th>486848</th>\n",
       "      <td>0.979639</td>\n",
       "      <td>0.965988</td>\n",
       "      <td>0.998075</td>\n",
       "      <td>0.969902</td>\n",
       "      <td>0</td>\n",
       "      <td>0</td>\n",
       "      <td>0</td>\n",
       "      <td>1</td>\n",
       "      <td>0</td>\n",
       "      <td>0</td>\n",
       "    </tr>\n",
       "    <tr>\n",
       "      <th>185744</th>\n",
       "      <td>0.984621</td>\n",
       "      <td>0.981938</td>\n",
       "      <td>0.984745</td>\n",
       "      <td>0.964762</td>\n",
       "      <td>0</td>\n",
       "      <td>0</td>\n",
       "      <td>1</td>\n",
       "      <td>0</td>\n",
       "      <td>0</td>\n",
       "      <td>0</td>\n",
       "    </tr>\n",
       "    <tr>\n",
       "      <th>652901</th>\n",
       "      <td>0.984621</td>\n",
       "      <td>1.000000</td>\n",
       "      <td>0.964286</td>\n",
       "      <td>0.951717</td>\n",
       "      <td>1</td>\n",
       "      <td>0</td>\n",
       "      <td>0</td>\n",
       "      <td>0</td>\n",
       "      <td>0</td>\n",
       "      <td>0</td>\n",
       "    </tr>\n",
       "    <tr>\n",
       "      <th>1767012</th>\n",
       "      <td>0.969758</td>\n",
       "      <td>0.998150</td>\n",
       "      <td>0.997525</td>\n",
       "      <td>0.970307</td>\n",
       "      <td>0</td>\n",
       "      <td>0</td>\n",
       "      <td>0</td>\n",
       "      <td>1</td>\n",
       "      <td>0</td>\n",
       "      <td>0</td>\n",
       "    </tr>\n",
       "    <tr>\n",
       "      <th>1104543</th>\n",
       "      <td>0.970591</td>\n",
       "      <td>0.972966</td>\n",
       "      <td>0.968750</td>\n",
       "      <td>0.973284</td>\n",
       "      <td>0</td>\n",
       "      <td>1</td>\n",
       "      <td>0</td>\n",
       "      <td>0</td>\n",
       "      <td>0</td>\n",
       "      <td>0</td>\n",
       "    </tr>\n",
       "  </tbody>\n",
       "</table>\n",
       "</div>"
      ],
      "text/plain": [
       "         Cratio_SOC  Cratio_J  Cratio_E  Cratio_S  YEAR_2011  YEAR_2012  \\\n",
       "486848     0.979639  0.965988  0.998075  0.969902          0          0   \n",
       "185744     0.984621  0.981938  0.984745  0.964762          0          0   \n",
       "652901     0.984621  1.000000  0.964286  0.951717          1          0   \n",
       "1767012    0.969758  0.998150  0.997525  0.970307          0          0   \n",
       "1104543    0.970591  0.972966  0.968750  0.973284          0          1   \n",
       "\n",
       "         YEAR_2013  YEAR_2014  YEAR_2015  YEAR_2016  \n",
       "486848           0          1          0          0  \n",
       "185744           1          0          0          0  \n",
       "652901           0          0          0          0  \n",
       "1767012          0          1          0          0  \n",
       "1104543          0          0          0          0  "
      ]
     },
     "execution_count": 103,
     "metadata": {},
     "output_type": "execute_result"
    }
   ],
   "source": [
    "x_train.head()"
   ]
  },
  {
   "cell_type": "code",
   "execution_count": 104,
   "metadata": {},
   "outputs": [
    {
     "data": {
      "text/html": [
       "<div>\n",
       "<style scoped>\n",
       "    .dataframe tbody tr th:only-of-type {\n",
       "        vertical-align: middle;\n",
       "    }\n",
       "\n",
       "    .dataframe tbody tr th {\n",
       "        vertical-align: top;\n",
       "    }\n",
       "\n",
       "    .dataframe thead th {\n",
       "        text-align: right;\n",
       "    }\n",
       "</style>\n",
       "<table border=\"1\" class=\"dataframe\">\n",
       "  <thead>\n",
       "    <tr style=\"text-align: right;\">\n",
       "      <th></th>\n",
       "      <th>Cratio_SOC</th>\n",
       "      <th>Cratio_J</th>\n",
       "      <th>Cratio_E</th>\n",
       "      <th>Cratio_S</th>\n",
       "      <th>YEAR_2011</th>\n",
       "      <th>YEAR_2012</th>\n",
       "      <th>YEAR_2013</th>\n",
       "      <th>YEAR_2014</th>\n",
       "      <th>YEAR_2015</th>\n",
       "      <th>YEAR_2016</th>\n",
       "    </tr>\n",
       "  </thead>\n",
       "  <tbody>\n",
       "    <tr>\n",
       "      <th>476556</th>\n",
       "      <td>0.981873</td>\n",
       "      <td>0.984134</td>\n",
       "      <td>1.0</td>\n",
       "      <td>0.942625</td>\n",
       "      <td>0</td>\n",
       "      <td>0</td>\n",
       "      <td>0</td>\n",
       "      <td>0</td>\n",
       "      <td>0</td>\n",
       "      <td>1</td>\n",
       "    </tr>\n",
       "    <tr>\n",
       "      <th>490978</th>\n",
       "      <td>0.975708</td>\n",
       "      <td>0.991701</td>\n",
       "      <td>1.0</td>\n",
       "      <td>0.967577</td>\n",
       "      <td>0</td>\n",
       "      <td>0</td>\n",
       "      <td>0</td>\n",
       "      <td>0</td>\n",
       "      <td>0</td>\n",
       "      <td>1</td>\n",
       "    </tr>\n",
       "    <tr>\n",
       "      <th>515217</th>\n",
       "      <td>0.982354</td>\n",
       "      <td>0.985199</td>\n",
       "      <td>1.0</td>\n",
       "      <td>0.951717</td>\n",
       "      <td>0</td>\n",
       "      <td>0</td>\n",
       "      <td>0</td>\n",
       "      <td>0</td>\n",
       "      <td>0</td>\n",
       "      <td>1</td>\n",
       "    </tr>\n",
       "    <tr>\n",
       "      <th>377523</th>\n",
       "      <td>0.974954</td>\n",
       "      <td>1.000000</td>\n",
       "      <td>1.0</td>\n",
       "      <td>0.974847</td>\n",
       "      <td>0</td>\n",
       "      <td>0</td>\n",
       "      <td>0</td>\n",
       "      <td>0</td>\n",
       "      <td>0</td>\n",
       "      <td>1</td>\n",
       "    </tr>\n",
       "    <tr>\n",
       "      <th>403095</th>\n",
       "      <td>0.975708</td>\n",
       "      <td>0.959601</td>\n",
       "      <td>0.8</td>\n",
       "      <td>0.951717</td>\n",
       "      <td>0</td>\n",
       "      <td>0</td>\n",
       "      <td>0</td>\n",
       "      <td>0</td>\n",
       "      <td>0</td>\n",
       "      <td>1</td>\n",
       "    </tr>\n",
       "  </tbody>\n",
       "</table>\n",
       "</div>"
      ],
      "text/plain": [
       "        Cratio_SOC  Cratio_J  Cratio_E  Cratio_S  YEAR_2011  YEAR_2012  \\\n",
       "476556    0.981873  0.984134       1.0  0.942625          0          0   \n",
       "490978    0.975708  0.991701       1.0  0.967577          0          0   \n",
       "515217    0.982354  0.985199       1.0  0.951717          0          0   \n",
       "377523    0.974954  1.000000       1.0  0.974847          0          0   \n",
       "403095    0.975708  0.959601       0.8  0.951717          0          0   \n",
       "\n",
       "        YEAR_2013  YEAR_2014  YEAR_2015  YEAR_2016  \n",
       "476556          0          0          0          1  \n",
       "490978          0          0          0          1  \n",
       "515217          0          0          0          1  \n",
       "377523          0          0          0          1  \n",
       "403095          0          0          0          1  "
      ]
     },
     "execution_count": 104,
     "metadata": {},
     "output_type": "execute_result"
    }
   ],
   "source": [
    "x_test.head()"
   ]
  },
  {
   "cell_type": "code",
   "execution_count": 105,
   "metadata": {},
   "outputs": [
    {
     "name": "stdout",
     "output_type": "stream",
     "text": [
      "x_train,x_test 준비 완료\n"
     ]
    }
   ],
   "source": [
    "num1 = 0; num2 = 0\n",
    "for i in range(len(x_train.columns.values)):\n",
    "    if x_train.columns.values[i] == x_test.columns.values[i]:\n",
    "        num1 += 1\n",
    "    else:\n",
    "        num2 += 1\n",
    "if num1 == len(x_train.columns.values):\n",
    "    print('x_train,x_test 준비 완료')\n",
    "else:\n",
    "    print('train,test 다시 준비 필요')"
   ]
  },
  {
   "cell_type": "code",
   "execution_count": 106,
   "metadata": {},
   "outputs": [],
   "source": [
    "x_test2 = X_scaler.fit_transform(x_test)"
   ]
  },
  {
   "cell_type": "markdown",
   "metadata": {},
   "source": [
    "# prediction"
   ]
  },
  {
   "cell_type": "code",
   "execution_count": 107,
   "metadata": {},
   "outputs": [
    {
     "name": "stderr",
     "output_type": "stream",
     "text": [
      "C:\\Users\\wjssm\\Anaconda3\\lib\\site-packages\\sklearn\\preprocessing\\label.py:151: DeprecationWarning: The truth value of an empty array is ambiguous. Returning False, but in future this will result in an error. Use `array.size > 0` to check that an array is not empty.\n",
      "  if diff:\n"
     ]
    }
   ],
   "source": [
    "#xgboost\n",
    "y_pred3 = model.predict(x_test)"
   ]
  },
  {
   "cell_type": "code",
   "execution_count": 108,
   "metadata": {},
   "outputs": [
    {
     "data": {
      "text/plain": [
       "0.0    88.473669\n",
       "1.0    11.526331\n",
       "Name: label, dtype: float64"
      ]
     },
     "execution_count": 108,
     "metadata": {},
     "output_type": "execute_result"
    }
   ],
   "source": [
    "test_dfID3 = test_dfID.copy()\n",
    "test_dfID3['label'] = y_pred3\n",
    "ans3 = pd.concat([test_dfID3,test_nan1],axis=0)\n",
    "ans3['label'].value_counts()*100/ans3['label'].shape[0]"
   ]
  },
  {
   "cell_type": "code",
   "execution_count": 109,
   "metadata": {},
   "outputs": [],
   "source": [
    "test_real_ID = test[['ID','EMPLOYER_NAME']]\n",
    "ans3r = pd.merge(test_real_ID, ans3, left_on = None )"
   ]
  },
  {
   "cell_type": "code",
   "execution_count": 110,
   "metadata": {},
   "outputs": [
    {
     "name": "stdout",
     "output_type": "stream",
     "text": [
      "test 완료\n"
     ]
    }
   ],
   "source": [
    "num1 = 0; num2 = 0\n",
    "for i in range(len(test['ID'])):\n",
    "    if ans3r['ID'].iloc[i] == test['ID'].iloc[i]:\n",
    "        num1 += 1\n",
    "    else:\n",
    "        num2 +=1\n",
    "if num1 == len(test['ID']):\n",
    "    print('test 완료')\n",
    "else:\n",
    "    print('정렬 다시',num2)"
   ]
  },
  {
   "cell_type": "code",
   "execution_count": 111,
   "metadata": {},
   "outputs": [],
   "source": [
    "path = './test.csv'\n",
    "ans3r.to_csv(path,index = False)"
   ]
  },
  {
   "cell_type": "code",
   "execution_count": null,
   "metadata": {},
   "outputs": [],
   "source": []
  },
  {
   "cell_type": "code",
   "execution_count": null,
   "metadata": {},
   "outputs": [],
   "source": []
  }
 ],
 "metadata": {
  "kernelspec": {
   "display_name": "Python 3",
   "language": "python",
   "name": "python3"
  },
  "language_info": {
   "codemirror_mode": {
    "name": "ipython",
    "version": 3
   },
   "file_extension": ".py",
   "mimetype": "text/x-python",
   "name": "python",
   "nbconvert_exporter": "python",
   "pygments_lexer": "ipython3",
   "version": "3.6.5"
  }
 },
 "nbformat": 4,
 "nbformat_minor": 2
}
